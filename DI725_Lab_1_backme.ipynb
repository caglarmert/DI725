{
  "cells": [
    {
      "cell_type": "markdown",
      "metadata": {
        "id": "view-in-github",
        "colab_type": "text"
      },
      "source": [
        "<a href=\"https://colab.research.google.com/github/caglarmert/DI725/blob/main/DI725_Lab_1_backme.ipynb\" target=\"_parent\"><img src=\"https://colab.research.google.com/assets/colab-badge.svg\" alt=\"Open In Colab\"/></a>"
      ]
    },
    {
      "cell_type": "markdown",
      "id": "3745686a-405f-4729-a239-ffd17f6c5087",
      "metadata": {
        "id": "3745686a-405f-4729-a239-ffd17f6c5087"
      },
      "source": [
        "# DI 725: Transformers and Attention-Based Deep Networks\n",
        "\n",
        "## An End-to-End Tutorial for Implementing Transformers\n",
        "\n",
        "The purpose of this notebook is to introduce the transformers architecture, building different types of transformers and its adaptations to various tasks.\n",
        "\n",
        "In this notebook, there will be three different tasks, suitable to demonstrate Encoder-Transformer, Decoder-Transformer and Encoder-Decoder Transformer architectures.\n",
        "\n",
        "### Authors:\n",
        "* Tuğba Taşkaya Temizel: ttemizel@metu.edu.tr\n",
        "* Alptekin Temizel: atemizel@metu.edu.tr\n",
        "* Ümit Mert Çağlar: mecaglar@metu.edu.tr"
      ]
    },
    {
      "cell_type": "markdown",
      "id": "c0f81a53-355d-456d-90d1-9b5432dd1ce7",
      "metadata": {
        "id": "c0f81a53-355d-456d-90d1-9b5432dd1ce7"
      },
      "source": [
        "# Introduction"
      ]
    },
    {
      "cell_type": "markdown",
      "id": "c5125f78-dea0-4c0e-ab42-5978b7b2633e",
      "metadata": {
        "id": "c5125f78-dea0-4c0e-ab42-5978b7b2633e"
      },
      "source": [
        "## Attention Is All You Need\n",
        "\n",
        "<div>\n",
        "<img src=\"https://github.com/caglarmert/DI725/blob/main/src/attention_research_1.png?raw=true\" width=\"400\"/>\n",
        "</div>\n",
        "\n",
        "---\n",
        "Just by observing the architecture we can spot some important aspects of the Transformer architecture.\n",
        "* First, we have [embeddings](https://arxiv.org/abs/1608.05859) at the input and\n",
        "output, these are required in many tasks, to transform data into high dimensional vectors.\n",
        "* Second, we have [Positional Encoding](https://arxiv.org/pdf/1705.03122.pdf), which we require for the Transformer model to understand and relate the relative position of input and output tokens or embeddings.\n",
        "* On the left-hand side, we have the Encoder structure, which is a stacked network (depicted with Nx), that has the subcomponents of a Multi-Head Attention and a Feed Forward Network.\n",
        "* The attention mechanism, has Query, Key and Value (Q K V) as inputs, and all three of them are fed into the Multi-Head Attention block. This mechanism is the building pillar of Transformers, also highlighted by the authors:\n",
        " * *In this work we propose the Transformer, a model architecture eschewing recurrence and instead relying entirely on an attention mechanism to draw global dependencies between input and output.*\n",
        " * *An attention function can be described as mapping a query and a set of key-value pairs to an output, where the query, keys, values, and output are all vectors. The output is computed as a weighted sum of the values, where the weight assigned to each value is computed by a compatibility function of the query with the corresponding key.*\n",
        "* We can also observe the Residual Connections and Layer Normalization block applied right after the attention and feed forward blocks. [Residual Connections](https://arxiv.org/abs/1512.03385) is an important factor that enables gradient flow in deeper networks. And [Layer Normalization](https://arxiv.org/abs/1607.06450) helps with the model training. Also the [Dropout](https://jmlr.org/papers/v15/srivastava14a.html) mechanism is applied for all sub-layers and it helps with the training.\n",
        "* Similarly on the right-hand side, we have another stacked architecture, but this time it is in the form of the Decoder structure.\n",
        "* The first attention mechanism we observe is ***Masked*** Multi-Head Self-Attention. It is masked to make sure that model only observes and attends to the previous tokens or embeddings.\n",
        "* The second attention mechanism in the Decoder architecture is Encoder-Decoder attention, or cross-attention layer. The keys and values come from the output of the Encoder stack while queries come from the first self-attention layer of the Decoder stack. With this cross-attention, decoder can attend over all positions in the input.\n",
        "* The Feed Forward layers, that are present in both Encoder and Decoder stacks, are defined by two linear layers and a ReLU activation function.\n",
        "* Finally, after all of the mechanisms and calculations, the generator that generates output probabilities is modeled by a linear layer and a softmax.\n",
        "\n",
        "---\n",
        "The following two outputs were generated by transformer models! The prompt for each answer was: \"Explain the transformers architecture to me, with brief details of each block\". Follow the links to read more on [OpenAI's ChatGPT](https://openai.com/blog/chatgpt) and [Google's Gemini](https://blog.google/technology/ai/google-gemini-ai/#introducing-gemini). Examining out of both Transformer models, we can clearly observe a refined and detailed answers!\n",
        "\n",
        "\n",
        "## ChatGPT\n",
        "\n",
        "### Transformer Architecture Overview\n",
        "\n",
        "The Transformer architecture revolutionized the field of natural language processing (NLP) by introducing a model that relies entirely on self-attention mechanisms, eliminating the need for recurrent or convolutional layers. Here's a brief overview of the main components of the Transformer architecture:\n",
        "\n",
        "#### 1. Input Embeddings\n",
        "- The input sequence, typically a sequence of word embeddings, is passed into the model. Each word is represented as a high-dimensional vector, often initialized randomly or pre-trained on a large corpus.\n",
        "\n",
        "#### 2. Positional Encoding\n",
        "- Since the Transformer doesn't inherently understand the order of tokens in a sequence, positional encodings are added to the input embeddings to provide information about token positions. These are usually sinusoidal functions of different frequencies and phases.\n",
        "\n",
        "#### 3. Encoder\n",
        "- The Encoder consists of multiple identical layers (usually 6-12). Each layer consists of two main sub-components:\n",
        "  - **Multi-Head Self-Attention Mechanism**: Computes attention weights between all pairs of words in the input sequence to capture relationships and dependencies among them.\n",
        "  - **Feedforward Neural Network**: Applies a fully connected feedforward network to each position separately and identically. It processes the output of the attention mechanism in a position-wise manner.\n",
        "\n",
        "#### 4. Decoder\n",
        "- The Decoder also consists of multiple identical layers (the same number as in the Encoder). Each layer in the Decoder has three main sub-components:\n",
        "  - **Masked Multi-Head Self-Attention Mechanism**: Similar to the Encoder's attention mechanism, but with a mask applied to prevent positions from attending to subsequent positions, ensuring that the model attends only to previous positions during generation.\n",
        "  - **Encoder-Decoder Attention Mechanism**: Allows the Decoder to focus on different parts of the input sequence (Encoder's output) by computing attention scores between the current position in the Decoder and all positions in the Encoder's output.\n",
        "  - **Feedforward Neural Network**: Similar to the Encoder, a fully connected feedforward network is applied to each position separately and identically.\n",
        "\n",
        "#### 5. Output Layer\n",
        "- The output of the final Decoder layer is passed through a linear layer followed by a softmax function to produce the probability distribution over the output vocabulary. During training, this distribution is compared to the actual target sequence using cross-entropy loss.\n",
        "\n",
        "#### 6. Loss Computation\n",
        "- The model's output is compared to the actual target sequence using cross-entropy loss. This comparison drives the learning process through backpropagation.\n",
        "\n",
        "The Transformer architecture's key innovation lies in its ability to capture long-range dependencies in sequences efficiently through self-attention mechanisms, making it highly parallelizable and scalable compared to traditional recurrent neural networks.\n",
        "\n",
        "---\n",
        "## Google's Gemini\n",
        "\n",
        "The Transformer architecture, introduced in the paper \"Attention is All You Need\", revolutionized natural language processing by relying solely on attention mechanisms instead of recurrent connections. Here's a breakdown of its key components:\n",
        "\n",
        "Overall Structure:\n",
        "\n",
        "An encoder processes the input sequence to capture its meaning.\n",
        "A decoder generates the output sequence based on the encoded representation and any additional context.\n",
        "Encoder and Decoder Blocks:\n",
        "\n",
        "Both the encoder and decoder consist of multiple identical encoder blocks and decoder blocks, respectively.\n",
        "Each block has two sub-blocks:\n",
        "Multi-head Self-attention: Captures relationships between elements within the sequence (encoder) or within the previously generated output (decoder).\n",
        "Feed-forward network: Adds non-linearity and complexity to the model.\n",
        "Residual connection and Layer Norm: Improve training stability and gradient flow.\n",
        "Key Details of Each Block:\n",
        "\n",
        "1. Multi-head Self-attention:\n",
        "\n",
        "Splits the input into queries, keys, and values.\n",
        "Computes attention scores based on the similarity between queries and keys.\n",
        "Masks out padded elements using attention masks.\n",
        "Aggregates values weighted by the attention scores, resulting in a context vector for each element.\n",
        "The \"multi-head\" part refers to performing this self-attention mechanism multiple times with different query and key projections, capturing diverse relationships.\n",
        "2. Feed-forward network:\n",
        "\n",
        "A two-layer network with ReLU activation for non-linearity.\n",
        "Adds complexity and allows the model to learn more intricate relationships.\n",
        "3. Residual connection and Layer Norm:\n",
        "\n",
        "Shortcuts around each sub-block are added to ensure the gradients can flow easily through the network.\n",
        "Layer normalization rescales and shifts the output of each sub-block, stabilizing the training process.\n",
        "Additional Components:\n",
        "\n",
        "Encoder-decoder attention: In a sequence-to-sequence setting, the decoder attends to the encoded representation in each block to incorporate context into the generated output.\n",
        "Positional encoding: Since the Transformer doesn't have inherent positional information, additional embeddings are added to encode the relative positions of elements in the sequence.\n",
        "Output layer: In the decoder, a final layer converts the internal representation into the final vocabulary probabilities for output generation.\n",
        "Benefits of Transformers:\n",
        "\n",
        "Parallelization: Attention allows for better parallelization during training compared to recurrent models.\n",
        "Long-range dependencies: Can capture long-range dependencies in sequences without relying on sequential processing.\n",
        "Adaptability: Can be applied to various NLP tasks with minor modifications.\n",
        "Drawbacks of Transformers:\n",
        "\n",
        "Computational cost: Attention can be computationally expensive, especially for long sequences.\n",
        "Memory intensive: Requires storing the entire input sequence for attention computations."
      ]
    },
    {
      "cell_type": "markdown",
      "source": [
        "## Imports\n",
        "In this part we import the required libraries. This part might be required to be operational on the Colab servers for later parts. It is advised to check the associated python requirements.txt, that is frozen at the time of preparation of this notebook, in case of any library or version error occurs while running this notebook. Mind that installing everything locally via pip install -r \"requirements.txt\" is not advised though, mainly because of the discrepancies between Colab and locally available machine."
      ],
      "metadata": {
        "id": "9bx_lEEFJI5N"
      },
      "id": "9bx_lEEFJI5N"
    },
    {
      "cell_type": "code",
      "source": [
        "# Uncomment any install if needed. It is recommended that these installations\n",
        "# are performed prior to any notebook runs and imports\n",
        "\n",
        "# !pip install datasets # Huggingface dataset library\n",
        "# !pip install evaluate # Used for evaluation metrics\n",
        "# !pip install rouge_score # Is a text evaluation metric\n",
        "# !pip install trl #Transformers Reinforcement Learning framework\n",
        "# !pip install sacremoses # Used for specific characters, useful for languages like Turkish\n",
        "# !pip install portalocker>=2.0.0"
      ],
      "metadata": {
        "id": "yHryLjtEPxYd"
      },
      "id": "yHryLjtEPxYd",
      "execution_count": 24,
      "outputs": []
    },
    {
      "cell_type": "code",
      "execution_count": 2,
      "id": "70a9b2e0-fdb5-4697-a48f-44d1a08503f8",
      "metadata": {
        "id": "70a9b2e0-fdb5-4697-a48f-44d1a08503f8"
      },
      "outputs": [],
      "source": [
        "import math\n",
        "import torch\n",
        "from torch import nn, Tensor\n",
        "import torch.nn.functional as F\n",
        "import matplotlib.pyplot as plt"
      ]
    },
    {
      "cell_type": "markdown",
      "source": [
        "The [torch](https://pytorch.org/) is a popular and diverse machine learning framework, enabling low level implementation (as low as it gets with Python anyway). The Neural Networks (nn) is a library within PyTorch that enables operations with neural network structures."
      ],
      "metadata": {
        "id": "QMDfs6xsJwj3"
      },
      "id": "QMDfs6xsJwj3"
    },
    {
      "cell_type": "markdown",
      "id": "1cce3f17-cf16-4b8e-be4c-769adba52eb2",
      "metadata": {
        "id": "1cce3f17-cf16-4b8e-be4c-769adba52eb2"
      },
      "source": [
        "# Building a Transformer Architecture in PyTorch"
      ]
    },
    {
      "cell_type": "markdown",
      "source": [
        "## Building Blocks\n",
        "Here we will try to build some building blocks that has some reusability."
      ],
      "metadata": {
        "id": "UXVW1LslAu9y"
      },
      "id": "UXVW1LslAu9y"
    },
    {
      "cell_type": "markdown",
      "source": [
        "### Exercise 2.2: Positional Encoding\n",
        "\n",
        "Building the positional encoding can be observed from the implementation provided below.\n",
        "\n",
        "#### Instructions\n",
        "* Specify the PyTorch class that the positional encoder should subclass from.\n",
        "* Initialize a positional encoding matrix for token positions in sequences up to max_length.\n",
        "* Assign unique position encodings to the matrix pe by alternating the use of sine and cosine functions.\n",
        "* Update the input embeddings tensor x to add position information about the sequence using the positional encodings matrix.\n",
        "\n",
        "\n",
        "---\n",
        "\n",
        "The Positional Encoding component is highlighted in the figure below, indicating its use, both in the Encoder, and the Decoder.\n",
        "\n",
        "<div>\n",
        "<img src=\"https://github.com/caglarmert/DI725/blob/main/src/PE_highlight.png?raw=true\" width=\"400\"/>\n",
        "</div>\n",
        "\n",
        "---\n",
        "\n",
        "\n"
      ],
      "metadata": {
        "id": "cCKhGMTXx-ss"
      },
      "id": "cCKhGMTXx-ss"
    },
    {
      "cell_type": "markdown",
      "source": [
        "In the __init__ method, we first initialize the superclass nn.Module and then define the model's dimension d_model and the maximum sequence length max_length. We then create a zero matrix pe of size max_length by d_model to store the positional encodings.\n",
        "\n",
        "Next, we calculate the positional encodings. We create a tensor position that contains the sequence positions and a tensor div_term that contains the division terms. The division terms are calculated using a formula that involves the natural logarithm of 10000 and the model's dimension. We then calculate the positional encodings by applying the sine function to the product of position and div_term for even indices and the cosine function for odd indices. The calculated positional encodings are then stored in the pe matrix.\n",
        "\n",
        "In the forward method, we add the positional encodings to the input embeddings tensor x. We slice the pe matrix to match the size of x before adding. The updated tensor x is then returned."
      ],
      "metadata": {
        "id": "6Xl4O79RK_bW"
      },
      "id": "6Xl4O79RK_bW"
    },
    {
      "cell_type": "code",
      "source": [
        "class PositionalEncoding(nn.Module):\n",
        "    r\"\"\"Inject some information about the relative or absolute position of the tokens in the sequence.\n",
        "        The positional encodings have the same dimension as the embeddings, so that the two can be summed.\n",
        "        Here, we use sine and cosine functions of different frequencies.\n",
        "    .. math:\n",
        "        \\text{PosEncoder}(pos, 2i) = sin(pos/10000^(2i/d_model))\n",
        "        \\text{PosEncoder}(pos, 2i+1) = cos(pos/10000^(2i/d_model))\n",
        "        \\text{where pos is the word position and i is the embed idx)\n",
        "    Args:\n",
        "        d_model: the embed dim (required).\n",
        "        dropout: the dropout value (default=0.1).\n",
        "        max_len: the max. length of the incoming sequence (default=5000).\n",
        "    Examples:\n",
        "        >>> pos_encoder = PositionalEncoding(d_model)\n",
        "    \"\"\"\n",
        "    def __init__(self, d_model: int, dropout: float = 0.1, max_len: int = 5000):\n",
        "        super().__init__()\n",
        "        self.dropout = nn.Dropout(p=dropout)\n",
        "\n",
        "        position = torch.arange(0, max_len, dtype=torch.float).unsqueeze(1)\n",
        "        div_term = torch.exp(torch.arange(0, d_model, 2) * (-math.log(10000.0) / d_model))\n",
        "        pe = torch.zeros(max_len, d_model)\n",
        "        pe[:, 0::2] = torch.sin(position * div_term)\n",
        "        pe[:, 1::2] = torch.cos(position * div_term)\n",
        "        pe = pe.unsqueeze(0)\n",
        "        self.register_buffer('pe', pe)\n",
        "\n",
        "    def forward(self, x: Tensor) -> Tensor:\n",
        "        r\"\"\"Inputs of forward function\n",
        "        Args:\n",
        "            x: the sequence fed to the positional encoder model (required).\n",
        "        Shape:\n",
        "            x: [sequence length, batch size, embed dim]\n",
        "            output: [sequence length, batch size, embed dim]\n",
        "        Examples:\n",
        "            >>> output = pos_encoder(x)\n",
        "        \"\"\"\n",
        "        x = x + self.pe[:, :x.size(1)]\n",
        "        return self.dropout(x)"
      ],
      "metadata": {
        "id": "ZFzC4clPGsP_"
      },
      "id": "ZFzC4clPGsP_",
      "execution_count": 62,
      "outputs": []
    },
    {
      "cell_type": "code",
      "source": [
        "class PositionalEncoding(nn.Module):\n",
        "    def __init__(self, d_model: int, dropout: float = 0.1, max_len: int = 5000):\n",
        "        super().__init__()\n",
        "        self.dropout = nn.Dropout(p=dropout)\n",
        "\n",
        "        position = torch.arange(0, max_len, dtype=torch.float).unsqueeze(1)\n",
        "        div_term = torch.exp(torch.arange(0, d_model, 2) * (-math.log(10000.0) / d_model))\n",
        "        pe = torch.zeros(max_len, d_model)\n",
        "        pe[:, 0::2] = torch.sin(position * div_term)\n",
        "        pe[:, 1::2] = torch.cos(position * div_term)\n",
        "        pe = pe.unsqueeze(0)\n",
        "        self.register_buffer('pe', pe)\n",
        "\n",
        "    def forward(self, x: Tensor) -> Tensor:\n",
        "        x = x + self.pe[:, :x.size(1)]\n",
        "        return self.dropout(x)"
      ],
      "metadata": {
        "id": "_lyZq3EWgslr"
      },
      "id": "_lyZq3EWgslr",
      "execution_count": 63,
      "outputs": []
    },
    {
      "cell_type": "markdown",
      "source": [
        "To demonstrate the operation of Positional Encoding, we can use the following code block:"
      ],
      "metadata": {
        "id": "uKcRi-gdE8wf"
      },
      "id": "uKcRi-gdE8wf"
    },
    {
      "cell_type": "code",
      "source": [
        "import pandas as pd\n",
        "import altair as alt\n",
        "\n",
        "def example_positional():\n",
        "    pe = PositionalEncoding(20, 0, 5000)\n",
        "    y = pe.forward(torch.zeros(1, 100, 20))\n",
        "\n",
        "    data = pd.concat(\n",
        "        [\n",
        "            pd.DataFrame(\n",
        "                {\n",
        "                    \"embedding\": y[0, :, dim],\n",
        "                    \"dimension\": dim,\n",
        "                    \"position\": list(range(100)),\n",
        "                }\n",
        "            )\n",
        "            for dim in [4, 5, 6, 7]\n",
        "        ]\n",
        "    )\n",
        "\n",
        "    return (\n",
        "        alt.Chart(data)\n",
        "        .mark_line()\n",
        "        .properties(width=800)\n",
        "        .encode(x=\"position\", y=\"embedding\", color=\"dimension:N\")\n",
        "        .interactive()\n",
        "    )\n",
        "\n",
        "\n",
        "example_positional()"
      ],
      "metadata": {
        "colab": {
          "base_uri": "https://localhost:8080/",
          "height": 368
        },
        "id": "ZKulvnac6xRb",
        "outputId": "09627a97-9b8e-4c9e-ae01-3b4e9e4313e6"
      },
      "id": "ZKulvnac6xRb",
      "execution_count": 64,
      "outputs": [
        {
          "output_type": "execute_result",
          "data": {
            "text/html": [
              "\n",
              "<div id=\"altair-viz-6c4c459157374dda88d4af0330c84e7d\"></div>\n",
              "<script type=\"text/javascript\">\n",
              "  var VEGA_DEBUG = (typeof VEGA_DEBUG == \"undefined\") ? {} : VEGA_DEBUG;\n",
              "  (function(spec, embedOpt){\n",
              "    let outputDiv = document.currentScript.previousElementSibling;\n",
              "    if (outputDiv.id !== \"altair-viz-6c4c459157374dda88d4af0330c84e7d\") {\n",
              "      outputDiv = document.getElementById(\"altair-viz-6c4c459157374dda88d4af0330c84e7d\");\n",
              "    }\n",
              "    const paths = {\n",
              "      \"vega\": \"https://cdn.jsdelivr.net/npm//vega@5?noext\",\n",
              "      \"vega-lib\": \"https://cdn.jsdelivr.net/npm//vega-lib?noext\",\n",
              "      \"vega-lite\": \"https://cdn.jsdelivr.net/npm//vega-lite@4.17.0?noext\",\n",
              "      \"vega-embed\": \"https://cdn.jsdelivr.net/npm//vega-embed@6?noext\",\n",
              "    };\n",
              "\n",
              "    function maybeLoadScript(lib, version) {\n",
              "      var key = `${lib.replace(\"-\", \"\")}_version`;\n",
              "      return (VEGA_DEBUG[key] == version) ?\n",
              "        Promise.resolve(paths[lib]) :\n",
              "        new Promise(function(resolve, reject) {\n",
              "          var s = document.createElement('script');\n",
              "          document.getElementsByTagName(\"head\")[0].appendChild(s);\n",
              "          s.async = true;\n",
              "          s.onload = () => {\n",
              "            VEGA_DEBUG[key] = version;\n",
              "            return resolve(paths[lib]);\n",
              "          };\n",
              "          s.onerror = () => reject(`Error loading script: ${paths[lib]}`);\n",
              "          s.src = paths[lib];\n",
              "        });\n",
              "    }\n",
              "\n",
              "    function showError(err) {\n",
              "      outputDiv.innerHTML = `<div class=\"error\" style=\"color:red;\">${err}</div>`;\n",
              "      throw err;\n",
              "    }\n",
              "\n",
              "    function displayChart(vegaEmbed) {\n",
              "      vegaEmbed(outputDiv, spec, embedOpt)\n",
              "        .catch(err => showError(`Javascript Error: ${err.message}<br>This usually means there's a typo in your chart specification. See the javascript console for the full traceback.`));\n",
              "    }\n",
              "\n",
              "    if(typeof define === \"function\" && define.amd) {\n",
              "      requirejs.config({paths});\n",
              "      require([\"vega-embed\"], displayChart, err => showError(`Error loading script: ${err.message}`));\n",
              "    } else {\n",
              "      maybeLoadScript(\"vega\", \"5\")\n",
              "        .then(() => maybeLoadScript(\"vega-lite\", \"4.17.0\"))\n",
              "        .then(() => maybeLoadScript(\"vega-embed\", \"6\"))\n",
              "        .catch(showError)\n",
              "        .then(() => displayChart(vegaEmbed));\n",
              "    }\n",
              "  })({\"config\": {\"view\": {\"continuousWidth\": 400, \"continuousHeight\": 300}}, \"data\": {\"name\": \"data-eafc635ddfa311c913cbcc2d2bc4477d\"}, \"mark\": \"line\", \"encoding\": {\"color\": {\"field\": \"dimension\", \"type\": \"nominal\"}, \"x\": {\"field\": \"position\", \"type\": \"quantitative\"}, \"y\": {\"field\": \"embedding\", \"type\": \"quantitative\"}}, \"selection\": {\"selector002\": {\"type\": \"interval\", \"bind\": \"scales\", \"encodings\": [\"x\", \"y\"]}}, \"width\": 800, \"$schema\": \"https://vega.github.io/schema/vega-lite/v4.17.0.json\", \"datasets\": {\"data-eafc635ddfa311c913cbcc2d2bc4477d\": [{\"embedding\": 0.0, \"dimension\": 4, \"position\": 0}, {\"embedding\": 0.15782663226127625, \"dimension\": 4, \"position\": 1}, {\"embedding\": 0.3116971552371979, \"dimension\": 4, \"position\": 2}, {\"embedding\": 0.45775455236434937, \"dimension\": 4, \"position\": 3}, {\"embedding\": 0.5923377275466919, \"dimension\": 4, \"position\": 4}, {\"embedding\": 0.7120732069015503, \"dimension\": 4, \"position\": 5}, {\"embedding\": 0.813959538936615, \"dimension\": 4, \"position\": 6}, {\"embedding\": 0.8954429626464844, \"dimension\": 4, \"position\": 7}, {\"embedding\": 0.9544808864593506, \"dimension\": 4, \"position\": 8}, {\"embedding\": 0.989593505859375, \"dimension\": 4, \"position\": 9}, {\"embedding\": 0.9999006390571594, \"dimension\": 4, \"position\": 10}, {\"embedding\": 0.9851439595222473, \"dimension\": 4, \"position\": 11}, {\"embedding\": 0.94569331407547, \"dimension\": 4, \"position\": 12}, {\"embedding\": 0.8825376033782959, \"dimension\": 4, \"position\": 13}, {\"embedding\": 0.7972599267959595, \"dimension\": 4, \"position\": 14}, {\"embedding\": 0.6919978260993958, \"dimension\": 4, \"position\": 15}, {\"embedding\": 0.5693899393081665, \"dimension\": 4, \"position\": 16}, {\"embedding\": 0.4325096309185028, \"dimension\": 4, \"position\": 17}, {\"embedding\": 0.284787654876709, \"dimension\": 4, \"position\": 18}, {\"embedding\": 0.12992730736732483, \"dimension\": 4, \"position\": 19}, {\"embedding\": -0.028190065175294876, \"dimension\": 4, \"position\": 20}, {\"embedding\": -0.18560057878494263, \"dimension\": 4, \"position\": 21}, {\"embedding\": -0.3383587896823883, \"dimension\": 4, \"position\": 22}, {\"embedding\": -0.4826357960700989, \"dimension\": 4, \"position\": 23}, {\"embedding\": -0.6148146390914917, \"dimension\": 4, \"position\": 24}, {\"embedding\": -0.7315824031829834, \"dimension\": 4, \"position\": 25}, {\"embedding\": -0.8300122618675232, \"dimension\": 4, \"position\": 26}, {\"embedding\": -0.9076365828514099, \"dimension\": 4, \"position\": 27}, {\"embedding\": -0.96250981092453, \"dimension\": 4, \"position\": 28}, {\"embedding\": -0.9932565093040466, \"dimension\": 4, \"position\": 29}, {\"embedding\": -0.9991058707237244, \"dimension\": 4, \"position\": 30}, {\"embedding\": -0.9799113273620605, \"dimension\": 4, \"position\": 31}, {\"embedding\": -0.9361540079116821, \"dimension\": 4, \"position\": 32}, {\"embedding\": -0.8689308166503906, \"dimension\": 4, \"position\": 33}, {\"embedding\": -0.7799267172813416, \"dimension\": 4, \"position\": 34}, {\"embedding\": -0.6713724136352539, \"dimension\": 4, \"position\": 35}, {\"embedding\": -0.5459895133972168, \"dimension\": 4, \"position\": 36}, {\"embedding\": -0.40692076086997986, \"dimension\": 4, \"position\": 37}, {\"embedding\": -0.2576519548892975, \"dimension\": 4, \"position\": 38}, {\"embedding\": -0.10192479938268661, \"dimension\": 4, \"position\": 39}, {\"embedding\": 0.056357722729444504, \"dimension\": 4, \"position\": 40}, {\"embedding\": 0.21322709321975708, \"dimension\": 4, \"position\": 41}, {\"embedding\": 0.3647516369819641, \"dimension\": 4, \"position\": 42}, {\"embedding\": 0.5071332454681396, \"dimension\": 4, \"position\": 43}, {\"embedding\": 0.6368028521537781, \"dimension\": 4, \"position\": 44}, {\"embedding\": 0.7505101561546326, \"dimension\": 4, \"position\": 45}, {\"embedding\": 0.8454052805900574, \"dimension\": 4, \"position\": 46}, {\"embedding\": 0.9191088080406189, \"dimension\": 4, \"position\": 47}, {\"embedding\": 0.9697737693786621, \"dimension\": 4, \"position\": 48}, {\"embedding\": 0.9961300492286682, \"dimension\": 4, \"position\": 49}, {\"embedding\": 0.9975170493125916, \"dimension\": 4, \"position\": 50}, {\"embedding\": 0.9738998413085938, \"dimension\": 4, \"position\": 51}, {\"embedding\": 0.9258706569671631, \"dimension\": 4, \"position\": 52}, {\"embedding\": 0.8546332716941833, \"dimension\": 4, \"position\": 53}, {\"embedding\": 0.7619734406471252, \"dimension\": 4, \"position\": 54}, {\"embedding\": 0.6502137184143066, \"dimension\": 4, \"position\": 55}, {\"embedding\": 0.5221555233001709, \"dimension\": 4, \"position\": 56}, {\"embedding\": 0.38100889325141907, \"dimension\": 4, \"position\": 57}, {\"embedding\": 0.23031172156333923, \"dimension\": 4, \"position\": 58}, {\"embedding\": 0.07384055852890015, \"dimension\": 4, \"position\": 59}, {\"embedding\": -0.08448058366775513, \"dimension\": 4, \"position\": 60}, {\"embedding\": -0.2406841218471527, \"dimension\": 4, \"position\": 61}, {\"embedding\": -0.3908545970916748, \"dimension\": 4, \"position\": 62}, {\"embedding\": -0.5312277674674988, \"dimension\": 4, \"position\": 63}, {\"embedding\": -0.6582850813865662, \"dimension\": 4, \"position\": 64}, {\"embedding\": -0.768841564655304, \"dimension\": 4, \"position\": 65}, {\"embedding\": -0.8601260781288147, \"dimension\": 4, \"position\": 66}, {\"embedding\": -0.9298503994941711, \"dimension\": 4, \"position\": 67}, {\"embedding\": -0.9762668013572693, \"dimension\": 4, \"position\": 68}, {\"embedding\": -0.9982118010520935, \"dimension\": 4, \"position\": 69}, {\"embedding\": -0.9951352477073669, \"dimension\": 4, \"position\": 70}, {\"embedding\": -0.967114269733429, \"dimension\": 4, \"position\": 71}, {\"embedding\": -0.9148513078689575, \"dimension\": 4, \"position\": 72}, {\"embedding\": -0.839656412601471, \"dimension\": 4, \"position\": 73}, {\"embedding\": -0.7434144616127014, \"dimension\": 4, \"position\": 74}, {\"embedding\": -0.6285378336906433, \"dimension\": 4, \"position\": 75}, {\"embedding\": -0.4979061186313629, \"dimension\": 4, \"position\": 76}, {\"embedding\": -0.3547937273979187, \"dimension\": 4, \"position\": 77}, {\"embedding\": -0.20278796553611755, \"dimension\": 4, \"position\": 78}, {\"embedding\": -0.04569905996322632, \"dimension\": 4, \"position\": 79}, {\"embedding\": 0.11253630369901657, \"dimension\": 4, \"position\": 80}, {\"embedding\": 0.2679498493671417, \"dimension\": 4, \"position\": 81}, {\"embedding\": 0.4166468679904938, \"dimension\": 4, \"position\": 82}, {\"embedding\": 0.5549001097679138, \"dimension\": 4, \"position\": 83}, {\"embedding\": 0.6792440414428711, \"dimension\": 4, \"position\": 84}, {\"embedding\": 0.7865618467330933, \"dimension\": 4, \"position\": 85}, {\"embedding\": 0.8741634488105774, \"dimension\": 4, \"position\": 86}, {\"embedding\": 0.9398530125617981, \"dimension\": 4, \"position\": 87}, {\"embedding\": 0.9819839596748352, \"dimension\": 4, \"position\": 88}, {\"embedding\": 0.9995002150535583, \"dimension\": 4, \"position\": 89}, {\"embedding\": 0.9919626712799072, \"dimension\": 4, \"position\": 90}, {\"embedding\": 0.959559977054596, \"dimension\": 4, \"position\": 91}, {\"embedding\": 0.903104841709137, \"dimension\": 4, \"position\": 92}, {\"embedding\": 0.8240122199058533, \"dimension\": 4, \"position\": 93}, {\"embedding\": 0.7242646217346191, \"dimension\": 4, \"position\": 94}, {\"embedding\": 0.6063624024391174, \"dimension\": 4, \"position\": 95}, {\"embedding\": 0.4732609689235687, \"dimension\": 4, \"position\": 96}, {\"embedding\": 0.32829657196998596, \"dimension\": 4, \"position\": 97}, {\"embedding\": 0.17510302364826202, \"dimension\": 4, \"position\": 98}, {\"embedding\": 0.01752028614282608, \"dimension\": 4, \"position\": 99}, {\"embedding\": 1.0, \"dimension\": 5, \"position\": 0}, {\"embedding\": 0.9874668121337891, \"dimension\": 5, \"position\": 1}, {\"embedding\": 0.9501814842224121, \"dimension\": 5, \"position\": 2}, {\"embedding\": 0.8890786170959473, \"dimension\": 5, \"position\": 3}, {\"embedding\": 0.8056897521018982, \"dimension\": 5, \"position\": 4}, {\"embedding\": 0.7021052241325378, \"dimension\": 5, \"position\": 5}, {\"embedding\": 0.5809215903282166, \"dimension\": 5, \"position\": 6}, {\"embedding\": 0.44517630338668823, \"dimension\": 5, \"position\": 7}, {\"embedding\": 0.2982720732688904, \"dimension\": 5, \"position\": 8}, {\"embedding\": 0.14389123022556305, \"dimension\": 5, \"position\": 9}, {\"embedding\": -0.01409643329679966, \"dimension\": 5, \"position\": 10}, {\"embedding\": -0.1717306226491928, \"dimension\": 5, \"position\": 11}, {\"embedding\": -0.32506027817726135, \"dimension\": 5, \"position\": 12}, {\"embedding\": -0.47024187445640564, \"dimension\": 5, \"position\": 13}, {\"embedding\": -0.6036361455917358, \"dimension\": 5, \"position\": 14}, {\"embedding\": -0.7218996286392212, \"dimension\": 5, \"position\": 15}, {\"embedding\": -0.8220675587654114, \"dimension\": 5, \"position\": 16}, {\"embedding\": -0.9016293287277222, \"dimension\": 5, \"position\": 17}, {\"embedding\": -0.9585906267166138, \"dimension\": 5, \"position\": 18}, {\"embedding\": -0.9915235042572021, \"dimension\": 5, \"position\": 19}, {\"embedding\": -0.9996025562286377, \"dimension\": 5, \"position\": 20}, {\"embedding\": -0.9826252460479736, \"dimension\": 5, \"position\": 21}, {\"embedding\": -0.941017210483551, \"dimension\": 5, \"position\": 22}, {\"embedding\": -0.8758211731910706, \"dimension\": 5, \"position\": 23}, {\"embedding\": -0.788671612739563, \"dimension\": 5, \"position\": 24}, {\"embedding\": -0.6817529797554016, \"dimension\": 5, \"position\": 25}, {\"embedding\": -0.5577451586723328, \"dimension\": 5, \"position\": 26}, {\"embedding\": -0.4197568893432617, \"dimension\": 5, \"position\": 27}, {\"embedding\": -0.27124688029289246, \"dimension\": 5, \"position\": 28}, {\"embedding\": -0.11593768745660782, \"dimension\": 5, \"position\": 29}, {\"embedding\": 0.042278096079826355, \"dimension\": 5, \"position\": 30}, {\"embedding\": 0.19943365454673767, \"dimension\": 5, \"position\": 31}, {\"embedding\": 0.3515901565551758, \"dimension\": 5, \"position\": 32}, {\"embedding\": 0.4949335753917694, \"dimension\": 5, \"position\": 33}, {\"embedding\": 0.6258708238601685, \"dimension\": 5, \"position\": 34}, {\"embedding\": 0.7411201596260071, \"dimension\": 5, \"position\": 35}, {\"embedding\": 0.8377919793128967, \"dimension\": 5, \"position\": 36}, {\"embedding\": 0.9134634733200073, \"dimension\": 5, \"position\": 37}, {\"embedding\": 0.9662377834320068, \"dimension\": 5, \"position\": 38}, {\"embedding\": 0.994792103767395, \"dimension\": 5, \"position\": 39}, {\"embedding\": 0.9984106421470642, \"dimension\": 5, \"position\": 40}, {\"embedding\": 0.9770026803016663, \"dimension\": 5, \"position\": 41}, {\"embedding\": 0.931104838848114, \"dimension\": 5, \"position\": 42}, {\"embedding\": 0.8618676662445068, \"dimension\": 5, \"position\": 43}, {\"embedding\": 0.7710266709327698, \"dimension\": 5, \"position\": 44}, {\"embedding\": 0.6608588695526123, \"dimension\": 5, \"position\": 45}, {\"embedding\": 0.5341253876686096, \"dimension\": 5, \"position\": 46}, {\"embedding\": 0.3940037488937378, \"dimension\": 5, \"position\": 47}, {\"embedding\": 0.24400585889816284, \"dimension\": 5, \"position\": 48}, {\"embedding\": 0.08789165318012238, \"dimension\": 5, \"position\": 49}, {\"embedding\": -0.07042567431926727, \"dimension\": 5, \"position\": 50}, {\"embedding\": -0.2269781529903412, \"dimension\": 5, \"position\": 51}, {\"embedding\": -0.37784066796302795, \"dimension\": 5, \"position\": 52}, {\"embedding\": -0.5192320942878723, \"dimension\": 5, \"position\": 53}, {\"embedding\": -0.6476082801818848, \"dimension\": 5, \"position\": 54}, {\"embedding\": -0.7597513794898987, \"dimension\": 5, \"position\": 55}, {\"embedding\": -0.8528502583503723, \"dimension\": 5, \"position\": 56}, {\"embedding\": -0.9245713949203491, \"dimension\": 5, \"position\": 57}, {\"embedding\": -0.973116934299469, \"dimension\": 5, \"position\": 58}, {\"embedding\": -0.9972700476646423, \"dimension\": 5, \"position\": 59}, {\"embedding\": -0.9964250922203064, \"dimension\": 5, \"position\": 60}, {\"embedding\": -0.9706035256385803, \"dimension\": 5, \"position\": 61}, {\"embedding\": -0.9204524159431458, \"dimension\": 5, \"position\": 62}, {\"embedding\": -0.8472290635108948, \"dimension\": 5, \"position\": 63}, {\"embedding\": -0.7527687549591064, \"dimension\": 5, \"position\": 64}, {\"embedding\": -0.6394393444061279, \"dimension\": 5, \"position\": 65}, {\"embedding\": -0.5100815296173096, \"dimension\": 5, \"position\": 66}, {\"embedding\": -0.3679378628730774, \"dimension\": 5, \"position\": 67}, {\"embedding\": -0.2165713608264923, \"dimension\": 5, \"position\": 68}, {\"embedding\": -0.05977622792124748, \"dimension\": 5, \"position\": 69}, {\"embedding\": 0.09851823002099991, \"dimension\": 5, \"position\": 70}, {\"embedding\": 0.254342257976532, \"dimension\": 5, \"position\": 71}, {\"embedding\": 0.4037908613681793, \"dimension\": 5, \"position\": 72}, {\"embedding\": 0.543117880821228, \"dimension\": 5, \"position\": 73}, {\"embedding\": 0.6688309907913208, \"dimension\": 5, \"position\": 74}, {\"embedding\": 0.7777789831161499, \"dimension\": 5, \"position\": 75}, {\"embedding\": 0.8672309517860413, \"dimension\": 5, \"position\": 76}, {\"embedding\": 0.9349446296691895, \"dimension\": 5, \"position\": 77}, {\"embedding\": 0.9792226552963257, \"dimension\": 5, \"position\": 78}, {\"embedding\": 0.998955249786377, \"dimension\": 5, \"position\": 79}, {\"embedding\": 0.9936476349830627, \"dimension\": 5, \"position\": 80}, {\"embedding\": 0.9634328484535217, \"dimension\": 5, \"position\": 81}, {\"embedding\": 0.9090684056282043, \"dimension\": 5, \"position\": 82}, {\"embedding\": 0.8319169878959656, \"dimension\": 5, \"position\": 83}, {\"embedding\": 0.733912467956543, \"dimension\": 5, \"position\": 84}, {\"embedding\": 0.617511510848999, \"dimension\": 5, \"position\": 85}, {\"embedding\": 0.4856317937374115, \"dimension\": 5, \"position\": 86}, {\"embedding\": 0.3415791094303131, \"dimension\": 5, \"position\": 87}, {\"embedding\": 0.18896427750587463, \"dimension\": 5, \"position\": 88}, {\"embedding\": 0.0316128134727478, \"dimension\": 5, \"position\": 89}, {\"embedding\": -0.12653106451034546, \"dimension\": 5, \"position\": 90}, {\"embedding\": -0.28150418400764465, \"dimension\": 5, \"position\": 91}, {\"embedding\": -0.4294200837612152, \"dimension\": 5, \"position\": 92}, {\"embedding\": -0.5665720105171204, \"dimension\": 5, \"position\": 93}, {\"embedding\": -0.6895220875740051, \"dimension\": 5, \"position\": 94}, {\"embedding\": -0.7951884269714355, \"dimension\": 5, \"position\": 95}, {\"embedding\": -0.880922257900238, \"dimension\": 5, \"position\": 96}, {\"embedding\": -0.9445747137069702, \"dimension\": 5, \"position\": 97}, {\"embedding\": -0.9845501184463501, \"dimension\": 5, \"position\": 98}, {\"embedding\": -0.9998465180397034, \"dimension\": 5, \"position\": 99}, {\"embedding\": 0.0, \"dimension\": 6, \"position\": 0}, {\"embedding\": 0.06305388361215591, \"dimension\": 6, \"position\": 1}, {\"embedding\": 0.12585683166980743, \"dimension\": 6, \"position\": 2}, {\"embedding\": 0.18815888464450836, \"dimension\": 6, \"position\": 3}, {\"embedding\": 0.24971213936805725, \"dimension\": 6, \"position\": 4}, {\"embedding\": 0.31027159094810486, \"dimension\": 6, \"position\": 5}, {\"embedding\": 0.3695962131023407, \"dimension\": 6, \"position\": 6}, {\"embedding\": 0.4274499714374542, \"dimension\": 6, \"position\": 7}, {\"embedding\": 0.4836025834083557, \"dimension\": 6, \"position\": 8}, {\"embedding\": 0.5378305912017822, \"dimension\": 6, \"position\": 9}, {\"embedding\": 0.5899181365966797, \"dimension\": 6, \"position\": 10}, {\"embedding\": 0.6396579146385193, \"dimension\": 6, \"position\": 11}, {\"embedding\": 0.6868520379066467, \"dimension\": 6, \"position\": 12}, {\"embedding\": 0.7313126921653748, \"dimension\": 6, \"position\": 13}, {\"embedding\": 0.7728629112243652, \"dimension\": 6, \"position\": 14}, {\"embedding\": 0.8113372921943665, \"dimension\": 6, \"position\": 15}, {\"embedding\": 0.8465827703475952, \"dimension\": 6, \"position\": 16}, {\"embedding\": 0.8784590363502502, \"dimension\": 6, \"position\": 17}, {\"embedding\": 0.9068393111228943, \"dimension\": 6, \"position\": 18}, {\"embedding\": 0.9316105246543884, \"dimension\": 6, \"position\": 19}, {\"embedding\": 0.9526742100715637, \"dimension\": 6, \"position\": 20}, {\"embedding\": 0.9699464440345764, \"dimension\": 6, \"position\": 21}, {\"embedding\": 0.9833585619926453, \"dimension\": 6, \"position\": 22}, {\"embedding\": 0.9928570985794067, \"dimension\": 6, \"position\": 23}, {\"embedding\": 0.9984043836593628, \"dimension\": 6, \"position\": 24}, {\"embedding\": 0.999978244304657, \"dimension\": 6, \"position\": 25}, {\"embedding\": 0.9975724220275879, \"dimension\": 6, \"position\": 26}, {\"embedding\": 0.9911965131759644, \"dimension\": 6, \"position\": 27}, {\"embedding\": 0.9808759093284607, \"dimension\": 6, \"position\": 28}, {\"embedding\": 0.9666516780853271, \"dimension\": 6, \"position\": 29}, {\"embedding\": 0.9485803842544556, \"dimension\": 6, \"position\": 30}, {\"embedding\": 0.9267339110374451, \"dimension\": 6, \"position\": 31}, {\"embedding\": 0.9011994004249573, \"dimension\": 6, \"position\": 32}, {\"embedding\": 0.8720782399177551, \"dimension\": 6, \"position\": 33}, {\"embedding\": 0.8394865393638611, \"dimension\": 6, \"position\": 34}, {\"embedding\": 0.8035537600517273, \"dimension\": 6, \"position\": 35}, {\"embedding\": 0.7644230127334595, \"dimension\": 6, \"position\": 36}, {\"embedding\": 0.7222501039505005, \"dimension\": 6, \"position\": 37}, {\"embedding\": 0.6772029399871826, \"dimension\": 6, \"position\": 38}, {\"embedding\": 0.6294605135917664, \"dimension\": 6, \"position\": 39}, {\"embedding\": 0.57921302318573, \"dimension\": 6, \"position\": 40}, {\"embedding\": 0.5266605615615845, \"dimension\": 6, \"position\": 41}, {\"embedding\": 0.4720119535923004, \"dimension\": 6, \"position\": 42}, {\"embedding\": 0.41548484563827515, \"dimension\": 6, \"position\": 43}, {\"embedding\": 0.3573042154312134, \"dimension\": 6, \"position\": 44}, {\"embedding\": 0.29770180583000183, \"dimension\": 6, \"position\": 45}, {\"embedding\": 0.23691439628601074, \"dimension\": 6, \"position\": 46}, {\"embedding\": 0.17518411576747894, \"dimension\": 6, \"position\": 47}, {\"embedding\": 0.1127568930387497, \"dimension\": 6, \"position\": 48}, {\"embedding\": 0.04988069087266922, \"dimension\": 6, \"position\": 49}, {\"embedding\": -0.013194027356803417, \"dimension\": 6, \"position\": 50}, {\"embedding\": -0.07621623575687408, \"dimension\": 6, \"position\": 51}, {\"embedding\": -0.1389348804950714, \"dimension\": 6, \"position\": 52}, {\"embedding\": -0.20110084116458893, \"dimension\": 6, \"position\": 53}, {\"embedding\": -0.2624664604663849, \"dimension\": 6, \"position\": 54}, {\"embedding\": -0.3227875530719757, \"dimension\": 6, \"position\": 55}, {\"embedding\": -0.3818237781524658, \"dimension\": 6, \"position\": 56}, {\"embedding\": -0.4393406808376312, \"dimension\": 6, \"position\": 57}, {\"embedding\": -0.49510911107063293, \"dimension\": 6, \"position\": 58}, {\"embedding\": -0.5489069223403931, \"dimension\": 6, \"position\": 59}, {\"embedding\": -0.6005204319953918, \"dimension\": 6, \"position\": 60}, {\"embedding\": -0.6497439742088318, \"dimension\": 6, \"position\": 61}, {\"embedding\": -0.6963817477226257, \"dimension\": 6, \"position\": 62}, {\"embedding\": -0.7402478456497192, \"dimension\": 6, \"position\": 63}, {\"embedding\": -0.7811681628227234, \"dimension\": 6, \"position\": 64}, {\"embedding\": -0.8189795017242432, \"dimension\": 6, \"position\": 65}, {\"embedding\": -0.8535317182540894, \"dimension\": 6, \"position\": 66}, {\"embedding\": -0.8846868872642517, \"dimension\": 6, \"position\": 67}, {\"embedding\": -0.9123212099075317, \"dimension\": 6, \"position\": 68}, {\"embedding\": -0.936324954032898, \"dimension\": 6, \"position\": 69}, {\"embedding\": -0.956602156162262, \"dimension\": 6, \"position\": 70}, {\"embedding\": -0.9730724096298218, \"dimension\": 6, \"position\": 71}, {\"embedding\": -0.9856699705123901, \"dimension\": 6, \"position\": 72}, {\"embedding\": -0.9943448305130005, \"dimension\": 6, \"position\": 73}, {\"embedding\": -0.9990625381469727, \"dimension\": 6, \"position\": 74}, {\"embedding\": -0.9998041391372681, \"dimension\": 6, \"position\": 75}, {\"embedding\": -0.9965668320655823, \"dimension\": 6, \"position\": 76}, {\"embedding\": -0.9893633723258972, \"dimension\": 6, \"position\": 77}, {\"embedding\": -0.9782225489616394, \"dimension\": 6, \"position\": 78}, {\"embedding\": -0.963188648223877, \"dimension\": 6, \"position\": 79}, {\"embedding\": -0.9443213939666748, \"dimension\": 6, \"position\": 80}, {\"embedding\": -0.9216960668563843, \"dimension\": 6, \"position\": 81}, {\"embedding\": -0.8954026699066162, \"dimension\": 6, \"position\": 82}, {\"embedding\": -0.8655455708503723, \"dimension\": 6, \"position\": 83}, {\"embedding\": -0.8322440981864929, \"dimension\": 6, \"position\": 84}, {\"embedding\": -0.795630156993866, \"dimension\": 6, \"position\": 85}, {\"embedding\": -0.7558501362800598, \"dimension\": 6, \"position\": 86}, {\"embedding\": -0.7130619883537292, \"dimension\": 6, \"position\": 87}, {\"embedding\": -0.6674357056617737, \"dimension\": 6, \"position\": 88}, {\"embedding\": -0.6191535592079163, \"dimension\": 6, \"position\": 89}, {\"embedding\": -0.5684073567390442, \"dimension\": 6, \"position\": 90}, {\"embedding\": -0.5153986215591431, \"dimension\": 6, \"position\": 91}, {\"embedding\": -0.46033912897109985, \"dimension\": 6, \"position\": 92}, {\"embedding\": -0.40344759821891785, \"dimension\": 6, \"position\": 93}, {\"embedding\": -0.3449500501155853, \"dimension\": 6, \"position\": 94}, {\"embedding\": -0.28508007526397705, \"dimension\": 6, \"position\": 95}, {\"embedding\": -0.22407560050487518, \"dimension\": 6, \"position\": 96}, {\"embedding\": -0.1621788740158081, \"dimension\": 6, \"position\": 97}, {\"embedding\": -0.09963719546794891, \"dimension\": 6, \"position\": 98}, {\"embedding\": -0.03669850528240204, \"dimension\": 6, \"position\": 99}, {\"embedding\": 1.0, \"dimension\": 7, \"position\": 0}, {\"embedding\": 0.9980100989341736, \"dimension\": 7, \"position\": 1}, {\"embedding\": 0.9920483827590942, \"dimension\": 7, \"position\": 2}, {\"embedding\": 0.9821385741233826, \"dimension\": 7, \"position\": 3}, {\"embedding\": 0.9683201313018799, \"dimension\": 7, \"position\": 4}, {\"embedding\": 0.9506479501724243, \"dimension\": 7, \"position\": 5}, {\"embedding\": 0.9291924834251404, \"dimension\": 7, \"position\": 6}, {\"embedding\": 0.9040390253067017, \"dimension\": 7, \"position\": 7}, {\"embedding\": 0.8752877116203308, \"dimension\": 7, \"position\": 8}, {\"embedding\": 0.8430529236793518, \"dimension\": 7, \"position\": 9}, {\"embedding\": 0.8074630498886108, \"dimension\": 7, \"position\": 10}, {\"embedding\": 0.7686597108840942, \"dimension\": 7, \"position\": 11}, {\"embedding\": 0.7267972826957703, \"dimension\": 7, \"position\": 12}, {\"embedding\": 0.6820423603057861, \"dimension\": 7, \"position\": 13}, {\"embedding\": 0.6345730423927307, \"dimension\": 7, \"position\": 14}, {\"embedding\": 0.5845783352851868, \"dimension\": 7, \"position\": 15}, {\"embedding\": 0.532257080078125, \"dimension\": 7, \"position\": 16}, {\"embedding\": 0.47781768441200256, \"dimension\": 7, \"position\": 17}, {\"embedding\": 0.4214765727519989, \"dimension\": 7, \"position\": 18}, {\"embedding\": 0.36345821619033813, \"dimension\": 7, \"position\": 19}, {\"embedding\": 0.30399325489997864, \"dimension\": 7, \"position\": 20}, {\"embedding\": 0.243318572640419, \"dimension\": 7, \"position\": 21}, {\"embedding\": 0.18167544901371002, \"dimension\": 7, \"position\": 22}, {\"embedding\": 0.11930941045284271, \"dimension\": 7, \"position\": 23}, {\"embedding\": 0.056468550115823746, \"dimension\": 7, \"position\": 24}, {\"embedding\": -0.006597157102078199, \"dimension\": 7, \"position\": 25}, {\"embedding\": -0.06963648647069931, \"dimension\": 7, \"position\": 26}, {\"embedding\": -0.1323987990617752, \"dimension\": 7, \"position\": 27}, {\"embedding\": -0.1946340948343277, \"dimension\": 7, \"position\": 28}, {\"embedding\": -0.25609490275382996, \"dimension\": 7, \"position\": 29}, {\"embedding\": -0.31653639674186707, \"dimension\": 7, \"position\": 30}, {\"embedding\": -0.37571826577186584, \"dimension\": 7, \"position\": 31}, {\"embedding\": -0.43340474367141724, \"dimension\": 7, \"position\": 32}, {\"embedding\": -0.4893665015697479, \"dimension\": 7, \"position\": 33}, {\"embedding\": -0.5433804988861084, \"dimension\": 7, \"position\": 34}, {\"embedding\": -0.5952321887016296, \"dimension\": 7, \"position\": 35}, {\"embedding\": -0.6447150111198425, \"dimension\": 7, \"position\": 36}, {\"embedding\": -0.6916319727897644, \"dimension\": 7, \"position\": 37}, {\"embedding\": -0.7357962727546692, \"dimension\": 7, \"position\": 38}, {\"embedding\": -0.7770324349403381, \"dimension\": 7, \"position\": 39}, {\"embedding\": -0.8151761889457703, \"dimension\": 7, \"position\": 40}, {\"embedding\": -0.8500756621360779, \"dimension\": 7, \"position\": 41}, {\"embedding\": -0.8815921545028687, \"dimension\": 7, \"position\": 42}, {\"embedding\": -0.9096000790596008, \"dimension\": 7, \"position\": 43}, {\"embedding\": -0.933988094329834, \"dimension\": 7, \"position\": 44}, {\"embedding\": -0.9546589255332947, \"dimension\": 7, \"position\": 45}, {\"embedding\": -0.971530556678772, \"dimension\": 7, \"position\": 46}, {\"embedding\": -0.9845356941223145, \"dimension\": 7, \"position\": 47}, {\"embedding\": -0.9936226010322571, \"dimension\": 7, \"position\": 48}, {\"embedding\": -0.998755156993866, \"dimension\": 7, \"position\": 49}, {\"embedding\": -0.9999129772186279, \"dimension\": 7, \"position\": 50}, {\"embedding\": -0.9970912933349609, \"dimension\": 7, \"position\": 51}, {\"embedding\": -0.9903014898300171, \"dimension\": 7, \"position\": 52}, {\"embedding\": -0.9795705676078796, \"dimension\": 7, \"position\": 53}, {\"embedding\": -0.964941143989563, \"dimension\": 7, \"position\": 54}, {\"embedding\": -0.9464714527130127, \"dimension\": 7, \"position\": 55}, {\"embedding\": -0.9242351651191711, \"dimension\": 7, \"position\": 56}, {\"embedding\": -0.8983205556869507, \"dimension\": 7, \"position\": 57}, {\"embedding\": -0.8688308000564575, \"dimension\": 7, \"position\": 58}, {\"embedding\": -0.8358834981918335, \"dimension\": 7, \"position\": 59}, {\"embedding\": -0.7996094226837158, \"dimension\": 7, \"position\": 60}, {\"embedding\": -0.7601531147956848, \"dimension\": 7, \"position\": 61}, {\"embedding\": -0.7176715731620789, \"dimension\": 7, \"position\": 62}, {\"embedding\": -0.6723340749740601, \"dimension\": 7, \"position\": 63}, {\"embedding\": -0.6243206262588501, \"dimension\": 7, \"position\": 64}, {\"embedding\": -0.5738227963447571, \"dimension\": 7, \"position\": 65}, {\"embedding\": -0.5210408568382263, \"dimension\": 7, \"position\": 66}, {\"embedding\": -0.46618568897247314, \"dimension\": 7, \"position\": 67}, {\"embedding\": -0.4094752371311188, \"dimension\": 7, \"position\": 68}, {\"embedding\": -0.3511347472667694, \"dimension\": 7, \"position\": 69}, {\"embedding\": -0.2913972735404968, \"dimension\": 7, \"position\": 70}, {\"embedding\": -0.23049965500831604, \"dimension\": 7, \"position\": 71}, {\"embedding\": -0.1686851680278778, \"dimension\": 7, \"position\": 72}, {\"embedding\": -0.10619935393333435, \"dimension\": 7, \"position\": 73}, {\"embedding\": -0.04329042136669159, \"dimension\": 7, \"position\": 74}, {\"embedding\": 0.019790323451161385, \"dimension\": 7, \"position\": 75}, {\"embedding\": 0.08279230445623398, \"dimension\": 7, \"position\": 76}, {\"embedding\": 0.14546526968479156, \"dimension\": 7, \"position\": 77}, {\"embedding\": 0.20755885541439056, \"dimension\": 7, \"position\": 78}, {\"embedding\": 0.2688263952732086, \"dimension\": 7, \"position\": 79}, {\"embedding\": 0.3290245532989502, \"dimension\": 7, \"position\": 80}, {\"embedding\": 0.3879128098487854, \"dimension\": 7, \"position\": 81}, {\"embedding\": 0.4452572762966156, \"dimension\": 7, \"position\": 82}, {\"embedding\": 0.5008301138877869, \"dimension\": 7, \"position\": 83}, {\"embedding\": 0.5544094443321228, \"dimension\": 7, \"position\": 84}, {\"embedding\": 0.605782687664032, \"dimension\": 7, \"position\": 85}, {\"embedding\": 0.6547446846961975, \"dimension\": 7, \"position\": 86}, {\"embedding\": 0.7011010050773621, \"dimension\": 7, \"position\": 87}, {\"embedding\": 0.7446674108505249, \"dimension\": 7, \"position\": 88}, {\"embedding\": 0.7852699160575867, \"dimension\": 7, \"position\": 89}, {\"embedding\": 0.8227472901344299, \"dimension\": 7, \"position\": 90}, {\"embedding\": 0.856950581073761, \"dimension\": 7, \"position\": 91}, {\"embedding\": 0.8877431154251099, \"dimension\": 7, \"position\": 92}, {\"embedding\": 0.9150027632713318, \"dimension\": 7, \"position\": 93}, {\"embedding\": 0.9386210441589355, \"dimension\": 7, \"position\": 94}, {\"embedding\": 0.9585037231445312, \"dimension\": 7, \"position\": 95}, {\"embedding\": 0.9745717644691467, \"dimension\": 7, \"position\": 96}, {\"embedding\": 0.9867613911628723, \"dimension\": 7, \"position\": 97}, {\"embedding\": 0.9950238466262817, \"dimension\": 7, \"position\": 98}, {\"embedding\": 0.9993264079093933, \"dimension\": 7, \"position\": 99}]}}, {\"mode\": \"vega-lite\"});\n",
              "</script>"
            ],
            "text/plain": [
              "alt.Chart(...)"
            ]
          },
          "metadata": {},
          "execution_count": 64
        }
      ]
    },
    {
      "cell_type": "markdown",
      "source": [
        "---\n",
        "\n",
        "The Positional Encoding output is shown in the Figure below:\n",
        "\n",
        "<div>\n",
        "<img src=\"https://github.com/caglarmert/DI725/blob/main/src/positional_encoding_sine.png?raw=true\" width=\"750\"/>\n",
        "</div>\n",
        "\n",
        "---"
      ],
      "metadata": {
        "id": "AfQ-LiUQ6PL6"
      },
      "id": "AfQ-LiUQ6PL6"
    },
    {
      "cell_type": "markdown",
      "source": [
        "### Exercise 2.3: Implementing multi-headed self-attention\n",
        "\n",
        "The multi-headed attention mechanisms are highlighted in the Figure below:\n",
        "\n",
        "<div>\n",
        "<img src=\"https://github.com/caglarmert/DI725/blob/main/src/multi_headed_attention_highlighted.png?raw=true\" width=\"400\"/>\n",
        "</div>\n",
        "\n",
        "\n",
        "\n",
        "\n",
        "The multi-head attention is a form of scaled dot-product attention, calculated as:\n",
        "<div>\n",
        "<img src=\"https://github.com/caglarmert/DI725/blob/main/src/scaled_dot_product_attention_formula.PNG?raw=true\" width=\"400\"/>\n",
        "</div>\n",
        "\n",
        "Scaled dot-product attention demonstrated as:\n",
        "<div>\n",
        "<img src=\"https://github.com/caglarmert/DI725/blob/main/src/scaled_dot_product_attention.PNG?raw=true\" width=\"300\"/>\n",
        "</div>\n",
        "\n",
        "Multi-head attention calculated as:\n",
        "<div>\n",
        "<img src=\"https://github.com/caglarmert/DI725/blob/main/src/multi_head_Attention_formula.PNG?raw=true\" width=\"600\"/>\n",
        "</div>\n",
        "\n",
        "Multi-head attention demonstrated as:\n",
        "<div>\n",
        "<img src=\"https://github.com/caglarmert/DI725/blob/main/src/multi_head_Attention.PNG?raw=true\" width=\"300\"/>\n",
        "</div>\n",
        "\n",
        "\n",
        "Building the multi-headed self-attention can be observed from the implementation provided below.\n",
        "\n",
        "#### Instructions\n",
        "* Split the sequence embeddings x across the multiple attention heads.\n",
        "* Compute dot-product based attention scores between the project query and key.\n",
        "* Normalize the attention scores to obtain attention weights.\n",
        "* Multiply the attention weights by the values and linearly transform the concatenated outputs per head."
      ],
      "metadata": {
        "id": "6FZGjkpZ2zHu"
      },
      "id": "6FZGjkpZ2zHu"
    },
    {
      "cell_type": "code",
      "execution_count": 65,
      "id": "b1fb67b6-5884-40ae-9b54-78192b5506d4",
      "metadata": {
        "id": "b1fb67b6-5884-40ae-9b54-78192b5506d4"
      },
      "outputs": [],
      "source": [
        "class MultiHeadAttention(nn.Module):\n",
        "    def __init__(self, d_model, num_heads):\n",
        "        super(MultiHeadAttention, self).__init__()\n",
        "        self.num_heads = num_heads\n",
        "        self.d_model = d_model\n",
        "        self.head_dim = d_model // num_heads\n",
        "\n",
        "        self.query_linear = nn.Linear(d_model, d_model)\n",
        "        self.key_linear = nn.Linear(d_model, d_model)\n",
        "        self.value_linear = nn.Linear(d_model, d_model)\n",
        "        self.output_linear = nn.Linear(d_model, d_model)\n",
        "    def split_heads(self, x, batch_size):\n",
        "        # Split the sequence embeddings in x across the attention heads\n",
        "        x = x.view(batch_size, -1, self.num_heads, self.head_dim)\n",
        "        return x.permute(0, 2, 1, 3).contiguous().view(batch_size * self.num_heads, -1, self.head_dim)\n",
        "\n",
        "    def compute_attention(self, query, key, mask=None):\n",
        "        # Compute dot-product attention scores\n",
        "        scores = torch.matmul(query, key.permute(1, 2, 0))\n",
        "        if mask is not None:\n",
        "            scores = scores.masked_fill(mask == 0, float(\"-1e20\"))\n",
        "        # Normalize attention scores into attention weights\n",
        "        attention_weights = F.softmax(scores, dim=-1)\n",
        "        return attention_weights\n",
        "\n",
        "    def forward(self, query, key, value, mask=None):\n",
        "        batch_size = query.size(0)\n",
        "\n",
        "        query = self.split_heads(self.query_linear(query), batch_size)\n",
        "        key = self.split_heads(self.key_linear(key), batch_size)\n",
        "        value = self.split_heads(self.value_linear(value), batch_size)\n",
        "\n",
        "        attention_weights = self.compute_attention(query, key, mask)\n",
        "        # print(attention_weights)\n",
        "        # Multiply attention weights by values and linearly project concatenated outputs\n",
        "        output = torch.matmul(attention_weights, value)\n",
        "        output = output.view(batch_size, self.num_heads, -1, self.head_dim).permute(0, 2, 1, 3).contiguous().view(batch_size, -1, self.d_model)\n",
        "        return self.output_linear(output)"
      ]
    },
    {
      "cell_type": "markdown",
      "source": [
        "### Exercise 2.4: Post-attention feed-forward layer\n",
        "\n",
        "<div>\n",
        "<img src=\"https://github.com/caglarmert/DI725/blob/main/src/feed_forward_highlighted.png?raw=true\" width=\"400\"/>\n",
        "</div>\n",
        "\n",
        "\n",
        "\n",
        "Feed-forward sublayer following multi-head self-attention for every encoder layer is built as an example below:\n",
        "\n",
        "\n",
        "\n",
        "#### Instructions\n",
        "* Specify in the __init__() method the sizes of the two linear fully connected layers.\n",
        "* Apply a forward pass through the two linear layers, using the ReLU() activation in between."
      ],
      "metadata": {
        "id": "v0ix1uQi3Gkt"
      },
      "id": "v0ix1uQi3Gkt"
    },
    {
      "cell_type": "code",
      "execution_count": 66,
      "id": "f32a3f9f-f65c-450c-b49d-d849b0cdf617",
      "metadata": {
        "id": "f32a3f9f-f65c-450c-b49d-d849b0cdf617"
      },
      "outputs": [],
      "source": [
        "class FeedForwardSubLayer(nn.Module):\n",
        "    # Specify the two linear layers' input and output sizes\n",
        "    def __init__(self, d_model, d_ff):\n",
        "        super(FeedForwardSubLayer, self).__init__()\n",
        "        self.fc1 = nn.Linear(d_model, d_ff)\n",
        "        self.fc2 = nn.Linear(d_ff, d_model)\n",
        "        self.relu = nn.ReLU()\n",
        "\n",
        "    # Apply a forward pass\n",
        "    def forward(self, x):\n",
        "        return self.fc2(self.relu(self.fc1(x)))"
      ]
    },
    {
      "cell_type": "markdown",
      "source": [
        "## Encoder Transformer\n",
        "\n",
        "Useful for tasks like classification, one of the most common application is  BERT (Bidirectional Encoder Representations from Transformers). Applies self-attention to the inputs to determine which parts are more useful for the task.\n",
        "\n",
        "\n",
        "<div>\n",
        "<img src=\"https://github.com/caglarmert/DI725/blob/main/src/Encoder_only_transformer.png?raw=true\" width=\"400\"/>\n",
        "</div>\n",
        "\n"
      ],
      "metadata": {
        "id": "xl3xBFBBA3LN"
      },
      "id": "xl3xBFBBA3LN"
    },
    {
      "cell_type": "markdown",
      "source": [
        "### Exercise 2.5: Encoder layer\n",
        "\n",
        "\n",
        "Assembling a full encoder layer containing:\n",
        "\n",
        "* A multi-headed self-attention mechanism.\n",
        "* A feed-forward sublayer.\n",
        "* A combined layer normalization and dropout to be applied after each of the above two stages.\n",
        "\n",
        "<div>\n",
        "<img src=\"https://github.com/caglarmert/DI725/blob/main/src/Encoder_only_transformer_norm_highlighted.png?raw=true\" width=\"300\"/>\n",
        "</div>"
      ],
      "metadata": {
        "id": "uFbiS9Jg4Ic9"
      },
      "id": "uFbiS9Jg4Ic9"
    },
    {
      "cell_type": "code",
      "source": [
        "# Complete the initialization of elements in the encoder layer\n",
        "class EncoderLayer(nn.Module):\n",
        "    def __init__(self, d_model, num_heads, d_ff, dropout):\n",
        "        super(EncoderLayer, self).__init__()\n",
        "        # Multi-head self-attention\n",
        "        self.self_attn = MultiHeadAttention(d_model, num_heads)\n",
        "        # Feedforward neural network\n",
        "        self.feed_forward = FeedForwardSubLayer(d_model, d_ff)\n",
        "        self.norm1 = nn.LayerNorm(d_model)\n",
        "        self.norm2 = nn.LayerNorm(d_model)\n",
        "        self.dropout = nn.Dropout(dropout)\n",
        "\n",
        "    def forward(self, x, mask):\n",
        "      # Multi-head self-attention\n",
        "        attn_output = self.self_attn(x, x, x, mask)\n",
        "        x = self.norm1(x + self.dropout(attn_output))\n",
        "        # Feedforward neural network\n",
        "        ff_output = self.feed_forward(x)\n",
        "        return self.norm2(x + self.dropout(ff_output))"
      ],
      "metadata": {
        "id": "XtH2xwFO4OW3"
      },
      "id": "XtH2xwFO4OW3",
      "execution_count": 67,
      "outputs": []
    },
    {
      "cell_type": "markdown",
      "source": [
        "### Exercise 2.6: Encoder transformer body and head\n",
        "\n",
        "Implementing the transformer body, that is consisting of a stack of multiple encoder layers and a task specific transformer head that is used to process the encoder's hidden states.\n",
        "\n",
        "Apart from the highlighted components, we have implemented everything so far. The linear layer followed by a softmax to output probabilities is the final implementation we will do in this section.\n",
        "\n",
        "<div>\n",
        "<img src=\"https://github.com/caglarmert/DI725/blob/main/src/Encoder_only_transformer_head_highlighted.png?raw=true\" width=\"300\"/>\n",
        "</div>\n",
        "\n",
        "\n",
        "#### Instructions\n",
        "* Define a stack of multiple encoder layers in the __init__() method.\n",
        "* Complete the forward() method. Note that the process starts by converting the original sequence tokens in x into embeddings.\n",
        "* Add final linear layer to project encoder results into raw classification outputs.\n",
        "* Apply the necessary function to map raw classification outputs into log class probabilities."
      ],
      "metadata": {
        "id": "_8vDWOqJ4Yfb"
      },
      "id": "_8vDWOqJ4Yfb"
    },
    {
      "cell_type": "code",
      "source": [
        "class TransformerEncoder(nn.Module):\n",
        "    def __init__(self, vocab_size, d_model, num_layers, num_heads, d_ff, dropout, max_sequence_length):\n",
        "        super(TransformerEncoder, self).__init__()\n",
        "        self.embedding = nn.Embedding(vocab_size, d_model)\n",
        "        self.positional_encoding = PositionalEncoding(d_model = d_model, max_len = max_sequence_length)\n",
        "        # Define a stack of multiple encoder layers\n",
        "        self.layers = nn.ModuleList([EncoderLayer(d_model, num_heads, d_ff, dropout) for _ in range(num_layers)])\n",
        "\n",
        "    # Complete the forward pass method\n",
        "    def forward(self, x, mask):\n",
        "        x = self.embedding(x)\n",
        "        x = self.positional_encoding(x)\n",
        "        for layer in self.layers:\n",
        "            x = layer(x, mask)\n",
        "        return x\n",
        "\n",
        "class ClassifierHead(nn.Module):\n",
        "    def __init__(self, d_model, num_classes):\n",
        "        super(ClassifierHead, self).__init__()\n",
        "        # Add linear layer for multiple-class classification\n",
        "        self.fc = nn.Linear(d_model, num_classes)\n",
        "\n",
        "    def forward(self, x):\n",
        "        logits = self.fc(x[:, 0, :])\n",
        "        # Obtain log class probabilities upon raw outputs\n",
        "        return F.log_softmax(logits, dim=-1)"
      ],
      "metadata": {
        "id": "c7tjYzQG4PBN"
      },
      "id": "c7tjYzQG4PBN",
      "execution_count": 68,
      "outputs": []
    },
    {
      "cell_type": "markdown",
      "source": [
        "### Exercise 2.7: Testing the encoder transformer\n",
        "\n",
        "A random and simple sequence will be used as an input to the encoder transformer. Obtaining the output (that is not even human-readable) without any errors is sufficient for this exercise.\n",
        "\n",
        "The following components are adequate to form a full encoder transformer:\n",
        "* PositionalEncoder\n",
        "* MultiHeadAttention\n",
        "* FeedForwardSublayer\n",
        "* EncoderLayer\n",
        "* TransformerEncoder\n",
        "* ClassifierHead\n",
        "\n",
        "Note: although a random input sequence and mask are being used here, in practice, the mask should correspond to the actual location of padding tokens in the input sequences to ensure all of them are the same length.\n",
        "\n",
        "#### Instructions\n",
        "* Instantiate the body and head of the encoder transformer.\n",
        "* Complete the forward pass throughout the entire transformer body and head to obtain and print classification outputs."
      ],
      "metadata": {
        "id": "mdusUqHn4vrs"
      },
      "id": "mdusUqHn4vrs"
    },
    {
      "cell_type": "code",
      "source": [
        "a = torch.randint(0, vocab_size, (batch_size, sequence_length))"
      ],
      "metadata": {
        "id": "QF-TxQFGpk2Z"
      },
      "id": "QF-TxQFGpk2Z",
      "execution_count": 128,
      "outputs": []
    },
    {
      "cell_type": "code",
      "source": [
        "for i in range(batch_size):\n",
        "  a[i] = a[i] + i*vocab_size/batch_size"
      ],
      "metadata": {
        "id": "jqqkEO1ntfCY"
      },
      "id": "jqqkEO1ntfCY",
      "execution_count": 132,
      "outputs": []
    },
    {
      "cell_type": "code",
      "source": [
        "a"
      ],
      "metadata": {
        "colab": {
          "base_uri": "https://localhost:8080/"
        },
        "id": "zNF_ZmHHtz-x",
        "outputId": "ba8f04dc-e48f-4062-e6ae-bfe4e84e55c6"
      },
      "id": "zNF_ZmHHtz-x",
      "execution_count": 133,
      "outputs": [
        {
          "output_type": "execute_result",
          "data": {
            "text/plain": [
              "tensor([[ 4298,  9161,  6394,  5680,  8292,  7798,  2583,  9982,  4270,  1616,\n",
              "           573,  6513,  1921,  3419,  4061,  6022,  9642,  4904,  2918,   365,\n",
              "          5329,  9154,  1117,  8428,  2527,  6576,  5325,  9217,  1779,  8125,\n",
              "          4149,  7634,   284,  1539,  2113,   419,  9202,  4936,  7475,  2370,\n",
              "          9164,  5067,  3851,  6598,  6293,  1726,   791,  2879,   211,  8054,\n",
              "          7126,  1544,  1471,  6083,  8010,   126,  6778,  7809,  5050,  9451,\n",
              "           454,  7741,  4226,  3551],\n",
              "        [11183, 10718,  4863,  4972, 11248,  3082,  8289,  3916,  3209,  5946,\n",
              "          6024,  8545,  9144,  6079,  8376,  4829,  9153, 10411,  7760,  2885,\n",
              "         10532,  5662,  9419,  1766,  9970, 10889,  7252,  8850,  2857,  9414,\n",
              "          5052, 10529,  1745, 10018,  3798,  7795,  3688,  4169, 10282,  6163,\n",
              "          4325,  6753,  7109,  4106,  7138,  5982,  8216,  9841, 10825,  6994,\n",
              "          6265,  3234,  2473,  2320,  7153,  5470,  5407, 10180, 10416,  3486,\n",
              "          8782,  1989,  7598,  2172],\n",
              "        [ 8052,  9235,  7781,  3557, 11159,  4720,  8302, 12206,  3786, 11738,\n",
              "          6704,  9130,  2728,  9534,  4138,  6405,  3134,  8599,  3928,  3929,\n",
              "          3808,  8832,  9748,  3237, 11835,  9692,  6674,  4273,  9925,  5803,\n",
              "          8478,  3448,  8915,  8790,  3634,  6723,  4841,  2639, 12104,  6419,\n",
              "          8253,  7267, 10890,  9768, 10464, 11230,  9901, 11164,  5279, 11148,\n",
              "          6088, 10141,  9969,  4290,  7664, 10677,  8791,  3449, 10728,  8364,\n",
              "          4847,  8818,  3107, 12441],\n",
              "        [ 7387,  4503, 11523,  3972,  5570, 11440,  8849,  4493, 10218,  6329,\n",
              "         11342, 13676, 11381, 12727,  5429, 12808, 12071,  3983,  6648, 11469,\n",
              "         13099,  4091,  7258,  8135, 12407,  7046,  6984, 12979,  8234,  8813,\n",
              "         10032,  7828,  3850,  5058,  4724, 11836,  7516,  9846,  9000,  9121,\n",
              "         10623, 11757, 10932, 12022, 11663,  4374, 10590,  4698, 12039,  5071,\n",
              "         13494,  9104,  9759, 13735,  9665, 10934, 12692, 13378, 11155, 10519,\n",
              "         11452,  5351, 13110,  4643],\n",
              "        [ 8977,  8530,  5642, 12398, 12399,  7793, 10017,  9809,  9799,  5011,\n",
              "         10971,  9854, 12006, 10843, 10011, 12199, 11554,  7363,  9345,  6898,\n",
              "         12205,  5343, 14316, 14907,  9251,  5939,  9599,  5744, 12115,  6652,\n",
              "          7507, 14623, 11042,  5195, 12029,  5333,  5356,  7321, 10716,  7178,\n",
              "         10055,  7781, 10177,  6232, 14366,  8033, 11550, 14755, 11557, 10263,\n",
              "          8175, 11057,  9848, 14364, 12158,  6020,  6431, 13555,  7196, 14995,\n",
              "          9214,  7611, 10901,  7734],\n",
              "        [ 8586, 13709, 15926, 15717, 12166, 14896,  7791,  8777, 15977, 15714,\n",
              "         10142, 15300,  8497, 13983, 15002,  7140, 10775,  8828,  8158,  8179,\n",
              "         11446, 10681, 11111,  8414,  9021, 14922, 15946,  6346, 15876,  8169,\n",
              "         11078,  8631, 14220,  8298,  7050, 15752, 14682, 14961,  6432,  7359,\n",
              "         14412, 14962,  8458,  7363,  9313, 11138, 11876, 13581,  6705, 15530,\n",
              "          9376, 14969,  9701,  9478,  7677,  6790, 10157, 14548, 12612, 15307,\n",
              "         11069, 15799,  7875,  8349],\n",
              "        [14894, 14006,  9628, 11825, 15126, 14717, 15859,  8350, 16129, 10513,\n",
              "          9337, 11338, 11304, 14005, 10367, 11680, 10249, 13239, 15507, 16022,\n",
              "         17309, 10048, 13126, 12218, 17396,  9145,  8589, 11767,  7578,  9232,\n",
              "         12429, 15773, 16859, 16205, 14360, 10830, 10403, 16234, 16682, 14033,\n",
              "         16110, 14400, 11597, 12224, 12628, 10610, 14902, 12395, 13109,  9588,\n",
              "         10434,  9574, 13605, 11349, 10223, 13708, 13346,  9814, 11198, 10178,\n",
              "         16036, 10857, 16671,  7937],\n",
              "        [11923, 13263, 12741, 18069, 11119, 12980, 16517, 16224, 10230, 12646,\n",
              "         17553, 12824, 17410, 11590, 10388,  9845, 16043, 15392, 15906, 11883,\n",
              "         13452, 11394, 16852, 10183, 16967, 10696, 11156, 11871, 13862, 13923,\n",
              "         13102, 15281, 10683, 15013,  9938, 10792, 15477,  9124, 17498, 10380,\n",
              "         11462, 11350,  9510, 14918, 12589, 11659, 13732, 15972, 11749, 12888,\n",
              "         10560, 12306, 11298, 12455, 15388, 14151, 13851, 16061, 10217, 12280,\n",
              "         18331,  9090,  9049, 16946]])"
            ]
          },
          "metadata": {},
          "execution_count": 133
        }
      ]
    },
    {
      "cell_type": "code",
      "source": [
        "plt.imshow(a.detach().numpy())"
      ],
      "metadata": {
        "colab": {
          "base_uri": "https://localhost:8080/",
          "height": 141
        },
        "id": "wYmDfia5t6RJ",
        "outputId": "f59f040b-ceef-48be-b128-1f57d9292e8d"
      },
      "id": "wYmDfia5t6RJ",
      "execution_count": 135,
      "outputs": [
        {
          "output_type": "execute_result",
          "data": {
            "text/plain": [
              "<matplotlib.image.AxesImage at 0x7e453cac98a0>"
            ]
          },
          "metadata": {},
          "execution_count": 135
        },
        {
          "output_type": "display_data",
          "data": {
            "text/plain": [
              "<Figure size 640x480 with 1 Axes>"
            ],
            "image/png": "[encoded data removed]"
          },
          "metadata": {}
        }
      ]
    },
    {
      "cell_type": "code",
      "source": [
        "num_classes = 3\n",
        "vocab_size = 10000\n",
        "batch_size = 8\n",
        "d_model = 512\n",
        "num_heads = 8\n",
        "num_layers = 6\n",
        "d_ff = 2048\n",
        "sequence_length = 64\n",
        "dropout = 0.1\n",
        "\n",
        "input_sequence = torch.randint(0, vocab_size, (batch_size, sequence_length))\n",
        "mask = torch.randint(0, 2, (sequence_length, sequence_length))\n",
        "\n",
        "# Instantiate the encoder transformer's body and head\n",
        "encoder = TransformerEncoder(vocab_size, d_model, num_layers, num_heads, d_ff, dropout, max_sequence_length=sequence_length)\n",
        "classifier = ClassifierHead(d_model, num_classes)\n",
        "\n",
        "# Complete the forward pass\n",
        "output = encoder(input_sequence, mask)\n",
        "classification_no_train = classifier(output)\n",
        "print(\"Classification outputs for a batch of \", batch_size, \"sequences:\")\n",
        "print(classification_no_train)"
      ],
      "metadata": {
        "colab": {
          "base_uri": "https://localhost:8080/"
        },
        "id": "vGvWfAbYr5Mv",
        "outputId": "0b2347b4-f567-4559-d8dd-7919db230363"
      },
      "id": "vGvWfAbYr5Mv",
      "execution_count": 119,
      "outputs": [
        {
          "output_type": "stream",
          "name": "stdout",
          "text": [
            "Classification outputs for a batch of  8 sequences:\n",
            "tensor([[-0.8557, -0.9010, -1.7787],\n",
            "        [-1.5489, -1.3155, -0.6555],\n",
            "        [-1.5222, -0.3696, -2.3997],\n",
            "        [-0.4975, -1.5289, -1.7418],\n",
            "        [-1.6523, -1.2202, -0.6671],\n",
            "        [-0.5094, -2.1551, -1.2614],\n",
            "        [-0.9119, -1.1511, -1.2660],\n",
            "        [-0.6021, -1.0301, -2.3500]], grad_fn=<LogSoftmaxBackward0>)\n"
          ]
        }
      ]
    },
    {
      "cell_type": "code",
      "source": [
        "plt.imshow(input_sequence.detach().numpy())"
      ],
      "metadata": {
        "colab": {
          "base_uri": "https://localhost:8080/",
          "height": 141
        },
        "id": "MWO_4N1coiA8",
        "outputId": "8be7cb06-6567-4fed-ed2f-512947920cec"
      },
      "id": "MWO_4N1coiA8",
      "execution_count": 134,
      "outputs": [
        {
          "output_type": "execute_result",
          "data": {
            "text/plain": [
              "<matplotlib.image.AxesImage at 0x7e453c5f98d0>"
            ]
          },
          "metadata": {},
          "execution_count": 134
        },
        {
          "output_type": "display_data",
          "data": {
            "text/plain": [
              "<Figure size 640x480 with 1 Axes>"
            ],
            "image/png": "[encoded data removed]"
          },
          "metadata": {}
        }
      ]
    },
    {
      "cell_type": "code",
      "source": [
        "plt.imshow(classification_no_train.detach().numpy())"
      ],
      "metadata": {
        "colab": {
          "base_uri": "https://localhost:8080/",
          "height": 447
        },
        "id": "aUXUSF4KkuUW",
        "outputId": "0a38f071-3f7d-4bdf-dc89-bf622cfed336"
      },
      "id": "aUXUSF4KkuUW",
      "execution_count": 121,
      "outputs": [
        {
          "output_type": "execute_result",
          "data": {
            "text/plain": [
              "<matplotlib.image.AxesImage at 0x7e453c648e50>"
            ]
          },
          "metadata": {},
          "execution_count": 121
        },
        {
          "output_type": "display_data",
          "data": {
            "text/plain": [
              "<Figure size 640x480 with 1 Axes>"
            ],
            "image/png": "[encoded data removed]"
          },
          "metadata": {}
        }
      ]
    },
    {
      "cell_type": "code",
      "source": [
        "import torch\n",
        "import torch.nn as nn\n",
        "import torch.optim as optim\n",
        "\n",
        "# Define your model\n",
        "num_classes = 3\n",
        "vocab_size = 10000\n",
        "batch_size = 8\n",
        "d_model = 512\n",
        "num_heads = 8\n",
        "num_layers = 6\n",
        "d_ff = 2048\n",
        "sequence_length = 64\n",
        "dropout = 0.1\n",
        "\n",
        "#input_sequence = torch.randint(0, vocab_size, (batch_size, sequence_length))\n",
        "#mask = torch.randint(0, 2, (sequence_length, sequence_length))\n",
        "\n",
        "encoder = TransformerEncoder(vocab_size, d_model, num_layers, num_heads, d_ff, dropout, max_sequence_length=sequence_length)\n",
        "classifier = ClassifierHead(d_model, num_classes)\n",
        "\n",
        "# Loss function and optimizer\n",
        "criterion = nn.CrossEntropyLoss()\n",
        "optimizer = optim.Adam(list(encoder.parameters()) + list(classifier.parameters()), lr=0.001)\n",
        "\n",
        "# Training loop\n",
        "num_epochs = 10\n",
        "for epoch in range(num_epochs):\n",
        "    optimizer.zero_grad()\n",
        "    output = encoder(input_sequence, mask)\n",
        "    classification = classifier(output)\n",
        "\n",
        "    # Assuming you have ground truth labels as 'targets'\n",
        "    targets = torch.randint(0, num_classes, (batch_size,))\n",
        "    loss = criterion(classification, targets)\n",
        "\n",
        "    loss.backward()\n",
        "    optimizer.step()\n",
        "\n",
        "    print(f\"Epoch [{epoch+1}/{num_epochs}], Loss: {loss.item():.4f}\")\n",
        "\n",
        "# After training, you can print the classification results\n",
        "print(\"Classification outputs for a batch of\", batch_size, \"sequences:\")\n",
        "print(classification)"
      ],
      "metadata": {
        "colab": {
          "base_uri": "https://localhost:8080/"
        },
        "id": "LFvCVz42kub2",
        "outputId": "668663b5-c983-44a7-e571-2ff28ee60693"
      },
      "id": "LFvCVz42kub2",
      "execution_count": 124,
      "outputs": [
        {
          "output_type": "stream",
          "name": "stdout",
          "text": [
            "Epoch [1/10], Loss: 0.9498\n",
            "Epoch [2/10], Loss: 4.8952\n",
            "Epoch [3/10], Loss: 1.2399\n",
            "Epoch [4/10], Loss: 5.5258\n",
            "Epoch [5/10], Loss: 6.2811\n",
            "Epoch [6/10], Loss: 2.3456\n",
            "Epoch [7/10], Loss: 1.4740\n",
            "Epoch [8/10], Loss: 2.2787\n",
            "Epoch [9/10], Loss: 1.6268\n",
            "Epoch [10/10], Loss: 1.7430\n",
            "Classification outputs for a batch of 8 sequences:\n",
            "tensor([[-1.1015, -0.5151, -2.6568],\n",
            "        [-0.9919, -0.6124, -2.4408],\n",
            "        [-1.0439, -0.5620, -2.5534],\n",
            "        [-1.0018, -0.5719, -2.6832],\n",
            "        [-0.9843, -0.5915, -2.6201],\n",
            "        [-1.0954, -0.5309, -2.5569],\n",
            "        [-1.1160, -0.5211, -2.5439],\n",
            "        [-1.0570, -0.5362, -2.6952]], grad_fn=<LogSoftmaxBackward0>)\n"
          ]
        }
      ]
    },
    {
      "cell_type": "code",
      "source": [
        "plt.imshow(input_sequence)"
      ],
      "metadata": {
        "colab": {
          "base_uri": "https://localhost:8080/",
          "height": 141
        },
        "id": "jzEtkG0loCqn",
        "outputId": "a0f70f7d-3124-4201-c88e-89189641ba97"
      },
      "id": "jzEtkG0loCqn",
      "execution_count": 125,
      "outputs": [
        {
          "output_type": "execute_result",
          "data": {
            "text/plain": [
              "<matplotlib.image.AxesImage at 0x7e453c60c7f0>"
            ]
          },
          "metadata": {},
          "execution_count": 125
        },
        {
          "output_type": "display_data",
          "data": {
            "text/plain": [
              "<Figure size 640x480 with 1 Axes>"
            ],
            "image/png": "[encoded data removed]"
          },
          "metadata": {}
        }
      ]
    },
    {
      "cell_type": "code",
      "source": [
        "plt.imshow(classification.detach().numpy())"
      ],
      "metadata": {
        "colab": {
          "base_uri": "https://localhost:8080/",
          "height": 447
        },
        "id": "dEd-HYWxnpnX",
        "outputId": "01c6e16f-61db-4159-ee20-1487da1819d6"
      },
      "id": "dEd-HYWxnpnX",
      "execution_count": 126,
      "outputs": [
        {
          "output_type": "execute_result",
          "data": {
            "text/plain": [
              "<matplotlib.image.AxesImage at 0x7e453c54db10>"
            ]
          },
          "metadata": {},
          "execution_count": 126
        },
        {
          "output_type": "display_data",
          "data": {
            "text/plain": [
              "<Figure size 640x480 with 1 Axes>"
            ],
            "image/png": "[encoded data removed]"
          },
          "metadata": {}
        }
      ]
    },
    {
      "cell_type": "code",
      "source": [
        "# Import necessary libraries\n",
        "import torch\n",
        "\n",
        "# Define hyperparameters\n",
        "num_classes = 3\n",
        "vocab_size = 10000\n",
        "batch_size = 8\n",
        "d_model = 512\n",
        "num_heads = 8\n",
        "num_layers = 6\n",
        "d_ff = 2048\n",
        "sequence_length = 64\n",
        "dropout = 0.1\n",
        "\n",
        "# Define model components\n",
        "encoder = TransformerEncoder(vocab_size, d_model, num_layers, num_heads, d_ff, dropout, max_sequence_length=sequence_length)\n",
        "classifier = ClassifierHead(d_model, num_classes)\n",
        "\n",
        "# Define loss function and optimizer\n",
        "criterion = torch.nn.CrossEntropyLoss()\n",
        "optimizer = torch.optim.Adam(list(encoder.parameters()) + list(classifier.parameters()))\n",
        "\n",
        "# Sample data and labels (replace with your actual data loading logic)\n",
        "input_sequence = torch.randint(0, vocab_size, (batch_size, sequence_length))\n",
        "labels = torch.randint(0, num_classes, (batch_size,))\n",
        "mask = torch.randint(0, 2, (sequence_length, sequence_length))\n",
        "\n",
        "# Training loop\n",
        "for epoch in range(10):  # Train for 10 epochs (adjust as needed)\n",
        "    # Forward pass\n",
        "    mask = mask.bool()\n",
        "    output = encoder(input_sequence, mask)\n",
        "    classification = classifier(output)\n",
        "\n",
        "    # Calculate loss\n",
        "    loss = criterion(classification, labels)\n",
        "\n",
        "    # Backward pass and update parameters\n",
        "    optimizer.zero_grad()\n",
        "    loss.backward()\n",
        "    optimizer.step()\n",
        "\n",
        "    # Print training progress\n",
        "    print(f\"Epoch: {epoch+1}, Loss: {loss.item():.4f}\")\n",
        "\n",
        "# After training, you can use the model for prediction on new data\n"
      ],
      "metadata": {
        "colab": {
          "base_uri": "https://localhost:8080/"
        },
        "id": "6YtM9Cg4ldlG",
        "outputId": "9ba7cdf4-2b6c-432d-e299-3c7ef43cf978"
      },
      "id": "6YtM9Cg4ldlG",
      "execution_count": 92,
      "outputs": [
        {
          "output_type": "stream",
          "name": "stdout",
          "text": [
            "Epoch: 1, Loss: 1.1308\n",
            "Epoch: 2, Loss: 2.0392\n",
            "Epoch: 3, Loss: 8.1328\n",
            "Epoch: 4, Loss: 2.2180\n",
            "Epoch: 5, Loss: 1.9533\n",
            "Epoch: 6, Loss: 1.6871\n",
            "Epoch: 7, Loss: 1.1314\n",
            "Epoch: 8, Loss: 0.5558\n",
            "Epoch: 9, Loss: 0.1827\n",
            "Epoch: 10, Loss: 0.1124\n"
          ]
        }
      ]
    },
    {
      "cell_type": "code",
      "source": [],
      "metadata": {
        "id": "Sw_3UFVdkueN"
      },
      "id": "Sw_3UFVdkueN",
      "execution_count": 71,
      "outputs": []
    },
    {
      "cell_type": "markdown",
      "source": [
        "Note: although a random input sequence and mask are being used here, in practice, the mask should correspond to the actual location of padding tokens in the input sequences to ensure all of them are the same length."
      ],
      "metadata": {
        "id": "2XYFLPGATsRN"
      },
      "id": "2XYFLPGATsRN"
    },
    {
      "cell_type": "code",
      "source": [
        "plt.imshow(mask)"
      ],
      "metadata": {
        "colab": {
          "base_uri": "https://localhost:8080/",
          "height": 449
        },
        "id": "iC7VVr3PS4zm",
        "outputId": "ad5ffa82-89db-4a3e-fb97-afdbde930666"
      },
      "id": "iC7VVr3PS4zm",
      "execution_count": 10,
      "outputs": [
        {
          "output_type": "execute_result",
          "data": {
            "text/plain": [
              "<matplotlib.image.AxesImage at 0x7e453f445570>"
            ]
          },
          "metadata": {},
          "execution_count": 10
        },
        {
          "output_type": "display_data",
          "data": {
            "text/plain": [
              "<Figure size 640x480 with 1 Axes>"
            ],
            "image/png": "[encoded data removed]"
          },
          "metadata": {}
        }
      ]
    },
    {
      "cell_type": "code",
      "source": [],
      "metadata": {
        "id": "2NfLQ3-DfGvK"
      },
      "id": "2NfLQ3-DfGvK",
      "execution_count": null,
      "outputs": []
    },
    {
      "cell_type": "code",
      "source": [],
      "metadata": {
        "colab": {
          "base_uri": "https://localhost:8080/",
          "height": 106
        },
        "id": "SdKQxYgdfG27",
        "outputId": "fa0a9fd6-7b63-4c36-eb58-1fc5a99b6e37"
      },
      "id": "SdKQxYgdfG27",
      "execution_count": 41,
      "outputs": [
        {
          "output_type": "error",
          "ename": "IndentationError",
          "evalue": "expected an indented block after function definition on line 55 (<ipython-input-41-5d1210b25c1d>, line 59)",
          "traceback": [
            "\u001b[0;36m  File \u001b[0;32m\"<ipython-input-41-5d1210b25c1d>\"\u001b[0;36m, line \u001b[0;32m59\u001b[0m\n\u001b[0;31m    d_model = 512\u001b[0m\n\u001b[0m                 ^\u001b[0m\n\u001b[0;31mIndentationError\u001b[0m\u001b[0;31m:\u001b[0m expected an indented block after function definition on line 55\n"
          ]
        }
      ]
    },
    {
      "cell_type": "code",
      "source": [],
      "metadata": {
        "id": "-i4venxNfG5a"
      },
      "id": "-i4venxNfG5a",
      "execution_count": null,
      "outputs": []
    },
    {
      "cell_type": "markdown",
      "source": [
        "## Decoder Transformer\n",
        "Used for tasks like text generation, where the model generates text for a given input or prompt. Text generation occurs as a word at a time and conditions on itself (previously generated content) to generate new ones. GPT-3 (Generative Pre-trained Transformer 3) is a well known Decoder Transformer.\n",
        "\n",
        "<div>\n",
        "<img src=\"https://github.com/caglarmert/DI725/blob/main/src/decoder_only_transformer.png?raw=true\" width=\"300\"/>\n",
        "</div>\n",
        "\n",
        "\n"
      ],
      "metadata": {
        "id": "g_yPohnTA6i4"
      },
      "id": "g_yPohnTA6i4"
    },
    {
      "cell_type": "markdown",
      "source": [
        "### Exercise 2.8: Decoder Layer\n",
        "\n",
        "Encoder layer is built similarly, what is the main difference between these two structures?\n",
        "\n",
        "\n",
        "#### Instructions\n",
        "* A multi-headed self-attention mechanism.\n",
        "* A feed-forward sublayer.\n",
        "* Normalization and dropout to be applied."
      ],
      "metadata": {
        "id": "PgiCPIppxepa"
      },
      "id": "PgiCPIppxepa"
    },
    {
      "cell_type": "code",
      "source": [
        "class DecoderLayer(nn.Module):\n",
        "    def __init__(self, d_model, num_heads, d_ff, dropout):\n",
        "        super(DecoderLayer, self).__init__()\n",
        "        # Multi-head self-attention\n",
        "        self.self_attention = MultiHeadAttention(d_model, num_heads)\n",
        "        self.norm1 = nn.LayerNorm(d_model)\n",
        "        # Feedforward neural network\n",
        "        self.feed_forward = FeedForwardSubLayer(d_model, d_ff)\n",
        "        self.norm2 = nn.LayerNorm(d_model)\n",
        "        self.dropout = nn.Dropout(dropout)\n",
        "\n",
        "    def forward(self, x, self_mask):\n",
        "        # Multi-head self-attention\n",
        "        attention_output = self.self_attention(x, x, x, self_mask)\n",
        "        x = x + self.dropout(attention_output)\n",
        "        x = self.norm1(x)\n",
        "\n",
        "        # Feedforward neural network\n",
        "        ff_output = self.feed_forward(x)\n",
        "        x = x + self.dropout(ff_output)\n",
        "        x = self.norm2(x)\n",
        "\n",
        "        return x"
      ],
      "metadata": {
        "id": "SHslCMRKxe18"
      },
      "id": "SHslCMRKxe18",
      "execution_count": 25,
      "outputs": []
    },
    {
      "cell_type": "markdown",
      "source": [
        "### Exercise 2.9: Building a decoder body and head\n",
        "\n",
        "A high-level structure for a decoder only transformer will be implemented in this exercise. Different than the encoder transformer, the model body and head is not separated in decoder transformer. Instead decoder transformer contains the model head and body. The model body is a stack of decoder layers.\n",
        "\n",
        "#### Instructions\n",
        "* Add the linear layer for the model head inside the TransformerDecoder class.\n",
        "* Apply the last stage of the forward pass, through the model head."
      ],
      "metadata": {
        "id": "mXXBXK9t5yFa"
      },
      "id": "mXXBXK9t5yFa"
    },
    {
      "cell_type": "code",
      "source": [
        "class TransformerDecoderOnly(nn.Module):\n",
        "    def __init__(self, vocab_size, d_model, num_layers, num_heads, d_ff, dropout, max_sequence_length):\n",
        "        super(TransformerDecoderOnly, self).__init__()\n",
        "        self.embedding = nn.Embedding(vocab_size, d_model)\n",
        "        self.positional_encoding = PositionalEncoding(d_model = d_model, max_len = max_sequence_length)\n",
        "        self.layers = nn.ModuleList([DecoderLayer(d_model, num_heads, d_ff, dropout) for _ in range(num_layers)])\n",
        "\n",
        "        # Add a linear layer (head) for next-word prediction\n",
        "        self.fc = nn.Linear(d_model, vocab_size)\n",
        "\n",
        "    def forward(self, x, self_mask):\n",
        "        x = self.embedding(x)\n",
        "        x = self.positional_encoding(x)\n",
        "        for layer in self.layers:\n",
        "            x = layer(x, self_mask)\n",
        "\n",
        "        # Apply the forward pass through the model head\n",
        "        x = self.fc(x)\n",
        "        return F.log_softmax(x, dim=-1)"
      ],
      "metadata": {
        "id": "DGiGIeNm4PG3"
      },
      "id": "DGiGIeNm4PG3",
      "execution_count": 26,
      "outputs": []
    },
    {
      "cell_type": "markdown",
      "source": [
        "### Exercise 2.10: Testing the decoder transformer\n",
        "\n",
        "A random and simple sequence will be used as an input to the decoder transformer. Obtaining the output without any errors is sufficient for this exercise.\n",
        "\n",
        "The following components are adequate to form a full decoder transformer:\n",
        "* PositionalEncoder\n",
        "* MultiHeadAttention\n",
        "* FeedForwardSublayer\n",
        "* DecoderLayer\n",
        "* TransformerDecoder\n",
        "\n",
        "#### Instructions\n",
        "* Implement the decoder transformer with methods and classes defined before.\n",
        "* Complete the forward pass throughout the entire transformer body and head to obtain and print  outputs."
      ],
      "metadata": {
        "id": "ahPqhTJ06BIP"
      },
      "id": "ahPqhTJ06BIP"
    },
    {
      "cell_type": "code",
      "source": [
        "num_classes = 3\n",
        "vocab_size = 10000\n",
        "batch_size = 8\n",
        "d_model = 512\n",
        "num_heads = 8\n",
        "num_layers = 6\n",
        "d_ff = 2048\n",
        "sequence_length = 64\n",
        "dropout = 0.1\n",
        "\n",
        "input_sequence = torch.randint(0, vocab_size, (batch_size, sequence_length))\n",
        "\n",
        "# Create a triangular attention mask for causal attention\n",
        "self_attention_mask = (1 - torch.triu(torch.ones(1, sequence_length, sequence_length), diagonal=1)).bool()\n",
        "\n",
        "# Instantiate the decoder transformer\n",
        "decoder = TransformerDecoderOnly(vocab_size, d_model, num_layers, num_heads, d_ff, dropout, max_sequence_length=sequence_length)\n",
        "\n",
        "output = decoder(input_sequence, self_attention_mask)\n",
        "print(output.shape)\n",
        "print(output)"
      ],
      "metadata": {
        "colab": {
          "base_uri": "https://localhost:8080/"
        },
        "id": "HFMAatSbvg5e",
        "outputId": "3a7eba1b-8e02-4a2e-9344-f9d966efd84b"
      },
      "id": "HFMAatSbvg5e",
      "execution_count": 27,
      "outputs": [
        {
          "output_type": "stream",
          "name": "stdout",
          "text": [
            "torch.Size([8, 64, 10000])\n",
            "tensor([[[-10.1085,  -9.2134,  -9.2512,  ...,  -9.2836, -10.0164,  -8.4644],\n",
            "         [ -9.0343,  -8.6106, -10.2983,  ...,  -8.3654, -10.0330,  -8.8479],\n",
            "         [ -9.0817,  -9.3256,  -9.6297,  ...,  -8.8199,  -9.6157,  -9.1442],\n",
            "         ...,\n",
            "         [ -9.7393,  -9.9273, -10.1559,  ...,  -9.9823,  -8.8588, -10.1282],\n",
            "         [-10.1652,  -9.0560,  -9.9368,  ...,  -9.0670,  -9.4895,  -9.9586],\n",
            "         [ -8.7736,  -9.2071,  -8.6474,  ...,  -9.7909, -10.1807, -10.5687]],\n",
            "\n",
            "        [[ -8.3790,  -8.6071,  -9.3742,  ...,  -9.8336, -10.4801,  -9.4455],\n",
            "         [ -9.9700,  -9.0452,  -8.9522,  ...,  -9.0425,  -9.3366,  -9.4260],\n",
            "         [ -8.5884,  -9.2320,  -8.3248,  ...,  -8.3552, -10.3686, -10.5868],\n",
            "         ...,\n",
            "         [ -9.4847, -10.3007,  -9.9165,  ...,  -9.4511,  -8.8544,  -9.6979],\n",
            "         [ -9.7799,  -9.7886, -10.0712,  ...,  -9.5681, -10.4566,  -9.3493],\n",
            "         [ -9.3193,  -9.6747,  -9.7855,  ...,  -8.9448,  -9.1245,  -9.9601]],\n",
            "\n",
            "        [[ -9.5004,  -9.1306,  -9.5307,  ..., -10.3651, -10.1766, -10.1526],\n",
            "         [ -9.7607,  -9.4055, -10.0427,  ...,  -9.1373,  -9.6882,  -9.4906],\n",
            "         [-10.4406,  -9.2689,  -9.4491,  ..., -10.2670,  -9.5481, -10.3836],\n",
            "         ...,\n",
            "         [ -9.4846,  -9.3039,  -9.4375,  ..., -10.6676,  -8.9092, -10.3407],\n",
            "         [-10.0749,  -8.9903,  -9.1951,  ...,  -9.0900,  -8.7999, -10.0942],\n",
            "         [ -9.3272,  -9.6447,  -9.8943,  ...,  -9.1467,  -8.5193,  -9.9869]],\n",
            "\n",
            "        ...,\n",
            "\n",
            "        [[ -9.8610,  -9.5533,  -9.0965,  ..., -10.9950, -10.0785,  -9.9781],\n",
            "         [ -9.5285,  -7.9254,  -9.4836,  ...,  -9.7413, -10.1644,  -9.7957],\n",
            "         [-10.2017,  -9.3701,  -9.5724,  ...,  -9.7054, -10.1987,  -9.4114],\n",
            "         ...,\n",
            "         [ -9.9932,  -9.2516, -10.6676,  ..., -10.1567,  -8.5791,  -9.3536],\n",
            "         [ -9.2565,  -9.9102,  -8.7230,  ...,  -9.5457,  -9.7349,  -9.9806],\n",
            "         [-10.2249,  -9.3507,  -9.7656,  ...,  -8.9837,  -9.7751,  -9.0403]],\n",
            "\n",
            "        [[ -9.5056,  -9.1425,  -8.8053,  ...,  -8.7443,  -9.1628,  -9.3989],\n",
            "         [ -9.9061,  -8.6689, -10.0906,  ...,  -9.4110,  -9.0992, -10.4989],\n",
            "         [ -9.8584,  -9.3901,  -9.0768,  ..., -10.0611,  -8.7949,  -9.9836],\n",
            "         ...,\n",
            "         [ -9.5573,  -8.8235,  -9.7759,  ...,  -9.2658,  -9.0389,  -9.2321],\n",
            "         [ -9.7101,  -9.6993, -10.3720,  ...,  -9.2934,  -9.2464,  -9.5820],\n",
            "         [-10.0201,  -9.2868, -10.5829,  ...,  -9.6134,  -9.0563,  -8.9274]],\n",
            "\n",
            "        [[ -9.8149,  -9.9272,  -9.1126,  ...,  -8.8709,  -9.4577,  -9.4066],\n",
            "         [-10.4549,  -9.7990,  -9.6385,  ...,  -9.0006,  -9.3694,  -9.8187],\n",
            "         [ -9.4867,  -9.6879,  -9.1975,  ...,  -9.4625,  -9.0624, -10.2117],\n",
            "         ...,\n",
            "         [-10.0131,  -9.4641,  -8.9562,  ...,  -9.2297,  -9.3289,  -9.9357],\n",
            "         [ -9.5522,  -9.5467,  -9.4531,  ..., -10.2326,  -8.5716, -10.1502],\n",
            "         [ -9.4483,  -9.3275, -10.0092,  ...,  -9.1850,  -8.6407,  -9.3997]]],\n",
            "       grad_fn=<LogSoftmaxBackward0>)\n"
          ]
        }
      ]
    },
    {
      "cell_type": "markdown",
      "source": [
        "The triangular mask defined here is the causal mask that prohibits the decoder from observing the \"future\" or cheating. For the first element in the sequence, the decoder can only observe the first element, for the second: the second and the first... for nth element, the decoder can only observe elements (tokens) up to the nth element, basically the last generated element and all previous ones."
      ],
      "metadata": {
        "id": "4_p3PvxyTyyN"
      },
      "id": "4_p3PvxyTyyN"
    },
    {
      "cell_type": "code",
      "source": [
        "plt.imshow(self_attention_mask[0])"
      ],
      "metadata": {
        "colab": {
          "base_uri": "https://localhost:8080/",
          "height": 449
        },
        "id": "8IqI7WqJT77t",
        "outputId": "17042cd2-927f-4b6a-cb4a-c703f45bafdd"
      },
      "id": "8IqI7WqJT77t",
      "execution_count": 28,
      "outputs": [
        {
          "output_type": "execute_result",
          "data": {
            "text/plain": [
              "<matplotlib.image.AxesImage at 0x7e453a55c9a0>"
            ]
          },
          "metadata": {},
          "execution_count": 28
        },
        {
          "output_type": "display_data",
          "data": {
            "text/plain": [
              "<Figure size 640x480 with 1 Axes>"
            ],
            "image/png": "[encoded data removed]"
          },
          "metadata": {}
        }
      ]
    },
    {
      "cell_type": "markdown",
      "source": [
        "## Encoder-Decoder Transformer\n",
        "Useful for translation tasks, where a given input text is required to be translated into an output in a target language. T5 (Text-to-Text Transfer Transformer) is a well known encoder-decoder transformer which can also do summarization, question answering as well as translation."
      ],
      "metadata": {
        "id": "Z-M0a32yA8yR"
      },
      "id": "Z-M0a32yA8yR"
    },
    {
      "cell_type": "markdown",
      "source": [
        "### Exercise 2.11: Incorporating cross-attention in a decoder\n",
        "\n",
        "In an encoder-decoder transformer, decoder layers incorporate two attention mechanisms: the causal attention inherent to any transformer decoder, plus a cross-attention that integrates source sequence information processed by the encoder with the target sequence information being processed through the decoder.\n",
        "\n",
        "\n",
        "<div>\n",
        "<img src=\"https://github.com/caglarmert/DI725/blob/main/src/Cross_attention.png?raw=true\" width=\"400\"/>\n",
        "</div>\n",
        "\n",
        "\n",
        "Modify the DecoderLayer class to incorporate this twofold attention scheme.\n",
        "\n",
        "#### Instructions\n",
        "* Initialize the two attention mechanisms used in an encoder-decoder transformers' decoder layer: causal (masked) self-attention and cross-attention.\n",
        "* Pass the necessary input arguments (query, key, values, and mask) to the two attention stages in the forward pass."
      ],
      "metadata": {
        "id": "ZBaL5H4lKLlY"
      },
      "id": "ZBaL5H4lKLlY"
    },
    {
      "cell_type": "code",
      "source": [
        "class DecoderLayer(nn.Module):\n",
        "    def __init__(self, d_model, num_heads, d_ff, dropout):\n",
        "        super(DecoderLayer, self).__init__()\n",
        "\n",
        "        # Initialize the causal (masked) self-attention and cross-attention\n",
        "        self.self_attn = MultiHeadAttention(d_model, num_heads)\n",
        "        self.cross_attn = MultiHeadAttention(d_model, num_heads)\n",
        "        self.feed_forward = FeedForwardSubLayer(d_model, d_ff)\n",
        "        self.norm1 = nn.LayerNorm(d_model)\n",
        "        self.norm2 = nn.LayerNorm(d_model)\n",
        "        self.norm3 = nn.LayerNorm(d_model)\n",
        "        self.dropout = nn.Dropout(dropout)\n",
        "\n",
        "    def forward(self, x, causal_mask, encoder_output, cross_mask):\n",
        "        # Pass the necessary arguments to the causal self-attention and cross-attention\n",
        "        self_attn_output = self.self_attn(x, x, x, causal_mask)\n",
        "        x = self.norm1(x + self.dropout(self_attn_output))\n",
        "        cross_attn_output = self.cross_attn(x, encoder_output, encoder_output, cross_mask)\n",
        "        # (query, key, values, and mask)\n",
        "        x = self.norm2(x + self.dropout(cross_attn_output))\n",
        "        ff_output = self.feed_forward(x)\n",
        "        x = self.norm3(x + self.dropout(ff_output))\n",
        "        return x"
      ],
      "metadata": {
        "id": "7drUCHLr6Kb5"
      },
      "id": "7drUCHLr6Kb5",
      "execution_count": 29,
      "outputs": []
    },
    {
      "cell_type": "markdown",
      "source": [
        "### Exercise 2.12: Updating Decoder Transformer"
      ],
      "metadata": {
        "id": "l_m2lLe35zyd"
      },
      "id": "l_m2lLe35zyd"
    },
    {
      "cell_type": "code",
      "source": [
        "class TransformerDecoder(nn.Module):\n",
        "    def __init__(self, vocab_size, d_model, num_layers, num_heads, d_ff, dropout, max_sequence_length):\n",
        "        super(TransformerDecoder, self).__init__()\n",
        "        self.embedding = nn.Embedding(vocab_size, d_model)\n",
        "        self.positional_encoding = PositionalEncoding(d_model = d_model, max_len = max_sequence_length)\n",
        "        self.layers = nn.ModuleList([DecoderLayer(d_model, num_heads, d_ff, dropout) for _ in range(num_layers)])\n",
        "\n",
        "    def forward(self, x, causal_mask, encoder_output, cross_mask):\n",
        "        x = self.embedding(x)\n",
        "        x = self.positional_encoding(x)\n",
        "        for layer in self.layers:\n",
        "            x = layer(x, causal_mask, encoder_output, cross_mask)\n",
        "        return x"
      ],
      "metadata": {
        "id": "xJgCmGfv5t1h"
      },
      "id": "xJgCmGfv5t1h",
      "execution_count": 30,
      "outputs": []
    },
    {
      "cell_type": "markdown",
      "source": [
        "### Exercise 2.13: Trying out an encoder-decoder transformer\n",
        "Your next task is complete the following piece of code to define and forward-pass an example batch of randomly generated input sequences through an encoder-decoder transformer.\n",
        "\n",
        "Remember that we are only testing a yet-to-be-trained transformer architecture, hence the use of random input sequences.\n",
        "\n",
        "The following components are required to form a full encoder-decoder transformer:\n",
        "* MultiHeadAttention\n",
        "* FeedForwardSubLayer\n",
        "* PositionalEncoding\n",
        "* EncoderLayer\n",
        "* DecoderLayer\n",
        "* TransformerEncoder\n",
        "* TransformerDecoder\n",
        "* ClassifierHead\n",
        "\n",
        "\n",
        "#### Instructions\n",
        "\n",
        "* Create a batch of random input sequences of size batch_size X sequence_length.\n",
        "* Instantiate the two transformer bodies using the appropriate class names.\n",
        "* Pass the necessary masks as arguments to the encoder and the decoder for their underlying attention mechanisms; each mask argument should be added in the same order they are utilized inside the encoder or decoder layer."
      ],
      "metadata": {
        "id": "XEr8387SKV65"
      },
      "id": "XEr8387SKV65"
    },
    {
      "cell_type": "code",
      "source": [
        "vocab_size = 10000\n",
        "batch_size = 16\n",
        "d_model = 512\n",
        "num_heads = 8\n",
        "num_layers = 6\n",
        "d_ff = 2048\n",
        "sequence_length = 128\n",
        "dropout = 0.1\n",
        "\n",
        "\n",
        "# Create a batch of random input sequences\n",
        "input_sequence = torch.randint(0, vocab_size, (batch_size, sequence_length))\n",
        "padding_mask = torch.randint(0, 2, (sequence_length, sequence_length))\n",
        "causal_mask = torch.triu(torch.ones(sequence_length, sequence_length), diagonal=1)\n",
        "\n",
        "# Instantiate the two transformer bodies\n",
        "encoder = TransformerEncoder(vocab_size, d_model, num_layers, num_heads, d_ff, dropout, max_sequence_length=sequence_length)\n",
        "decoder = TransformerDecoder(vocab_size, d_model, num_layers, num_heads, d_ff, dropout, max_sequence_length=sequence_length)\n",
        "\n",
        "# Pass the necessary masks as arguments to the encoder and the decoder\n",
        "encoder_output = encoder(input_sequence, padding_mask)\n",
        "decoder_output = decoder(input_sequence, causal_mask, encoder_output, padding_mask)\n",
        "print(\"Batch's output shape: \", decoder_output.shape)"
      ],
      "metadata": {
        "id": "PF-GaVkHKAQK",
        "colab": {
          "base_uri": "https://localhost:8080/"
        },
        "outputId": "c53e36e1-481d-4211-d6df-049e7b968599"
      },
      "id": "PF-GaVkHKAQK",
      "execution_count": 17,
      "outputs": [
        {
          "output_type": "stream",
          "name": "stdout",
          "text": [
            "Batch's output shape:  torch.Size([16, 128, 512])\n"
          ]
        }
      ]
    },
    {
      "cell_type": "markdown",
      "source": [
        "Let's check the causal mask for the Encoder-Decoder Transformer"
      ],
      "metadata": {
        "id": "gK_WUwsNU2ZH"
      },
      "id": "gK_WUwsNU2ZH"
    },
    {
      "cell_type": "code",
      "source": [
        "plt.imshow(causal_mask)"
      ],
      "metadata": {
        "colab": {
          "base_uri": "https://localhost:8080/",
          "height": 451
        },
        "id": "ypAizhx3U2hF",
        "outputId": "7352fb35-1c99-4ce3-c90b-cd95b68219e6"
      },
      "id": "ypAizhx3U2hF",
      "execution_count": 18,
      "outputs": [
        {
          "output_type": "execute_result",
          "data": {
            "text/plain": [
              "<matplotlib.image.AxesImage at 0x7e453a5172b0>"
            ]
          },
          "metadata": {},
          "execution_count": 18
        },
        {
          "output_type": "display_data",
          "data": {
            "text/plain": [
              "<Figure size 640x480 with 1 Axes>"
            ],
            "image/png": "[encoded data removed]"
          },
          "metadata": {}
        }
      ]
    },
    {
      "cell_type": "code",
      "source": [],
      "metadata": {
        "id": "JiOoHZxXZn24"
      },
      "id": "JiOoHZxXZn24",
      "execution_count": null,
      "outputs": []
    },
    {
      "cell_type": "code",
      "source": [],
      "metadata": {
        "id": "7vsjbSkIZn5n"
      },
      "id": "7vsjbSkIZn5n",
      "execution_count": null,
      "outputs": []
    },
    {
      "cell_type": "markdown",
      "source": [],
      "metadata": {
        "id": "inYNlUH7WJJH"
      },
      "id": "inYNlUH7WJJH"
    },
    {
      "cell_type": "code",
      "source": [
        "# Initialize positional encoding layer and stack of EncoderLayer modules\n",
        "class TransformerEncoderOnly(nn.Module):\n",
        "    def __init__(self, vocab_size, d_model, num_heads, num_layers, d_ff, max_seq_len, dropout):\n",
        "        super(TransformerEncoderOnly, self).__init__()\n",
        "        self.embedding = nn.Embedding(vocab_size, d_model)\n",
        "        self.positional_encoding = PositionalEncoding(d_model, max_seq_len)\n",
        "        self.layers = nn.ModuleList([EncoderLayer(d_model, num_heads, d_ff, dropout) for _ in range(num_layers)])\n",
        "        self.dropout = nn.Dropout(dropout)\n",
        "\n",
        "    def forward(self, x, mask):\n",
        "        x = self.embedding(x)\n",
        "        x = self.positional_encoding(x)\n",
        "        x = self.dropout(x)\n",
        "\n",
        "        # Pass the sequence through each layer in the encoder\n",
        "        for layer in self.layers:\n",
        "            x = layer(x, mask)\n",
        "\n",
        "        return x\n",
        "\n",
        "class TransformerModel(nn.Module):\n",
        "    def __init__(self, vocab_size, d_model, num_heads, num_layers, d_ff, max_seq_len, dropout):\n",
        "        super(TransformerModel, self).__init__()\n",
        "        # Initialize the encoder stack of the Transformer\n",
        "        self.encoder = TransformerEncoderOnly(vocab_size, d_model, num_heads, num_layers, d_ff, max_seq_len, dropout)\n",
        "\n",
        "    def forward(self, src, src_mask):\n",
        "        encoder_output = self.encoder(src, src_mask)\n",
        "        return encoder_output"
      ],
      "metadata": {
        "id": "1UpHoIVrWJTO"
      },
      "id": "1UpHoIVrWJTO",
      "execution_count": 36,
      "outputs": []
    },
    {
      "cell_type": "code",
      "source": [],
      "metadata": {
        "id": "V075aPkQcp-S"
      },
      "id": "V075aPkQcp-S",
      "execution_count": null,
      "outputs": []
    },
    {
      "cell_type": "code",
      "source": [
        "raise \"error\""
      ],
      "metadata": {
        "id": "Q66P-2r8V3Zp",
        "colab": {
          "base_uri": "https://localhost:8080/",
          "height": 141
        },
        "outputId": "284cbf03-8783-4562-9ea1-9c4e75b697e0"
      },
      "id": "Q66P-2r8V3Zp",
      "execution_count": 19,
      "outputs": [
        {
          "output_type": "error",
          "ename": "TypeError",
          "evalue": "exceptions must derive from BaseException",
          "traceback": [
            "\u001b[0;31m---------------------------------------------------------------------------\u001b[0m",
            "\u001b[0;31mTypeError\u001b[0m                                 Traceback (most recent call last)",
            "\u001b[0;32m<ipython-input-19-0223ecf2daad>\u001b[0m in \u001b[0;36m<cell line: 1>\u001b[0;34m()\u001b[0m\n\u001b[0;32m----> 1\u001b[0;31m \u001b[0;32mraise\u001b[0m \u001b[0;34m\"error\"\u001b[0m\u001b[0;34m\u001b[0m\u001b[0;34m\u001b[0m\u001b[0m\n\u001b[0m",
            "\u001b[0;31mTypeError\u001b[0m: exceptions must derive from BaseException"
          ]
        }
      ]
    },
    {
      "cell_type": "code",
      "source": [],
      "metadata": {
        "id": "HVGyEEqsV3dm"
      },
      "id": "HVGyEEqsV3dm",
      "execution_count": null,
      "outputs": []
    },
    {
      "cell_type": "code",
      "source": [],
      "metadata": {
        "id": "gZSC7iiCV3gX"
      },
      "id": "gZSC7iiCV3gX",
      "execution_count": null,
      "outputs": []
    },
    {
      "cell_type": "code",
      "source": [
        "from tqdm import tqdm\n",
        "import numpy as np\n",
        "import re\n",
        "import torch\n",
        "import torch.nn as nn\n",
        "from torch.utils.data.sampler import SubsetRandomSampler\n",
        "import matplotlib.pyplot as plt"
      ],
      "metadata": {
        "id": "PvXS5-xVV3jV"
      },
      "id": "PvXS5-xVV3jV",
      "execution_count": null,
      "outputs": []
    },
    {
      "cell_type": "code",
      "source": [
        "!wget https://www.manythings.org/anki/deu-eng.zip\n",
        "!unzip deu-eng.zip\n",
        "\n",
        "with open(\"deu.txt\") as f:\n",
        "  sentences = f.readlines()"
      ],
      "metadata": {
        "id": "ycQMdkheV3mJ"
      },
      "id": "ycQMdkheV3mJ",
      "execution_count": null,
      "outputs": []
    },
    {
      "cell_type": "code",
      "source": [
        "\n",
        "\n",
        "NUM_INSTANCES = 10000\n",
        "MAX_SENT_LEN = 10\n",
        "eng_sentences, deu_sentences = [], []\n",
        "eng_words, deu_words = set(), set()\n",
        "for i in tqdm(range(NUM_INSTANCES)):\n",
        "  rand_idx = np.random.randint(len(sentences))\n",
        "  # find only letters in sentences\n",
        "  eng_sent, deu_sent = [\"<sos>\"], [\"<sos>\"]\n",
        "  eng_sent += re.findall(r\"\\w+\", sentences[rand_idx].split(\"\\t\")[0])\n",
        "  deu_sent += re.findall(r\"\\w+\", sentences[rand_idx].split(\"\\t\")[1])\n",
        "\n",
        "  # change to lowercase\n",
        "  eng_sent = [x.lower() for x in eng_sent]\n",
        "  deu_sent = [x.lower() for x in deu_sent]\n",
        "  eng_sent.append(\"<eos>\")\n",
        "  deu_sent.append(\"<eos>\")\n",
        "\n",
        "  if len(eng_sent) >= MAX_SENT_LEN:\n",
        "    eng_sent = eng_sent[:MAX_SENT_LEN]\n",
        "  else:\n",
        "    for _ in range(MAX_SENT_LEN - len(eng_sent)):\n",
        "      eng_sent.append(\"<pad>\")\n",
        "\n",
        "  if len(deu_sent) >= MAX_SENT_LEN:\n",
        "    deu_sent = deu_sent[:MAX_SENT_LEN]\n",
        "  else:\n",
        "    for _ in range(MAX_SENT_LEN - len(deu_sent)):\n",
        "      deu_sent.append(\"<pad>\")\n",
        "\n",
        "  # add parsed sentences\n",
        "  eng_sentences.append(eng_sent)\n",
        "  deu_sentences.append(deu_sent)\n",
        "\n",
        "  # update unique words\n",
        "  eng_words.update(eng_sent)\n",
        "  deu_words.update(deu_sent)\n",
        "\n",
        "eng_words, deu_words = list(eng_words), list(deu_words)\n",
        "\n",
        "# encode each token into index\n",
        "for i in tqdm(range(len(eng_sentences))):\n",
        "  eng_sentences[i] = [eng_words.index(x) for x in eng_sentences[i]]\n",
        "  deu_sentences[i] = [deu_words.index(x) for x in deu_sentences[i]]\n",
        "\n",
        "idx = 10\n",
        "print(eng_sentences[idx])\n",
        "print([eng_words[x] for x in eng_sentences[idx]])\n",
        "print(deu_sentences[idx])\n",
        "print([deu_words[x] for x in deu_sentences[idx]])"
      ],
      "metadata": {
        "id": "i1hHdWv_V5vW"
      },
      "id": "i1hHdWv_V5vW",
      "execution_count": null,
      "outputs": []
    },
    {
      "cell_type": "code",
      "source": [
        "ENG_VOCAB_SIZE = len(eng_words)\n",
        "DEU_VOCAB_SIZE = len(deu_words)\n",
        "NUM_EPOCHS = 10\n",
        "HIDDEN_SIZE = 16\n",
        "EMBEDDING_DIM = 30\n",
        "BATCH_SIZE = 128\n",
        "NUM_HEADS = 2\n",
        "NUM_LAYERS = 3\n",
        "LEARNING_RATE = 1e-2\n",
        "DROPOUT = .3\n",
        "DEVICE = torch.device('cuda')"
      ],
      "metadata": {
        "id": "HU8qoaG0V6VL"
      },
      "id": "HU8qoaG0V6VL",
      "execution_count": null,
      "outputs": []
    },
    {
      "cell_type": "code",
      "source": [
        "class MTDataset(torch.utils.data.Dataset):\n",
        "  def __init__(self):\n",
        "    # import and initialize dataset\n",
        "    self.source = np.array(eng_sentences, dtype = int)\n",
        "    self.target = np.array(deu_sentences, dtype = int)\n",
        "\n",
        "  def __getitem__(self, idx):\n",
        "    # get item by index\n",
        "    return self.source[idx], self.target[idx]\n",
        "\n",
        "  def __len__(self):\n",
        "    # returns length of data\n",
        "    return len(self.source)\n",
        "\n",
        "np.random.seed(777)   # for reproducibility\n",
        "dataset = MTDataset()\n",
        "NUM_INSTANCES = len(dataset)\n",
        "TEST_RATIO = 0.3\n",
        "TEST_SIZE = int(NUM_INSTANCES * 0.3)\n",
        "\n",
        "indices = list(range(NUM_INSTANCES))\n",
        "\n",
        "test_idx = np.random.choice(indices, size = TEST_SIZE, replace = False)\n",
        "train_idx = list(set(indices) - set(test_idx))\n",
        "train_sampler, test_sampler = SubsetRandomSampler(train_idx), SubsetRandomSampler(test_idx)\n",
        "\n",
        "train_loader = torch.utils.data.DataLoader(dataset, batch_size = BATCH_SIZE, sampler = train_sampler)\n",
        "test_loader = torch.utils.data.DataLoader(dataset, batch_size = BATCH_SIZE, sampler = test_sampler)"
      ],
      "metadata": {
        "id": "nHNIm3alW1En"
      },
      "id": "nHNIm3alW1En",
      "execution_count": null,
      "outputs": []
    },
    {
      "cell_type": "code",
      "source": [
        "src, tgt = next(iter(train_loader))\n",
        "print(src.shape, tgt.shape)   # (BATCH_SIZE, SEQ_LEN)"
      ],
      "metadata": {
        "id": "BxmBQ0xJW-Jr"
      },
      "id": "BxmBQ0xJW-Jr",
      "execution_count": null,
      "outputs": []
    },
    {
      "cell_type": "code",
      "source": [
        "enc_embedding = nn.Embedding(ENG_VOCAB_SIZE, EMBEDDING_DIM)\n",
        "dec_embedding = nn.Embedding(DEU_VOCAB_SIZE, EMBEDDING_DIM)\n",
        "src, tgt = enc_embedding(src), dec_embedding(tgt)\n",
        "print(src.shape, tgt.shape)                # (BATCH_SIZE, SEQ_LEN, EMBEDDING_DIM)"
      ],
      "metadata": {
        "id": "jpLHPKVBXL4A"
      },
      "id": "jpLHPKVBXL4A",
      "execution_count": null,
      "outputs": []
    },
    {
      "cell_type": "code",
      "source": [
        "## source: https://pytorch.org/tutorials/beginner/transformer_tutorial.html\n",
        "class PositionalEncoding(nn.Module):\n",
        "    def __init__(self, d_model, dropout=0.1, max_len=5000):\n",
        "        super(PositionalEncoding, self).__init__()\n",
        "        self.dropout = nn.Dropout(p=dropout)\n",
        "        pe = torch.zeros(max_len, d_model)\n",
        "        position = torch.arange(0, max_len, dtype=torch.float).unsqueeze(1)\n",
        "        div_term = torch.exp(torch.arange(0, d_model, 2).float() * (-np.log(10000.0) / d_model))\n",
        "        pe[:, 0::2] = torch.sin(position * div_term)\n",
        "        pe[:, 1::2] = torch.cos(position * div_term)\n",
        "        pe = pe.unsqueeze(0).transpose(0, 1)\n",
        "        self.register_buffer('pe', pe)\n",
        "\n",
        "    def forward(self, x):\n",
        "        x = x + self.pe[:x.size(0), :]\n",
        "        return self.dropout(x)"
      ],
      "metadata": {
        "id": "raxIOgWyXOIo"
      },
      "id": "raxIOgWyXOIo",
      "execution_count": null,
      "outputs": []
    },
    {
      "cell_type": "code",
      "source": [
        "pe = PositionalEncoding(EMBEDDING_DIM, max_len = MAX_SENT_LEN)\n",
        "src, tgt = pe(src.permute(1, 0, 2)), pe(tgt.permute(1, 0, 2))\n",
        "print(src.shape, tgt.shape)              # (SEQ_LEN, BATCH_SIZE, EMBEDDING_DIM)"
      ],
      "metadata": {
        "id": "y_Hq7knTXWWP"
      },
      "id": "y_Hq7knTXWWP",
      "execution_count": null,
      "outputs": []
    },
    {
      "cell_type": "code",
      "source": [
        "enc_layer = nn.TransformerEncoderLayer(EMBEDDING_DIM, NUM_HEADS, HIDDEN_SIZE, DROPOUT)\n",
        "memory = enc_layer(src)\n",
        "print(memory.shape)                      # (SEQ_LEN, BATCH_SIZE, EMBEDDING_DIM)"
      ],
      "metadata": {
        "id": "t6wplf9gXZGI"
      },
      "id": "t6wplf9gXZGI",
      "execution_count": null,
      "outputs": []
    },
    {
      "cell_type": "code",
      "source": [
        "encoder = nn.TransformerEncoder(enc_layer, num_layers = NUM_LAYERS)\n",
        "memory = encoder(src)\n",
        "print(memory.shape)                     # (SEQ_LEN, BATCH_SIZE, EMBEDDING_DIM)"
      ],
      "metadata": {
        "id": "FYVuRta7XbO5"
      },
      "id": "FYVuRta7XbO5",
      "execution_count": null,
      "outputs": []
    },
    {
      "cell_type": "code",
      "source": [
        "dec_layer = nn.TransformerDecoderLayer(EMBEDDING_DIM, NUM_HEADS, HIDDEN_SIZE, DROPOUT)\n",
        "decoder = nn.TransformerDecoder(dec_layer, num_layers = NUM_LAYERS)\n",
        "transformer_output = decoder(tgt, memory)\n",
        "print(transformer_output.shape)        # (SEQ_LEN, BATCH_SIZE, EMBEDDING_DIM)"
      ],
      "metadata": {
        "id": "LX-BFeg4Xfo4"
      },
      "id": "LX-BFeg4Xfo4",
      "execution_count": null,
      "outputs": []
    },
    {
      "cell_type": "code",
      "source": [
        "dense = nn.Linear(EMBEDDING_DIM, DEU_VOCAB_SIZE)\n",
        "final_output = dense(transformer_output)\n",
        "print(final_output.shape)             # (SEQ_LEN, BATCH_SIZE, EMBEDDING_DIM)"
      ],
      "metadata": {
        "id": "dhYYhVzDXk7j"
      },
      "id": "dhYYhVzDXk7j",
      "execution_count": null,
      "outputs": []
    },
    {
      "cell_type": "code",
      "source": [
        "class TransformerNet(nn.Module):\n",
        "  def __init__(self, num_src_vocab, num_tgt_vocab, embedding_dim, hidden_size, nheads, n_layers, max_src_len, max_tgt_len, dropout):\n",
        "    super(TransformerNet, self).__init__()\n",
        "    # embedding layers\n",
        "    self.enc_embedding = nn.Embedding(num_src_vocab, embedding_dim)\n",
        "    self.dec_embedding = nn.Embedding(num_tgt_vocab, embedding_dim)\n",
        "\n",
        "    # positional encoding layers\n",
        "    self.enc_pe = PositionalEncoding(embedding_dim, max_len = max_src_len)\n",
        "    self.dec_pe = PositionalEncoding(embedding_dim, max_len = max_tgt_len)\n",
        "\n",
        "    # encoder/decoder layers\n",
        "    enc_layer = nn.TransformerEncoderLayer(embedding_dim, nheads, hidden_size, dropout)\n",
        "    dec_layer = nn.TransformerDecoderLayer(embedding_dim, nheads, hidden_size, dropout)\n",
        "    self.encoder = nn.TransformerEncoder(enc_layer, num_layers = n_layers)\n",
        "    self.decoder = nn.TransformerDecoder(dec_layer, num_layers = n_layers)\n",
        "\n",
        "    # final dense layer\n",
        "    self.dense = nn.Linear(embedding_dim, num_tgt_vocab)\n",
        "    self.log_softmax = nn.LogSoftmax()\n",
        "\n",
        "  def forward(self, src, tgt):\n",
        "    src, tgt = self.enc_embedding(src).permute(1, 0, 2), self.dec_embedding(tgt).permute(1, 0, 2)\n",
        "    src, tgt = self.enc_pe(src), self.dec_pe(tgt)\n",
        "    memory = self.encoder(src)\n",
        "    transformer_out = self.decoder(tgt, memory)\n",
        "    final_out = self.dense(transformer_out)\n",
        "    return self.log_softmax(final_out)"
      ],
      "metadata": {
        "id": "BqUpJEdzXnHv"
      },
      "id": "BqUpJEdzXnHv",
      "execution_count": null,
      "outputs": []
    },
    {
      "cell_type": "code",
      "source": [
        "model = TransformerNet(ENG_VOCAB_SIZE, DEU_VOCAB_SIZE, EMBEDDING_DIM, HIDDEN_SIZE, NUM_HEADS, NUM_LAYERS, MAX_SENT_LEN, MAX_SENT_LEN, DROPOUT).to(DEVICE)\n",
        "criterion = nn.NLLLoss()\n",
        "optimizer = torch.optim.Adam(model.parameters(), lr = LEARNING_RATE)"
      ],
      "metadata": {
        "id": "wVRe3n8jXowv"
      },
      "id": "wVRe3n8jXowv",
      "execution_count": null,
      "outputs": []
    },
    {
      "cell_type": "code",
      "source": [
        "%%time\n",
        "loss_trace = []\n",
        "for epoch in tqdm(range(NUM_EPOCHS)):\n",
        "  current_loss = 0\n",
        "  for i, (x, y) in enumerate(train_loader):\n",
        "    x, y  = x.to(DEVICE), y.to(DEVICE)\n",
        "    outputs = model(x, y)\n",
        "    loss = criterion(outputs.permute(1, 2, 0), y)\n",
        "    optimizer.zero_grad()\n",
        "    loss.backward()\n",
        "    optimizer.step()\n",
        "    current_loss += loss.item()\n",
        "  loss_trace.append(current_loss)\n",
        "\n"
      ],
      "metadata": {
        "id": "BA0ibMQkXrWs"
      },
      "id": "BA0ibMQkXrWs",
      "execution_count": null,
      "outputs": []
    },
    {
      "cell_type": "code",
      "source": [
        "# loss curve\n",
        "plt.plot(range(1, NUM_EPOCHS+1), loss_trace, 'r-')\n",
        "plt.xlabel('Epoch')\n",
        "plt.ylabel('Loss')\n",
        "plt.show()"
      ],
      "metadata": {
        "id": "vXy1cqa-X7-H"
      },
      "id": "vXy1cqa-X7-H",
      "execution_count": null,
      "outputs": []
    },
    {
      "cell_type": "code",
      "source": [],
      "metadata": {
        "id": "6RCEa9E9Yy6v"
      },
      "id": "6RCEa9E9Yy6v",
      "execution_count": null,
      "outputs": []
    },
    {
      "cell_type": "markdown",
      "source": [
        "1. https://arxiv.org/abs/1706.03762\n",
        "1. https://buomsoo-kim.github.io/attention/2020/04/19/Attention-mechanism-17.md/\n",
        "1. https://buomsoo-kim.github.io/attention/2020/04/20/Attention-mechanism-18.md/\n",
        "1. https://buomsoo-kim.github.io/attention/2020/04/21/Attention-mechanism-19.md/\n",
        "1. https://towardsdatascience.com/a-detailed-guide-to-pytorchs-nn-transformer-module-c80afbc9ffb1\n",
        "1. https://nlp.seas.harvard.edu/annotated-transformer/\n",
        "1. https://pytorch.org/tutorials/beginner/transformer_tutorial.html\n",
        "1. https://d2l.ai/chapter_attention-mechanisms-and-transformers/self-attention-and-positional-encoding.html\n",
        "\n"
      ],
      "metadata": {
        "id": "vQypvqNHYw_x"
      },
      "id": "vQypvqNHYw_x"
    },
    {
      "cell_type": "code",
      "source": [],
      "metadata": {
        "id": "DQJYoOT6rZpd"
      },
      "id": "DQJYoOT6rZpd",
      "execution_count": null,
      "outputs": []
    },
    {
      "cell_type": "code",
      "source": [],
      "metadata": {
        "id": "N-ayEiAAYrO3"
      },
      "id": "N-ayEiAAYrO3",
      "execution_count": null,
      "outputs": []
    }
  ],
  "metadata": {
    "kernelspec": {
      "display_name": "Python 3",
      "name": "python3"
    },
    "language_info": {
      "codemirror_mode": {
        "name": "ipython",
        "version": 3
      },
      "file_extension": ".py",
      "mimetype": "text/x-python",
      "name": "python",
      "nbconvert_exporter": "python",
      "pygments_lexer": "ipython3",
      "version": "3.11.5"
    },
    "colab": {
      "provenance": [],
      "toc_visible": true,
      "include_colab_link": true
    }
  },
  "nbformat": 4,
  "nbformat_minor": 5
}