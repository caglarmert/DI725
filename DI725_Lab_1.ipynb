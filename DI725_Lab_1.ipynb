{
  "cells": [
    {
      "cell_type": "markdown",
      "metadata": {
        "id": "view-in-github",
        "colab_type": "text"
      },
      "source": [
        "<a href=\"https://colab.research.google.com/github/caglarmert/DI725/blob/main/DI725_Lab_1.ipynb\" target=\"_parent\"><img src=\"https://colab.research.google.com/assets/colab-badge.svg\" alt=\"Open In Colab\"/></a>"
      ]
    },
    {
      "cell_type": "markdown",
      "id": "3745686a-405f-4729-a239-ffd17f6c5087",
      "metadata": {
        "id": "3745686a-405f-4729-a239-ffd17f6c5087"
      },
      "source": [
        "# DI 725: Transformers and Attention-Based Deep Networks\n",
        "\n",
        "## A Tutorial for Implementing Transformers in PyTorch\n",
        "\n",
        "The purpose of this notebook is to introduce the transformers architecture, building different types of transformers and its adaptations to various tasks.\n",
        "\n",
        "In this notebook, there will be three different tasks, suitable to demonstrate Encoder-Transformer, Decoder-Transformer and Encoder-Decoder Transformer architectures.\n",
        "\n",
        "### Authors:\n",
        "* Tuğba Taşkaya Temizel: ttemizel metu.edu.tr\n",
        "* Alptekin Temizel: atemizel metu.edu.tr\n",
        "* Ümit Mert Çağlar: mecaglar metu.edu.tr"
      ]
    },
    {
      "cell_type": "markdown",
      "id": "c0f81a53-355d-456d-90d1-9b5432dd1ce7",
      "metadata": {
        "id": "c0f81a53-355d-456d-90d1-9b5432dd1ce7"
      },
      "source": [
        "# Introduction"
      ]
    },
    {
      "cell_type": "markdown",
      "id": "c5125f78-dea0-4c0e-ab42-5978b7b2633e",
      "metadata": {
        "id": "c5125f78-dea0-4c0e-ab42-5978b7b2633e"
      },
      "source": [
        "## Attention Is All You Need\n",
        "\n",
        "The paper [Attention Is All You Need](https://arxiv.org/abs/1706.03762), by Vaswani et al. changed the deep learning scene, starting with the NLP tasks, spanning almost all other aspects of deep learning studies, including vision and time series tasks. The emphasis of this paper is on attention and the carefully designed well-known and proven components. We will begin by examining the figure (provided by the author) and understand every component in the so-called transformer architecture.\n",
        "\n",
        "---\n",
        "<div>\n",
        "<img src=\"https://github.com/caglarmert/DI725/blob/main/src/attention_research_1.png?raw=true\" width=\"400\"/>\n",
        "</div>\n",
        "\n",
        "---\n",
        "Just by observing the architecture we can spot some important aspects of the Transformer architecture.\n",
        "* First, we have [embeddings](https://arxiv.org/abs/1608.05859) at the input and\n",
        "output, these are required in many tasks, to transform data into high dimensional vectors.\n",
        "* Second, we have [Positional Encoding](https://arxiv.org/pdf/1705.03122.pdf), which we require for the Transformer model to understand and relate the relative position of input and output tokens or embeddings.\n",
        "* On the left-hand side, we have the Encoder structure, which is a stacked network (depicted with Nx), that has the subcomponents of a Multi-Head Attention and a Feed Forward Network.\n",
        "* The attention mechanism, has Query, Key and Value (Q K V) as inputs, and all three of them are fed into the Multi-Head Attention block. This mechanism is the building pillar of Transformers, also highlighted by the authors:\n",
        " * *In this work we propose the Transformer, a model architecture eschewing recurrence and instead relying entirely on an attention mechanism to draw global dependencies between input and output.*\n",
        " * *An attention function can be described as mapping a query and a set of key-value pairs to an output, where the query, keys, values, and output are all vectors. The output is computed as a weighted sum of the values, where the weight assigned to each value is computed by a compatibility function of the query with the corresponding key.*\n",
        "* We can also observe the Residual Connections and Layer Normalization block applied right after the attention and feed forward blocks. [Residual Connections](https://arxiv.org/abs/1512.03385) is an important factor that enables gradient flow in deeper networks. And [Layer Normalization](https://arxiv.org/abs/1607.06450) helps with the model training. Also the [Dropout](https://jmlr.org/papers/v15/srivastava14a.html) mechanism is applied for all sub-layers and it helps with the training.\n",
        "* Similarly on the right-hand side, we have another stacked architecture, but this time it is in the form of the Decoder structure.\n",
        "* The first attention mechanism we observe is ***Masked*** Multi-Head Self-Attention. It is masked to make sure that model only observes and attends to the previous tokens or embeddings.\n",
        "* The second attention mechanism in the Decoder architecture is Encoder-Decoder attention, or cross-attention layer. The keys and values come from the output of the Encoder stack while queries come from the first self-attention layer of the Decoder stack. With this cross-attention, decoder can attend over all positions in the input.\n",
        "* The Feed Forward layers, that are present in both Encoder and Decoder stacks, are defined by two linear layers and a ReLU activation function.\n",
        "* Finally, after all of the mechanisms and calculations, the generator that generates output probabilities is modeled by a linear layer and a softmax.\n"
      ]
    },
    {
      "cell_type": "markdown",
      "source": [
        "## Imports\n",
        "In this part we import the required libraries. This part might be required to be operational on the Colab servers for later parts. It is advised to check the associated python requirements.txt, that is frozen at the time of preparation of this notebook, in case of any library or version error occurs while running this notebook. Mind that installing everything locally via pip install -r \"requirements.txt\" is not advised though, mainly because of the discrepancies between Colab and locally available machine."
      ],
      "metadata": {
        "id": "9bx_lEEFJI5N"
      },
      "id": "9bx_lEEFJI5N"
    },
    {
      "cell_type": "code",
      "source": [
        "# Uncomment any install if needed. It is recommended that these installations\n",
        "# are performed prior to any notebook runs and imports\n",
        "\n",
        "# !pip install datasets # Huggingface dataset library\n",
        "# !pip install evaluate # Used for evaluation metrics\n",
        "# !pip install rouge_score # Is a text evaluation metric\n",
        "# !pip install trl #Transformers Reinforcement Learning framework\n",
        "# !pip install sacremoses # Used for specific characters, useful for languages like Turkish\n",
        "# !pip install portalocker>=2.0.0"
      ],
      "metadata": {
        "id": "yHryLjtEPxYd"
      },
      "id": "yHryLjtEPxYd",
      "execution_count": 1,
      "outputs": []
    },
    {
      "cell_type": "code",
      "execution_count": 2,
      "id": "70a9b2e0-fdb5-4697-a48f-44d1a08503f8",
      "metadata": {
        "id": "70a9b2e0-fdb5-4697-a48f-44d1a08503f8"
      },
      "outputs": [],
      "source": [
        "import math\n",
        "import torch\n",
        "from torch import nn, Tensor\n",
        "import torch.nn.functional as F\n",
        "import matplotlib.pyplot as plt\n",
        "\n",
        "import pandas as pd\n",
        "import altair as alt"
      ]
    },
    {
      "cell_type": "markdown",
      "source": [
        "The [torch](https://pytorch.org/) is a popular and diverse machine learning framework, enabling low level implementation (as low as it gets with Python anyway). The Neural Networks (nn) is a library within PyTorch that enables operations with neural network structures."
      ],
      "metadata": {
        "id": "QMDfs6xsJwj3"
      },
      "id": "QMDfs6xsJwj3"
    },
    {
      "cell_type": "markdown",
      "id": "1cce3f17-cf16-4b8e-be4c-769adba52eb2",
      "metadata": {
        "id": "1cce3f17-cf16-4b8e-be4c-769adba52eb2"
      },
      "source": [
        "# Building a Transformer Architecture in PyTorch"
      ]
    },
    {
      "cell_type": "markdown",
      "source": [
        "## Building Blocks\n",
        "Here we will try to build some building blocks that has some reusability."
      ],
      "metadata": {
        "id": "UXVW1LslAu9y"
      },
      "id": "UXVW1LslAu9y"
    },
    {
      "cell_type": "markdown",
      "source": [
        "### Exercise 2.2: Positional Encoding\n",
        "\n",
        "Building the positional encoding can be observed from the implementation provided below.\n",
        "\n",
        "#### Instructions\n",
        "* Specify the PyTorch class that the positional encoder should subclass from.\n",
        "* Initialize a positional encoding matrix for token positions in sequences up to max_length.\n",
        "* Assign unique position encodings to the matrix pe by alternating the use of sine and cosine functions.\n",
        "* Update the input embeddings tensor x to add position information about the sequence using the positional encodings matrix.\n",
        "\n",
        "\n",
        "---\n",
        "\n",
        "The Positional Encoding component is highlighted in the figure below, indicating its use, both in the Encoder, and the Decoder.\n",
        "\n",
        "<div>\n",
        "<img src=\"https://github.com/caglarmert/DI725/blob/main/src/PE_highlight.png?raw=true\" width=\"400\"/>\n",
        "</div>\n",
        "\n",
        "---\n",
        "\n",
        "\n"
      ],
      "metadata": {
        "id": "cCKhGMTXx-ss"
      },
      "id": "cCKhGMTXx-ss"
    },
    {
      "cell_type": "markdown",
      "source": [
        "In the __init__ method, we first initialize the superclass nn.Module and then define the model's dimension d_model and the maximum sequence length max_length. We then create a zero matrix pe of size max_length by d_model to store the positional encodings.\n",
        "\n",
        "Next, we calculate the positional encodings. We create a tensor position that contains the sequence positions and a tensor div_term that contains the division terms. The division terms are calculated using a formula that involves the natural logarithm of 10000 and the model's dimension. We then calculate the positional encodings by applying the sine function to the product of position and div_term for even indices and the cosine function for odd indices. The calculated positional encodings are then stored in the pe matrix.\n",
        "\n",
        "In the forward method, we add the positional encodings to the input embeddings tensor x. We slice the pe matrix to match the size of x before adding. The updated tensor x is then returned."
      ],
      "metadata": {
        "id": "6Xl4O79RK_bW"
      },
      "id": "6Xl4O79RK_bW"
    },
    {
      "cell_type": "code",
      "source": [
        "class PositionalEncoding(nn.Module):\n",
        "    \"\"\"\n",
        "    Positional encoding module. Inject some information about the relative or\n",
        "    absolute position of the tokens in the sequence.The positional encodings\n",
        "    have the same dimension as the embeddings, so that the two can be summed.\n",
        "    Here, we use sine and cosine functions of different frequencies.\n",
        "\n",
        "    Args:\n",
        "        d_model (int): Dimensionality of the input and output feature vectors.\n",
        "        dropout (float, optional): Dropout probability (default: 0.1).\n",
        "        max_len (int, optional): Maximum sequence length (default: 5000).\n",
        "\n",
        "    Attributes:\n",
        "        dropout (torch.nn.Dropout): Dropout layer.\n",
        "        pe (torch.Tensor): Positional encoding tensor.\n",
        "    \"\"\"\n",
        "    def __init__(self, d_model: int, dropout: float = 0.1, max_len: int = 5000):\n",
        "        super().__init__()\n",
        "        self.dropout = nn.Dropout(p=dropout)\n",
        "\n",
        "        position = torch.arange(0, max_len, dtype=torch.float).unsqueeze(1)\n",
        "        div_term = torch.exp(torch.arange(0, d_model, 2) * (-math.log(10000.0) / d_model))\n",
        "        pe = torch.zeros(max_len, d_model)\n",
        "        pe[:, 0::2] = torch.sin(position * div_term)\n",
        "        pe[:, 1::2] = torch.cos(position * div_term)\n",
        "        pe = pe.unsqueeze(0)\n",
        "        self.register_buffer('pe', pe)\n",
        "\n",
        "    def forward(self, x: Tensor) -> Tensor:\n",
        "        \"\"\"\n",
        "        Forward pass of the positional encoding.\n",
        "\n",
        "        Args:\n",
        "            x (torch.Tensor): Input tensor.\n",
        "\n",
        "        Returns:\n",
        "            torch.Tensor: Output tensor after adding positional encoding and applying dropout.\n",
        "        \"\"\"\n",
        "        x = x + self.pe[:, :x.size(1)]\n",
        "        return self.dropout(x)"
      ],
      "metadata": {
        "id": "ZFzC4clPGsP_"
      },
      "id": "ZFzC4clPGsP_",
      "execution_count": 3,
      "outputs": []
    },
    {
      "cell_type": "markdown",
      "source": [
        "To demonstrate the operation of Positional Encoding, we can use the following code block:"
      ],
      "metadata": {
        "id": "uKcRi-gdE8wf"
      },
      "id": "uKcRi-gdE8wf"
    },
    {
      "cell_type": "code",
      "source": [
        "def example_positional():\n",
        "    pe = PositionalEncoding(20, 0, 5000)\n",
        "    y = pe.forward(torch.zeros(1, 100, 20))\n",
        "\n",
        "    data = pd.concat(\n",
        "        [\n",
        "            pd.DataFrame(\n",
        "                {\n",
        "                    \"embedding\": y[0, :, dim],\n",
        "                    \"dimension\": dim,\n",
        "                    \"position\": list(range(100)),\n",
        "                }\n",
        "            )\n",
        "            for dim in [4, 5, 6, 7]\n",
        "        ]\n",
        "    )\n",
        "\n",
        "    return (\n",
        "        alt.Chart(data)\n",
        "        .mark_line()\n",
        "        .properties(width=800)\n",
        "        .encode(x=\"position\", y=\"embedding\", color=\"dimension:N\")\n",
        "        .interactive()\n",
        "    )\n",
        "\n",
        "\n",
        "example_positional()"
      ],
      "metadata": {
        "colab": {
          "base_uri": "https://localhost:8080/",
          "height": 368
        },
        "id": "ZKulvnac6xRb",
        "outputId": "c9211981-b1fe-43cb-99fa-66dad900d70a"
      },
      "id": "ZKulvnac6xRb",
      "execution_count": 4,
      "outputs": [
        {
          "output_type": "execute_result",
          "data": {
            "text/html": [
              "\n",
              "<div id=\"altair-viz-5f8fe0af15e7457fb7ec381f1c234f78\"></div>\n",
              "<script type=\"text/javascript\">\n",
              "  var VEGA_DEBUG = (typeof VEGA_DEBUG == \"undefined\") ? {} : VEGA_DEBUG;\n",
              "  (function(spec, embedOpt){\n",
              "    let outputDiv = document.currentScript.previousElementSibling;\n",
              "    if (outputDiv.id !== \"altair-viz-5f8fe0af15e7457fb7ec381f1c234f78\") {\n",
              "      outputDiv = document.getElementById(\"altair-viz-5f8fe0af15e7457fb7ec381f1c234f78\");\n",
              "    }\n",
              "    const paths = {\n",
              "      \"vega\": \"https://cdn.jsdelivr.net/npm//vega@5?noext\",\n",
              "      \"vega-lib\": \"https://cdn.jsdelivr.net/npm//vega-lib?noext\",\n",
              "      \"vega-lite\": \"https://cdn.jsdelivr.net/npm//vega-lite@4.17.0?noext\",\n",
              "      \"vega-embed\": \"https://cdn.jsdelivr.net/npm//vega-embed@6?noext\",\n",
              "    };\n",
              "\n",
              "    function maybeLoadScript(lib, version) {\n",
              "      var key = `${lib.replace(\"-\", \"\")}_version`;\n",
              "      return (VEGA_DEBUG[key] == version) ?\n",
              "        Promise.resolve(paths[lib]) :\n",
              "        new Promise(function(resolve, reject) {\n",
              "          var s = document.createElement('script');\n",
              "          document.getElementsByTagName(\"head\")[0].appendChild(s);\n",
              "          s.async = true;\n",
              "          s.onload = () => {\n",
              "            VEGA_DEBUG[key] = version;\n",
              "            return resolve(paths[lib]);\n",
              "          };\n",
              "          s.onerror = () => reject(`Error loading script: ${paths[lib]}`);\n",
              "          s.src = paths[lib];\n",
              "        });\n",
              "    }\n",
              "\n",
              "    function showError(err) {\n",
              "      outputDiv.innerHTML = `<div class=\"error\" style=\"color:red;\">${err}</div>`;\n",
              "      throw err;\n",
              "    }\n",
              "\n",
              "    function displayChart(vegaEmbed) {\n",
              "      vegaEmbed(outputDiv, spec, embedOpt)\n",
              "        .catch(err => showError(`Javascript Error: ${err.message}<br>This usually means there's a typo in your chart specification. See the javascript console for the full traceback.`));\n",
              "    }\n",
              "\n",
              "    if(typeof define === \"function\" && define.amd) {\n",
              "      requirejs.config({paths});\n",
              "      require([\"vega-embed\"], displayChart, err => showError(`Error loading script: ${err.message}`));\n",
              "    } else {\n",
              "      maybeLoadScript(\"vega\", \"5\")\n",
              "        .then(() => maybeLoadScript(\"vega-lite\", \"4.17.0\"))\n",
              "        .then(() => maybeLoadScript(\"vega-embed\", \"6\"))\n",
              "        .catch(showError)\n",
              "        .then(() => displayChart(vegaEmbed));\n",
              "    }\n",
              "  })({\"config\": {\"view\": {\"continuousWidth\": 400, \"continuousHeight\": 300}}, \"data\": {\"name\": \"data-eafc635ddfa311c913cbcc2d2bc4477d\"}, \"mark\": \"line\", \"encoding\": {\"color\": {\"field\": \"dimension\", \"type\": \"nominal\"}, \"x\": {\"field\": \"position\", \"type\": \"quantitative\"}, \"y\": {\"field\": \"embedding\", \"type\": \"quantitative\"}}, \"selection\": {\"selector001\": {\"type\": \"interval\", \"bind\": \"scales\", \"encodings\": [\"x\", \"y\"]}}, \"width\": 800, \"$schema\": \"https://vega.github.io/schema/vega-lite/v4.17.0.json\", \"datasets\": {\"data-eafc635ddfa311c913cbcc2d2bc4477d\": [{\"embedding\": 0.0, \"dimension\": 4, \"position\": 0}, {\"embedding\": 0.15782663226127625, \"dimension\": 4, \"position\": 1}, {\"embedding\": 0.3116971552371979, \"dimension\": 4, \"position\": 2}, {\"embedding\": 0.45775455236434937, \"dimension\": 4, \"position\": 3}, {\"embedding\": 0.5923377275466919, \"dimension\": 4, \"position\": 4}, {\"embedding\": 0.7120732069015503, \"dimension\": 4, \"position\": 5}, {\"embedding\": 0.813959538936615, \"dimension\": 4, \"position\": 6}, {\"embedding\": 0.8954429626464844, \"dimension\": 4, \"position\": 7}, {\"embedding\": 0.9544808864593506, \"dimension\": 4, \"position\": 8}, {\"embedding\": 0.989593505859375, \"dimension\": 4, \"position\": 9}, {\"embedding\": 0.9999006390571594, \"dimension\": 4, \"position\": 10}, {\"embedding\": 0.9851439595222473, \"dimension\": 4, \"position\": 11}, {\"embedding\": 0.94569331407547, \"dimension\": 4, \"position\": 12}, {\"embedding\": 0.8825376033782959, \"dimension\": 4, \"position\": 13}, {\"embedding\": 0.7972599267959595, \"dimension\": 4, \"position\": 14}, {\"embedding\": 0.6919978260993958, \"dimension\": 4, \"position\": 15}, {\"embedding\": 0.5693899393081665, \"dimension\": 4, \"position\": 16}, {\"embedding\": 0.4325096309185028, \"dimension\": 4, \"position\": 17}, {\"embedding\": 0.284787654876709, \"dimension\": 4, \"position\": 18}, {\"embedding\": 0.12992730736732483, \"dimension\": 4, \"position\": 19}, {\"embedding\": -0.028190065175294876, \"dimension\": 4, \"position\": 20}, {\"embedding\": -0.18560057878494263, \"dimension\": 4, \"position\": 21}, {\"embedding\": -0.3383587896823883, \"dimension\": 4, \"position\": 22}, {\"embedding\": -0.4826357960700989, \"dimension\": 4, \"position\": 23}, {\"embedding\": -0.6148146390914917, \"dimension\": 4, \"position\": 24}, {\"embedding\": -0.7315824031829834, \"dimension\": 4, \"position\": 25}, {\"embedding\": -0.8300122618675232, \"dimension\": 4, \"position\": 26}, {\"embedding\": -0.9076365828514099, \"dimension\": 4, \"position\": 27}, {\"embedding\": -0.96250981092453, \"dimension\": 4, \"position\": 28}, {\"embedding\": -0.9932565093040466, \"dimension\": 4, \"position\": 29}, {\"embedding\": -0.9991058707237244, \"dimension\": 4, \"position\": 30}, {\"embedding\": -0.9799113273620605, \"dimension\": 4, \"position\": 31}, {\"embedding\": -0.9361540079116821, \"dimension\": 4, \"position\": 32}, {\"embedding\": -0.8689308166503906, \"dimension\": 4, \"position\": 33}, {\"embedding\": -0.7799267172813416, \"dimension\": 4, \"position\": 34}, {\"embedding\": -0.6713724136352539, \"dimension\": 4, \"position\": 35}, {\"embedding\": -0.5459895133972168, \"dimension\": 4, \"position\": 36}, {\"embedding\": -0.40692076086997986, \"dimension\": 4, \"position\": 37}, {\"embedding\": -0.2576519548892975, \"dimension\": 4, \"position\": 38}, {\"embedding\": -0.10192479938268661, \"dimension\": 4, \"position\": 39}, {\"embedding\": 0.056357722729444504, \"dimension\": 4, \"position\": 40}, {\"embedding\": 0.21322709321975708, \"dimension\": 4, \"position\": 41}, {\"embedding\": 0.3647516369819641, \"dimension\": 4, \"position\": 42}, {\"embedding\": 0.5071332454681396, \"dimension\": 4, \"position\": 43}, {\"embedding\": 0.6368028521537781, \"dimension\": 4, \"position\": 44}, {\"embedding\": 0.7505101561546326, \"dimension\": 4, \"position\": 45}, {\"embedding\": 0.8454052805900574, \"dimension\": 4, \"position\": 46}, {\"embedding\": 0.9191088080406189, \"dimension\": 4, \"position\": 47}, {\"embedding\": 0.9697737693786621, \"dimension\": 4, \"position\": 48}, {\"embedding\": 0.9961300492286682, \"dimension\": 4, \"position\": 49}, {\"embedding\": 0.9975170493125916, \"dimension\": 4, \"position\": 50}, {\"embedding\": 0.9738998413085938, \"dimension\": 4, \"position\": 51}, {\"embedding\": 0.9258706569671631, \"dimension\": 4, \"position\": 52}, {\"embedding\": 0.8546332716941833, \"dimension\": 4, \"position\": 53}, {\"embedding\": 0.7619734406471252, \"dimension\": 4, \"position\": 54}, {\"embedding\": 0.6502137184143066, \"dimension\": 4, \"position\": 55}, {\"embedding\": 0.5221555233001709, \"dimension\": 4, \"position\": 56}, {\"embedding\": 0.38100889325141907, \"dimension\": 4, \"position\": 57}, {\"embedding\": 0.23031172156333923, \"dimension\": 4, \"position\": 58}, {\"embedding\": 0.07384055852890015, \"dimension\": 4, \"position\": 59}, {\"embedding\": -0.08448058366775513, \"dimension\": 4, \"position\": 60}, {\"embedding\": -0.2406841218471527, \"dimension\": 4, \"position\": 61}, {\"embedding\": -0.3908545970916748, \"dimension\": 4, \"position\": 62}, {\"embedding\": -0.5312277674674988, \"dimension\": 4, \"position\": 63}, {\"embedding\": -0.6582850813865662, \"dimension\": 4, \"position\": 64}, {\"embedding\": -0.768841564655304, \"dimension\": 4, \"position\": 65}, {\"embedding\": -0.8601260781288147, \"dimension\": 4, \"position\": 66}, {\"embedding\": -0.9298503994941711, \"dimension\": 4, \"position\": 67}, {\"embedding\": -0.9762668013572693, \"dimension\": 4, \"position\": 68}, {\"embedding\": -0.9982118010520935, \"dimension\": 4, \"position\": 69}, {\"embedding\": -0.9951352477073669, \"dimension\": 4, \"position\": 70}, {\"embedding\": -0.967114269733429, \"dimension\": 4, \"position\": 71}, {\"embedding\": -0.9148513078689575, \"dimension\": 4, \"position\": 72}, {\"embedding\": -0.839656412601471, \"dimension\": 4, \"position\": 73}, {\"embedding\": -0.7434144616127014, \"dimension\": 4, \"position\": 74}, {\"embedding\": -0.6285378336906433, \"dimension\": 4, \"position\": 75}, {\"embedding\": -0.4979061186313629, \"dimension\": 4, \"position\": 76}, {\"embedding\": -0.3547937273979187, \"dimension\": 4, \"position\": 77}, {\"embedding\": -0.20278796553611755, \"dimension\": 4, \"position\": 78}, {\"embedding\": -0.04569905996322632, \"dimension\": 4, \"position\": 79}, {\"embedding\": 0.11253630369901657, \"dimension\": 4, \"position\": 80}, {\"embedding\": 0.2679498493671417, \"dimension\": 4, \"position\": 81}, {\"embedding\": 0.4166468679904938, \"dimension\": 4, \"position\": 82}, {\"embedding\": 0.5549001097679138, \"dimension\": 4, \"position\": 83}, {\"embedding\": 0.6792440414428711, \"dimension\": 4, \"position\": 84}, {\"embedding\": 0.7865618467330933, \"dimension\": 4, \"position\": 85}, {\"embedding\": 0.8741634488105774, \"dimension\": 4, \"position\": 86}, {\"embedding\": 0.9398530125617981, \"dimension\": 4, \"position\": 87}, {\"embedding\": 0.9819839596748352, \"dimension\": 4, \"position\": 88}, {\"embedding\": 0.9995002150535583, \"dimension\": 4, \"position\": 89}, {\"embedding\": 0.9919626712799072, \"dimension\": 4, \"position\": 90}, {\"embedding\": 0.959559977054596, \"dimension\": 4, \"position\": 91}, {\"embedding\": 0.903104841709137, \"dimension\": 4, \"position\": 92}, {\"embedding\": 0.8240122199058533, \"dimension\": 4, \"position\": 93}, {\"embedding\": 0.7242646217346191, \"dimension\": 4, \"position\": 94}, {\"embedding\": 0.6063624024391174, \"dimension\": 4, \"position\": 95}, {\"embedding\": 0.4732609689235687, \"dimension\": 4, \"position\": 96}, {\"embedding\": 0.32829657196998596, \"dimension\": 4, \"position\": 97}, {\"embedding\": 0.17510302364826202, \"dimension\": 4, \"position\": 98}, {\"embedding\": 0.01752028614282608, \"dimension\": 4, \"position\": 99}, {\"embedding\": 1.0, \"dimension\": 5, \"position\": 0}, {\"embedding\": 0.9874668121337891, \"dimension\": 5, \"position\": 1}, {\"embedding\": 0.9501814842224121, \"dimension\": 5, \"position\": 2}, {\"embedding\": 0.8890786170959473, \"dimension\": 5, \"position\": 3}, {\"embedding\": 0.8056897521018982, \"dimension\": 5, \"position\": 4}, {\"embedding\": 0.7021052241325378, \"dimension\": 5, \"position\": 5}, {\"embedding\": 0.5809215903282166, \"dimension\": 5, \"position\": 6}, {\"embedding\": 0.44517630338668823, \"dimension\": 5, \"position\": 7}, {\"embedding\": 0.2982720732688904, \"dimension\": 5, \"position\": 8}, {\"embedding\": 0.14389123022556305, \"dimension\": 5, \"position\": 9}, {\"embedding\": -0.01409643329679966, \"dimension\": 5, \"position\": 10}, {\"embedding\": -0.1717306226491928, \"dimension\": 5, \"position\": 11}, {\"embedding\": -0.32506027817726135, \"dimension\": 5, \"position\": 12}, {\"embedding\": -0.47024187445640564, \"dimension\": 5, \"position\": 13}, {\"embedding\": -0.6036361455917358, \"dimension\": 5, \"position\": 14}, {\"embedding\": -0.7218996286392212, \"dimension\": 5, \"position\": 15}, {\"embedding\": -0.8220675587654114, \"dimension\": 5, \"position\": 16}, {\"embedding\": -0.9016293287277222, \"dimension\": 5, \"position\": 17}, {\"embedding\": -0.9585906267166138, \"dimension\": 5, \"position\": 18}, {\"embedding\": -0.9915235042572021, \"dimension\": 5, \"position\": 19}, {\"embedding\": -0.9996025562286377, \"dimension\": 5, \"position\": 20}, {\"embedding\": -0.9826252460479736, \"dimension\": 5, \"position\": 21}, {\"embedding\": -0.941017210483551, \"dimension\": 5, \"position\": 22}, {\"embedding\": -0.8758211731910706, \"dimension\": 5, \"position\": 23}, {\"embedding\": -0.788671612739563, \"dimension\": 5, \"position\": 24}, {\"embedding\": -0.6817529797554016, \"dimension\": 5, \"position\": 25}, {\"embedding\": -0.5577451586723328, \"dimension\": 5, \"position\": 26}, {\"embedding\": -0.4197568893432617, \"dimension\": 5, \"position\": 27}, {\"embedding\": -0.27124688029289246, \"dimension\": 5, \"position\": 28}, {\"embedding\": -0.11593768745660782, \"dimension\": 5, \"position\": 29}, {\"embedding\": 0.042278096079826355, \"dimension\": 5, \"position\": 30}, {\"embedding\": 0.19943365454673767, \"dimension\": 5, \"position\": 31}, {\"embedding\": 0.3515901565551758, \"dimension\": 5, \"position\": 32}, {\"embedding\": 0.4949335753917694, \"dimension\": 5, \"position\": 33}, {\"embedding\": 0.6258708238601685, \"dimension\": 5, \"position\": 34}, {\"embedding\": 0.7411201596260071, \"dimension\": 5, \"position\": 35}, {\"embedding\": 0.8377919793128967, \"dimension\": 5, \"position\": 36}, {\"embedding\": 0.9134634733200073, \"dimension\": 5, \"position\": 37}, {\"embedding\": 0.9662377834320068, \"dimension\": 5, \"position\": 38}, {\"embedding\": 0.994792103767395, \"dimension\": 5, \"position\": 39}, {\"embedding\": 0.9984106421470642, \"dimension\": 5, \"position\": 40}, {\"embedding\": 0.9770026803016663, \"dimension\": 5, \"position\": 41}, {\"embedding\": 0.931104838848114, \"dimension\": 5, \"position\": 42}, {\"embedding\": 0.8618676662445068, \"dimension\": 5, \"position\": 43}, {\"embedding\": 0.7710266709327698, \"dimension\": 5, \"position\": 44}, {\"embedding\": 0.6608588695526123, \"dimension\": 5, \"position\": 45}, {\"embedding\": 0.5341253876686096, \"dimension\": 5, \"position\": 46}, {\"embedding\": 0.3940037488937378, \"dimension\": 5, \"position\": 47}, {\"embedding\": 0.24400585889816284, \"dimension\": 5, \"position\": 48}, {\"embedding\": 0.08789165318012238, \"dimension\": 5, \"position\": 49}, {\"embedding\": -0.07042567431926727, \"dimension\": 5, \"position\": 50}, {\"embedding\": -0.2269781529903412, \"dimension\": 5, \"position\": 51}, {\"embedding\": -0.37784066796302795, \"dimension\": 5, \"position\": 52}, {\"embedding\": -0.5192320942878723, \"dimension\": 5, \"position\": 53}, {\"embedding\": -0.6476082801818848, \"dimension\": 5, \"position\": 54}, {\"embedding\": -0.7597513794898987, \"dimension\": 5, \"position\": 55}, {\"embedding\": -0.8528502583503723, \"dimension\": 5, \"position\": 56}, {\"embedding\": -0.9245713949203491, \"dimension\": 5, \"position\": 57}, {\"embedding\": -0.973116934299469, \"dimension\": 5, \"position\": 58}, {\"embedding\": -0.9972700476646423, \"dimension\": 5, \"position\": 59}, {\"embedding\": -0.9964250922203064, \"dimension\": 5, \"position\": 60}, {\"embedding\": -0.9706035256385803, \"dimension\": 5, \"position\": 61}, {\"embedding\": -0.9204524159431458, \"dimension\": 5, \"position\": 62}, {\"embedding\": -0.8472290635108948, \"dimension\": 5, \"position\": 63}, {\"embedding\": -0.7527687549591064, \"dimension\": 5, \"position\": 64}, {\"embedding\": -0.6394393444061279, \"dimension\": 5, \"position\": 65}, {\"embedding\": -0.5100815296173096, \"dimension\": 5, \"position\": 66}, {\"embedding\": -0.3679378628730774, \"dimension\": 5, \"position\": 67}, {\"embedding\": -0.2165713608264923, \"dimension\": 5, \"position\": 68}, {\"embedding\": -0.05977622792124748, \"dimension\": 5, \"position\": 69}, {\"embedding\": 0.09851823002099991, \"dimension\": 5, \"position\": 70}, {\"embedding\": 0.254342257976532, \"dimension\": 5, \"position\": 71}, {\"embedding\": 0.4037908613681793, \"dimension\": 5, \"position\": 72}, {\"embedding\": 0.543117880821228, \"dimension\": 5, \"position\": 73}, {\"embedding\": 0.6688309907913208, \"dimension\": 5, \"position\": 74}, {\"embedding\": 0.7777789831161499, \"dimension\": 5, \"position\": 75}, {\"embedding\": 0.8672309517860413, \"dimension\": 5, \"position\": 76}, {\"embedding\": 0.9349446296691895, \"dimension\": 5, \"position\": 77}, {\"embedding\": 0.9792226552963257, \"dimension\": 5, \"position\": 78}, {\"embedding\": 0.998955249786377, \"dimension\": 5, \"position\": 79}, {\"embedding\": 0.9936476349830627, \"dimension\": 5, \"position\": 80}, {\"embedding\": 0.9634328484535217, \"dimension\": 5, \"position\": 81}, {\"embedding\": 0.9090684056282043, \"dimension\": 5, \"position\": 82}, {\"embedding\": 0.8319169878959656, \"dimension\": 5, \"position\": 83}, {\"embedding\": 0.733912467956543, \"dimension\": 5, \"position\": 84}, {\"embedding\": 0.617511510848999, \"dimension\": 5, \"position\": 85}, {\"embedding\": 0.4856317937374115, \"dimension\": 5, \"position\": 86}, {\"embedding\": 0.3415791094303131, \"dimension\": 5, \"position\": 87}, {\"embedding\": 0.18896427750587463, \"dimension\": 5, \"position\": 88}, {\"embedding\": 0.0316128134727478, \"dimension\": 5, \"position\": 89}, {\"embedding\": -0.12653106451034546, \"dimension\": 5, \"position\": 90}, {\"embedding\": -0.28150418400764465, \"dimension\": 5, \"position\": 91}, {\"embedding\": -0.4294200837612152, \"dimension\": 5, \"position\": 92}, {\"embedding\": -0.5665720105171204, \"dimension\": 5, \"position\": 93}, {\"embedding\": -0.6895220875740051, \"dimension\": 5, \"position\": 94}, {\"embedding\": -0.7951884269714355, \"dimension\": 5, \"position\": 95}, {\"embedding\": -0.880922257900238, \"dimension\": 5, \"position\": 96}, {\"embedding\": -0.9445747137069702, \"dimension\": 5, \"position\": 97}, {\"embedding\": -0.9845501184463501, \"dimension\": 5, \"position\": 98}, {\"embedding\": -0.9998465180397034, \"dimension\": 5, \"position\": 99}, {\"embedding\": 0.0, \"dimension\": 6, \"position\": 0}, {\"embedding\": 0.06305388361215591, \"dimension\": 6, \"position\": 1}, {\"embedding\": 0.12585683166980743, \"dimension\": 6, \"position\": 2}, {\"embedding\": 0.18815888464450836, \"dimension\": 6, \"position\": 3}, {\"embedding\": 0.24971213936805725, \"dimension\": 6, \"position\": 4}, {\"embedding\": 0.31027159094810486, \"dimension\": 6, \"position\": 5}, {\"embedding\": 0.3695962131023407, \"dimension\": 6, \"position\": 6}, {\"embedding\": 0.4274499714374542, \"dimension\": 6, \"position\": 7}, {\"embedding\": 0.4836025834083557, \"dimension\": 6, \"position\": 8}, {\"embedding\": 0.5378305912017822, \"dimension\": 6, \"position\": 9}, {\"embedding\": 0.5899181365966797, \"dimension\": 6, \"position\": 10}, {\"embedding\": 0.6396579146385193, \"dimension\": 6, \"position\": 11}, {\"embedding\": 0.6868520379066467, \"dimension\": 6, \"position\": 12}, {\"embedding\": 0.7313126921653748, \"dimension\": 6, \"position\": 13}, {\"embedding\": 0.7728629112243652, \"dimension\": 6, \"position\": 14}, {\"embedding\": 0.8113372921943665, \"dimension\": 6, \"position\": 15}, {\"embedding\": 0.8465827703475952, \"dimension\": 6, \"position\": 16}, {\"embedding\": 0.8784590363502502, \"dimension\": 6, \"position\": 17}, {\"embedding\": 0.9068393111228943, \"dimension\": 6, \"position\": 18}, {\"embedding\": 0.9316105246543884, \"dimension\": 6, \"position\": 19}, {\"embedding\": 0.9526742100715637, \"dimension\": 6, \"position\": 20}, {\"embedding\": 0.9699464440345764, \"dimension\": 6, \"position\": 21}, {\"embedding\": 0.9833585619926453, \"dimension\": 6, \"position\": 22}, {\"embedding\": 0.9928570985794067, \"dimension\": 6, \"position\": 23}, {\"embedding\": 0.9984043836593628, \"dimension\": 6, \"position\": 24}, {\"embedding\": 0.999978244304657, \"dimension\": 6, \"position\": 25}, {\"embedding\": 0.9975724220275879, \"dimension\": 6, \"position\": 26}, {\"embedding\": 0.9911965131759644, \"dimension\": 6, \"position\": 27}, {\"embedding\": 0.9808759093284607, \"dimension\": 6, \"position\": 28}, {\"embedding\": 0.9666516780853271, \"dimension\": 6, \"position\": 29}, {\"embedding\": 0.9485803842544556, \"dimension\": 6, \"position\": 30}, {\"embedding\": 0.9267339110374451, \"dimension\": 6, \"position\": 31}, {\"embedding\": 0.9011994004249573, \"dimension\": 6, \"position\": 32}, {\"embedding\": 0.8720782399177551, \"dimension\": 6, \"position\": 33}, {\"embedding\": 0.8394865393638611, \"dimension\": 6, \"position\": 34}, {\"embedding\": 0.8035537600517273, \"dimension\": 6, \"position\": 35}, {\"embedding\": 0.7644230127334595, \"dimension\": 6, \"position\": 36}, {\"embedding\": 0.7222501039505005, \"dimension\": 6, \"position\": 37}, {\"embedding\": 0.6772029399871826, \"dimension\": 6, \"position\": 38}, {\"embedding\": 0.6294605135917664, \"dimension\": 6, \"position\": 39}, {\"embedding\": 0.57921302318573, \"dimension\": 6, \"position\": 40}, {\"embedding\": 0.5266605615615845, \"dimension\": 6, \"position\": 41}, {\"embedding\": 0.4720119535923004, \"dimension\": 6, \"position\": 42}, {\"embedding\": 0.41548484563827515, \"dimension\": 6, \"position\": 43}, {\"embedding\": 0.3573042154312134, \"dimension\": 6, \"position\": 44}, {\"embedding\": 0.29770180583000183, \"dimension\": 6, \"position\": 45}, {\"embedding\": 0.23691439628601074, \"dimension\": 6, \"position\": 46}, {\"embedding\": 0.17518411576747894, \"dimension\": 6, \"position\": 47}, {\"embedding\": 0.1127568930387497, \"dimension\": 6, \"position\": 48}, {\"embedding\": 0.04988069087266922, \"dimension\": 6, \"position\": 49}, {\"embedding\": -0.013194027356803417, \"dimension\": 6, \"position\": 50}, {\"embedding\": -0.07621623575687408, \"dimension\": 6, \"position\": 51}, {\"embedding\": -0.1389348804950714, \"dimension\": 6, \"position\": 52}, {\"embedding\": -0.20110084116458893, \"dimension\": 6, \"position\": 53}, {\"embedding\": -0.2624664604663849, \"dimension\": 6, \"position\": 54}, {\"embedding\": -0.3227875530719757, \"dimension\": 6, \"position\": 55}, {\"embedding\": -0.3818237781524658, \"dimension\": 6, \"position\": 56}, {\"embedding\": -0.4393406808376312, \"dimension\": 6, \"position\": 57}, {\"embedding\": -0.49510911107063293, \"dimension\": 6, \"position\": 58}, {\"embedding\": -0.5489069223403931, \"dimension\": 6, \"position\": 59}, {\"embedding\": -0.6005204319953918, \"dimension\": 6, \"position\": 60}, {\"embedding\": -0.6497439742088318, \"dimension\": 6, \"position\": 61}, {\"embedding\": -0.6963817477226257, \"dimension\": 6, \"position\": 62}, {\"embedding\": -0.7402478456497192, \"dimension\": 6, \"position\": 63}, {\"embedding\": -0.7811681628227234, \"dimension\": 6, \"position\": 64}, {\"embedding\": -0.8189795017242432, \"dimension\": 6, \"position\": 65}, {\"embedding\": -0.8535317182540894, \"dimension\": 6, \"position\": 66}, {\"embedding\": -0.8846868872642517, \"dimension\": 6, \"position\": 67}, {\"embedding\": -0.9123212099075317, \"dimension\": 6, \"position\": 68}, {\"embedding\": -0.936324954032898, \"dimension\": 6, \"position\": 69}, {\"embedding\": -0.956602156162262, \"dimension\": 6, \"position\": 70}, {\"embedding\": -0.9730724096298218, \"dimension\": 6, \"position\": 71}, {\"embedding\": -0.9856699705123901, \"dimension\": 6, \"position\": 72}, {\"embedding\": -0.9943448305130005, \"dimension\": 6, \"position\": 73}, {\"embedding\": -0.9990625381469727, \"dimension\": 6, \"position\": 74}, {\"embedding\": -0.9998041391372681, \"dimension\": 6, \"position\": 75}, {\"embedding\": -0.9965668320655823, \"dimension\": 6, \"position\": 76}, {\"embedding\": -0.9893633723258972, \"dimension\": 6, \"position\": 77}, {\"embedding\": -0.9782225489616394, \"dimension\": 6, \"position\": 78}, {\"embedding\": -0.963188648223877, \"dimension\": 6, \"position\": 79}, {\"embedding\": -0.9443213939666748, \"dimension\": 6, \"position\": 80}, {\"embedding\": -0.9216960668563843, \"dimension\": 6, \"position\": 81}, {\"embedding\": -0.8954026699066162, \"dimension\": 6, \"position\": 82}, {\"embedding\": -0.8655455708503723, \"dimension\": 6, \"position\": 83}, {\"embedding\": -0.8322440981864929, \"dimension\": 6, \"position\": 84}, {\"embedding\": -0.795630156993866, \"dimension\": 6, \"position\": 85}, {\"embedding\": -0.7558501362800598, \"dimension\": 6, \"position\": 86}, {\"embedding\": -0.7130619883537292, \"dimension\": 6, \"position\": 87}, {\"embedding\": -0.6674357056617737, \"dimension\": 6, \"position\": 88}, {\"embedding\": -0.6191535592079163, \"dimension\": 6, \"position\": 89}, {\"embedding\": -0.5684073567390442, \"dimension\": 6, \"position\": 90}, {\"embedding\": -0.5153986215591431, \"dimension\": 6, \"position\": 91}, {\"embedding\": -0.46033912897109985, \"dimension\": 6, \"position\": 92}, {\"embedding\": -0.40344759821891785, \"dimension\": 6, \"position\": 93}, {\"embedding\": -0.3449500501155853, \"dimension\": 6, \"position\": 94}, {\"embedding\": -0.28508007526397705, \"dimension\": 6, \"position\": 95}, {\"embedding\": -0.22407560050487518, \"dimension\": 6, \"position\": 96}, {\"embedding\": -0.1621788740158081, \"dimension\": 6, \"position\": 97}, {\"embedding\": -0.09963719546794891, \"dimension\": 6, \"position\": 98}, {\"embedding\": -0.03669850528240204, \"dimension\": 6, \"position\": 99}, {\"embedding\": 1.0, \"dimension\": 7, \"position\": 0}, {\"embedding\": 0.9980100989341736, \"dimension\": 7, \"position\": 1}, {\"embedding\": 0.9920483827590942, \"dimension\": 7, \"position\": 2}, {\"embedding\": 0.9821385741233826, \"dimension\": 7, \"position\": 3}, {\"embedding\": 0.9683201313018799, \"dimension\": 7, \"position\": 4}, {\"embedding\": 0.9506479501724243, \"dimension\": 7, \"position\": 5}, {\"embedding\": 0.9291924834251404, \"dimension\": 7, \"position\": 6}, {\"embedding\": 0.9040390253067017, \"dimension\": 7, \"position\": 7}, {\"embedding\": 0.8752877116203308, \"dimension\": 7, \"position\": 8}, {\"embedding\": 0.8430529236793518, \"dimension\": 7, \"position\": 9}, {\"embedding\": 0.8074630498886108, \"dimension\": 7, \"position\": 10}, {\"embedding\": 0.7686597108840942, \"dimension\": 7, \"position\": 11}, {\"embedding\": 0.7267972826957703, \"dimension\": 7, \"position\": 12}, {\"embedding\": 0.6820423603057861, \"dimension\": 7, \"position\": 13}, {\"embedding\": 0.6345730423927307, \"dimension\": 7, \"position\": 14}, {\"embedding\": 0.5845783352851868, \"dimension\": 7, \"position\": 15}, {\"embedding\": 0.532257080078125, \"dimension\": 7, \"position\": 16}, {\"embedding\": 0.47781768441200256, \"dimension\": 7, \"position\": 17}, {\"embedding\": 0.4214765727519989, \"dimension\": 7, \"position\": 18}, {\"embedding\": 0.36345821619033813, \"dimension\": 7, \"position\": 19}, {\"embedding\": 0.30399325489997864, \"dimension\": 7, \"position\": 20}, {\"embedding\": 0.243318572640419, \"dimension\": 7, \"position\": 21}, {\"embedding\": 0.18167544901371002, \"dimension\": 7, \"position\": 22}, {\"embedding\": 0.11930941045284271, \"dimension\": 7, \"position\": 23}, {\"embedding\": 0.056468550115823746, \"dimension\": 7, \"position\": 24}, {\"embedding\": -0.006597157102078199, \"dimension\": 7, \"position\": 25}, {\"embedding\": -0.06963648647069931, \"dimension\": 7, \"position\": 26}, {\"embedding\": -0.1323987990617752, \"dimension\": 7, \"position\": 27}, {\"embedding\": -0.1946340948343277, \"dimension\": 7, \"position\": 28}, {\"embedding\": -0.25609490275382996, \"dimension\": 7, \"position\": 29}, {\"embedding\": -0.31653639674186707, \"dimension\": 7, \"position\": 30}, {\"embedding\": -0.37571826577186584, \"dimension\": 7, \"position\": 31}, {\"embedding\": -0.43340474367141724, \"dimension\": 7, \"position\": 32}, {\"embedding\": -0.4893665015697479, \"dimension\": 7, \"position\": 33}, {\"embedding\": -0.5433804988861084, \"dimension\": 7, \"position\": 34}, {\"embedding\": -0.5952321887016296, \"dimension\": 7, \"position\": 35}, {\"embedding\": -0.6447150111198425, \"dimension\": 7, \"position\": 36}, {\"embedding\": -0.6916319727897644, \"dimension\": 7, \"position\": 37}, {\"embedding\": -0.7357962727546692, \"dimension\": 7, \"position\": 38}, {\"embedding\": -0.7770324349403381, \"dimension\": 7, \"position\": 39}, {\"embedding\": -0.8151761889457703, \"dimension\": 7, \"position\": 40}, {\"embedding\": -0.8500756621360779, \"dimension\": 7, \"position\": 41}, {\"embedding\": -0.8815921545028687, \"dimension\": 7, \"position\": 42}, {\"embedding\": -0.9096000790596008, \"dimension\": 7, \"position\": 43}, {\"embedding\": -0.933988094329834, \"dimension\": 7, \"position\": 44}, {\"embedding\": -0.9546589255332947, \"dimension\": 7, \"position\": 45}, {\"embedding\": -0.971530556678772, \"dimension\": 7, \"position\": 46}, {\"embedding\": -0.9845356941223145, \"dimension\": 7, \"position\": 47}, {\"embedding\": -0.9936226010322571, \"dimension\": 7, \"position\": 48}, {\"embedding\": -0.998755156993866, \"dimension\": 7, \"position\": 49}, {\"embedding\": -0.9999129772186279, \"dimension\": 7, \"position\": 50}, {\"embedding\": -0.9970912933349609, \"dimension\": 7, \"position\": 51}, {\"embedding\": -0.9903014898300171, \"dimension\": 7, \"position\": 52}, {\"embedding\": -0.9795705676078796, \"dimension\": 7, \"position\": 53}, {\"embedding\": -0.964941143989563, \"dimension\": 7, \"position\": 54}, {\"embedding\": -0.9464714527130127, \"dimension\": 7, \"position\": 55}, {\"embedding\": -0.9242351651191711, \"dimension\": 7, \"position\": 56}, {\"embedding\": -0.8983205556869507, \"dimension\": 7, \"position\": 57}, {\"embedding\": -0.8688308000564575, \"dimension\": 7, \"position\": 58}, {\"embedding\": -0.8358834981918335, \"dimension\": 7, \"position\": 59}, {\"embedding\": -0.7996094226837158, \"dimension\": 7, \"position\": 60}, {\"embedding\": -0.7601531147956848, \"dimension\": 7, \"position\": 61}, {\"embedding\": -0.7176715731620789, \"dimension\": 7, \"position\": 62}, {\"embedding\": -0.6723340749740601, \"dimension\": 7, \"position\": 63}, {\"embedding\": -0.6243206262588501, \"dimension\": 7, \"position\": 64}, {\"embedding\": -0.5738227963447571, \"dimension\": 7, \"position\": 65}, {\"embedding\": -0.5210408568382263, \"dimension\": 7, \"position\": 66}, {\"embedding\": -0.46618568897247314, \"dimension\": 7, \"position\": 67}, {\"embedding\": -0.4094752371311188, \"dimension\": 7, \"position\": 68}, {\"embedding\": -0.3511347472667694, \"dimension\": 7, \"position\": 69}, {\"embedding\": -0.2913972735404968, \"dimension\": 7, \"position\": 70}, {\"embedding\": -0.23049965500831604, \"dimension\": 7, \"position\": 71}, {\"embedding\": -0.1686851680278778, \"dimension\": 7, \"position\": 72}, {\"embedding\": -0.10619935393333435, \"dimension\": 7, \"position\": 73}, {\"embedding\": -0.04329042136669159, \"dimension\": 7, \"position\": 74}, {\"embedding\": 0.019790323451161385, \"dimension\": 7, \"position\": 75}, {\"embedding\": 0.08279230445623398, \"dimension\": 7, \"position\": 76}, {\"embedding\": 0.14546526968479156, \"dimension\": 7, \"position\": 77}, {\"embedding\": 0.20755885541439056, \"dimension\": 7, \"position\": 78}, {\"embedding\": 0.2688263952732086, \"dimension\": 7, \"position\": 79}, {\"embedding\": 0.3290245532989502, \"dimension\": 7, \"position\": 80}, {\"embedding\": 0.3879128098487854, \"dimension\": 7, \"position\": 81}, {\"embedding\": 0.4452572762966156, \"dimension\": 7, \"position\": 82}, {\"embedding\": 0.5008301138877869, \"dimension\": 7, \"position\": 83}, {\"embedding\": 0.5544094443321228, \"dimension\": 7, \"position\": 84}, {\"embedding\": 0.605782687664032, \"dimension\": 7, \"position\": 85}, {\"embedding\": 0.6547446846961975, \"dimension\": 7, \"position\": 86}, {\"embedding\": 0.7011010050773621, \"dimension\": 7, \"position\": 87}, {\"embedding\": 0.7446674108505249, \"dimension\": 7, \"position\": 88}, {\"embedding\": 0.7852699160575867, \"dimension\": 7, \"position\": 89}, {\"embedding\": 0.8227472901344299, \"dimension\": 7, \"position\": 90}, {\"embedding\": 0.856950581073761, \"dimension\": 7, \"position\": 91}, {\"embedding\": 0.8877431154251099, \"dimension\": 7, \"position\": 92}, {\"embedding\": 0.9150027632713318, \"dimension\": 7, \"position\": 93}, {\"embedding\": 0.9386210441589355, \"dimension\": 7, \"position\": 94}, {\"embedding\": 0.9585037231445312, \"dimension\": 7, \"position\": 95}, {\"embedding\": 0.9745717644691467, \"dimension\": 7, \"position\": 96}, {\"embedding\": 0.9867613911628723, \"dimension\": 7, \"position\": 97}, {\"embedding\": 0.9950238466262817, \"dimension\": 7, \"position\": 98}, {\"embedding\": 0.9993264079093933, \"dimension\": 7, \"position\": 99}]}}, {\"mode\": \"vega-lite\"});\n",
              "</script>"
            ],
            "text/plain": [
              "alt.Chart(...)"
            ]
          },
          "metadata": {},
          "execution_count": 4
        }
      ]
    },
    {
      "cell_type": "markdown",
      "source": [
        "### Exercise 2.3: Implementing multi-headed self-attention\n",
        "\n",
        "The multi-headed attention mechanisms are highlighted in the Figure below:\n",
        "\n",
        "<div>\n",
        "<img src=\"https://github.com/caglarmert/DI725/blob/main/src/multi_headed_attention_highlighted.png?raw=true\" width=\"400\"/>\n",
        "</div>\n",
        "\n",
        "\n",
        "\n",
        "\n",
        "The multi-head attention is a form of scaled dot-product attention, calculated as:\n",
        "<div>\n",
        "<img src=\"https://github.com/caglarmert/DI725/blob/main/src/scaled_dot_product_attention_formula.PNG?raw=true\" width=\"400\"/>\n",
        "</div>\n",
        "\n",
        "Scaled dot-product attention demonstrated as:\n",
        "<div>\n",
        "<img src=\"https://github.com/caglarmert/DI725/blob/main/src/scaled_dot_product_attention.PNG?raw=true\" width=\"300\"/>\n",
        "</div>\n",
        "\n",
        "Multi-head attention calculated as:\n",
        "<div>\n",
        "<img src=\"https://github.com/caglarmert/DI725/blob/main/src/multi_head_Attention_formula.PNG?raw=true\" width=\"600\"/>\n",
        "</div>\n",
        "\n",
        "Multi-head attention demonstrated as:\n",
        "<div>\n",
        "<img src=\"https://github.com/caglarmert/DI725/blob/main/src/multi_head_Attention.PNG?raw=true\" width=\"300\"/>\n",
        "</div>\n",
        "\n",
        "\n",
        "Building the multi-headed self-attention can be observed from the implementation provided below.\n",
        "\n",
        "#### Instructions\n",
        "* Split the sequence embeddings x across the multiple attention heads.\n",
        "* Compute dot-product based attention scores between the project query and key.\n",
        "* Normalize the attention scores to obtain attention weights.\n",
        "* Multiply the attention weights by the values and linearly transform the concatenated outputs per head."
      ],
      "metadata": {
        "id": "6FZGjkpZ2zHu"
      },
      "id": "6FZGjkpZ2zHu"
    },
    {
      "cell_type": "code",
      "execution_count": 5,
      "id": "b1fb67b6-5884-40ae-9b54-78192b5506d4",
      "metadata": {
        "id": "b1fb67b6-5884-40ae-9b54-78192b5506d4"
      },
      "outputs": [],
      "source": [
        "class MultiHeadAttention(nn.Module):\n",
        "    \"\"\"\n",
        "    A Multi-Head Attention layer as described in the paper \"Attention is All You Need\"\n",
        "    (Vaswani et al., 2017).\n",
        "    Args:\n",
        "        d_model (int): Dimensionality of the input and output feature vectors.\n",
        "        num_heads (int): Number of attention heads.\n",
        "\n",
        "    Attributes:\n",
        "        num_heads (int): Number of attention heads.\n",
        "        d_model (int): Dimensionality of the input and output feature vectors.\n",
        "        head_dim (int): Dimensionality of each attention head.\n",
        "        query_linear (torch.nn.Linear): Linear transformation layer for queries.\n",
        "        key_linear (torch.nn.Linear): Linear transformation layer for keys.\n",
        "        value_linear (torch.nn.Linear): Linear transformation layer for values.\n",
        "        output_linear (torch.nn.Linear): Linear transformation layer for the final output.\n",
        "    \"\"\"\n",
        "    def __init__(self, d_model, num_heads):\n",
        "        super(MultiHeadAttention, self).__init__()\n",
        "        self.num_heads = num_heads\n",
        "        self.d_model = d_model\n",
        "        self.head_dim = d_model // num_heads  # Dimension of each attention head\n",
        "\n",
        "        self.query_linear = nn.Linear(d_model, d_model)\n",
        "        self.key_linear = nn.Linear(d_model, d_model)\n",
        "        self.value_linear = nn.Linear(d_model, d_model)\n",
        "        self.output_linear = nn.Linear(d_model, d_model)\n",
        "    def split_heads(self, x, batch_size):\n",
        "        \"\"\"\n",
        "        Splits the sequence embeddings in `x` across the attention heads.\n",
        "\n",
        "        Args:\n",
        "            x (torch.Tensor): Input tensor to be split.\n",
        "            batch_size (int): Batch size of the input tensor.\n",
        "\n",
        "        Returns:\n",
        "            torch.Tensor: Reshaped tensor with the sequence embeddings split across the attention heads.\n",
        "        \"\"\"\n",
        "        # Split the sequence embeddings in x across the attention heads\n",
        "        x = x.view(batch_size, -1, self.num_heads, self.head_dim)\n",
        "        return x.permute(0, 2, 1, 3).contiguous().view(batch_size * self.num_heads, -1, self.head_dim)\n",
        "\n",
        "    def compute_attention(self, query, key, mask=None):\n",
        "        \"\"\"\n",
        "        Computes dot-product attention scores.\n",
        "\n",
        "        Args:\n",
        "            query (torch.Tensor): Query tensor.\n",
        "            key (torch.Tensor): Key tensor.\n",
        "            mask (torch.Tensor, optional): Mask tensor to mask out certain positions.\n",
        "\n",
        "        Returns:\n",
        "            torch.Tensor: Attention weights.\n",
        "        \"\"\"\n",
        "        # Compute dot-product attention scores\n",
        "        scores = torch.matmul(query, key.permute(1, 2, 0))\n",
        "        if mask is not None:\n",
        "            scores = scores.masked_fill(mask == 0, float(\"-1e20\"))\n",
        "        # Normalize attention scores into attention weights\n",
        "        attention_weights = F.softmax(scores, dim=-1)\n",
        "        return attention_weights\n",
        "\n",
        "    def forward(self, query, key, value, mask=None):\n",
        "        \"\"\"\n",
        "        Forward pass of the multi-head attention mechanism.\n",
        "\n",
        "        Args:\n",
        "            query (torch.Tensor): Query tensor.\n",
        "            key (torch.Tensor): Key tensor.\n",
        "            value (torch.Tensor): Value tensor.\n",
        "            mask (torch.Tensor, optional): Mask tensor to mask out certain positions.\n",
        "\n",
        "        Returns:\n",
        "            torch.Tensor: Output tensor after applying multi-head attention mechanism.\n",
        "        \"\"\"\n",
        "        batch_size = query.size(0)\n",
        "\n",
        "        # Project queries, keys, and values to separate heads\n",
        "        query = self.split_heads(self.query_linear(query), batch_size)\n",
        "        key = self.split_heads(self.key_linear(key), batch_size)\n",
        "        value = self.split_heads(self.value_linear(value), batch_size)\n",
        "\n",
        "        # Compute attention weights\n",
        "        attention_weights = self.compute_attention(query, key, mask)\n",
        "\n",
        "        # Multiply attention weights by values and linearly project concatenated outputs\n",
        "        output = torch.matmul(attention_weights, value)\n",
        "        output = output.view(batch_size, self.num_heads, -1, self.head_dim).permute(0, 2, 1, 3).contiguous().view(batch_size, -1, self.d_model)\n",
        "        return self.output_linear(output)"
      ]
    },
    {
      "cell_type": "markdown",
      "source": [
        "### Exercise 2.4: Post-attention feed-forward layer\n",
        "\n",
        "<div>\n",
        "<img src=\"https://github.com/caglarmert/DI725/blob/main/src/feed_forward_highlighted.png?raw=true\" width=\"400\"/>\n",
        "</div>\n",
        "\n",
        "\n",
        "\n",
        "Feed-forward sublayer following multi-head self-attention for every encoder layer is built as an example below:\n",
        "\n",
        "\n",
        "\n",
        "#### Instructions\n",
        "* Specify in the __init__() method the sizes of the two linear fully connected layers.\n",
        "* Apply a forward pass through the two linear layers, using the ReLU() activation in between."
      ],
      "metadata": {
        "id": "v0ix1uQi3Gkt"
      },
      "id": "v0ix1uQi3Gkt"
    },
    {
      "cell_type": "code",
      "execution_count": 6,
      "id": "f32a3f9f-f65c-450c-b49d-d849b0cdf617",
      "metadata": {
        "id": "f32a3f9f-f65c-450c-b49d-d849b0cdf617"
      },
      "outputs": [],
      "source": [
        "class FeedForwardSubLayer(nn.Module):\n",
        "    \"\"\"\n",
        "    Feed-forward sub-layer module.\n",
        "\n",
        "    Args:\n",
        "        d_model (int): Dimensionality of the input and output feature vectors.\n",
        "        d_ff (int): Dimensionality of the intermediate hidden layer.\n",
        "\n",
        "    Attributes:\n",
        "        fc1 (torch.nn.Linear): First fully connected layer.\n",
        "        fc2 (torch.nn.Linear): Second fully connected layer.\n",
        "        relu (torch.nn.ReLU): ReLU activation function.\n",
        "    \"\"\"\n",
        "    # Specify the two linear layers' input and output sizes\n",
        "    def __init__(self, d_model, d_ff):\n",
        "        \"\"\"\n",
        "        Initialize feed-forward sub-layer with two linear layers and ReLU activation.\n",
        "        \"\"\"\n",
        "        super(FeedForwardSubLayer, self).__init__()\n",
        "        self.fc1 = nn.Linear(d_model, d_ff)\n",
        "        self.fc2 = nn.Linear(d_ff, d_model)\n",
        "        self.relu = nn.ReLU()\n",
        "\n",
        "    # Apply a forward pass\n",
        "    def forward(self, x):\n",
        "        \"\"\"\n",
        "        Forward pass of the feed-forward sub-layer.\n",
        "\n",
        "        Args:\n",
        "            x (torch.Tensor): Input tensor.\n",
        "\n",
        "        Returns:\n",
        "            torch.Tensor: Output tensor after applying the feed-forward sub-layer.\n",
        "        \"\"\"\n",
        "        return self.fc2(self.relu(self.fc1(x)))"
      ]
    },
    {
      "cell_type": "markdown",
      "source": [
        "## Encoder Transformer\n",
        "\n",
        "Useful for tasks like classification, one of the most common application is  BERT (Bidirectional Encoder Representations from Transformers). Applies self-attention to the inputs to determine which parts are more useful for the task.\n",
        "\n",
        "\n",
        "<div>\n",
        "<img src=\"https://github.com/caglarmert/DI725/blob/main/src/Encoder_only_transformer.png?raw=true\" width=\"200\"/>\n",
        "</div>\n",
        "\n"
      ],
      "metadata": {
        "id": "xl3xBFBBA3LN"
      },
      "id": "xl3xBFBBA3LN"
    },
    {
      "cell_type": "markdown",
      "source": [
        "### Exercise 2.5: Encoder layer\n",
        "\n",
        "\n",
        "Assembling a full encoder layer containing:\n",
        "\n",
        "* A multi-headed self-attention mechanism.\n",
        "* A feed-forward sublayer.\n",
        "* A combined layer normalization and dropout to be applied after each of the above two stages.\n",
        "\n",
        "<div>\n",
        "<img src=\"https://github.com/caglarmert/DI725/blob/main/src/Encoder_only_transformer_norm_highlighted.png?raw=true\" width=\"200\"/>\n",
        "</div>"
      ],
      "metadata": {
        "id": "uFbiS9Jg4Ic9"
      },
      "id": "uFbiS9Jg4Ic9"
    },
    {
      "cell_type": "code",
      "source": [
        "# Complete the initialization of elements in the encoder layer\n",
        "class EncoderLayer(nn.Module):\n",
        "    \"\"\"\n",
        "    Encoder layer module.\n",
        "\n",
        "    Args:\n",
        "        d_model (int): Dimensionality of the input and output feature vectors.\n",
        "        num_heads (int): Number of attention heads.\n",
        "        d_ff (int): Dimensionality of the intermediate hidden layer in the feed-forward sub-layer.\n",
        "        dropout (float): Dropout probability.\n",
        "\n",
        "    Attributes:\n",
        "        self_attn (MultiHeadAttention): Multi-head self-attention mechanism.\n",
        "        feed_forward (FeedForwardSubLayer): Feed-forward sub-layer.\n",
        "        norm1 (torch.nn.LayerNorm): Layer normalization for the first sub-layer.\n",
        "        norm2 (torch.nn.LayerNorm): Layer normalization for the second sub-layer.\n",
        "        dropout (torch.nn.Dropout): Dropout layer.\n",
        "    \"\"\"\n",
        "    def __init__(self, d_model, num_heads, d_ff, dropout):\n",
        "        \"\"\"\n",
        "        Initialize encoder layer with multi-head self-attention and feed-forward sub-layer.\n",
        "        \"\"\"\n",
        "        super(EncoderLayer, self).__init__()\n",
        "        # Multi-head self-attention\n",
        "        self.self_attn = MultiHeadAttention(d_model, num_heads)\n",
        "        # Feedforward neural network\n",
        "        self.feed_forward = FeedForwardSubLayer(d_model, d_ff)\n",
        "        self.norm1 = nn.LayerNorm(d_model)\n",
        "        self.norm2 = nn.LayerNorm(d_model)\n",
        "        self.dropout = nn.Dropout(dropout)\n",
        "\n",
        "    def forward(self, x, mask):\n",
        "        \"\"\"\n",
        "        Forward pass of the encoder layer.\n",
        "\n",
        "        Args:\n",
        "            x (torch.Tensor): Input tensor.\n",
        "            mask (torch.Tensor): Mask tensor for attention mechanism.\n",
        "\n",
        "        Returns:\n",
        "            torch.Tensor: Output tensor after applying multi-head self-attention and feed-forward sub-layer.\n",
        "        \"\"\"\n",
        "        # Multi-head self-attention\n",
        "        attn_output = self.self_attn(x, x, x, mask)\n",
        "        x = self.norm1(x + self.dropout(attn_output))\n",
        "        # Feedforward neural network\n",
        "        ff_output = self.feed_forward(x)\n",
        "        return self.norm2(x + self.dropout(ff_output))"
      ],
      "metadata": {
        "id": "XtH2xwFO4OW3"
      },
      "id": "XtH2xwFO4OW3",
      "execution_count": 7,
      "outputs": []
    },
    {
      "cell_type": "markdown",
      "source": [
        "### Exercise 2.6: Encoder transformer body and head\n",
        "\n",
        "Implementing the transformer body, that is consisting of a stack of multiple encoder layers and a task specific transformer head that is used to process the encoder's hidden states.\n",
        "\n",
        "Apart from the highlighted components, we have implemented everything so far. The linear layer followed by a softmax to output probabilities is the final implementation we will do in this section.\n",
        "\n",
        "<div>\n",
        "<img src=\"https://github.com/caglarmert/DI725/blob/main/src/Encoder_only_transformer_head_highlighted.png?raw=true\" width=\"200\"/>\n",
        "</div>\n",
        "\n",
        "\n",
        "#### Instructions\n",
        "* Define a stack of multiple encoder layers in the __init__() method.\n",
        "* Complete the forward() method. Note that the process starts by converting the original sequence tokens in x into embeddings.\n",
        "* Add final linear layer to project encoder results into raw classification outputs.\n",
        "* Apply the necessary function to map raw classification outputs into log class probabilities."
      ],
      "metadata": {
        "id": "_8vDWOqJ4Yfb"
      },
      "id": "_8vDWOqJ4Yfb"
    },
    {
      "cell_type": "code",
      "source": [
        "class TransformerEncoder(nn.Module):\n",
        "    \"\"\"\n",
        "    Transformer encoder module.\n",
        "\n",
        "    Args:\n",
        "        vocab_size (int): Vocabulary size.\n",
        "        d_model (int): Dimensionality of the input and output feature vectors.\n",
        "        num_layers (int): Number of encoder layers.\n",
        "        num_heads (int): Number of attention heads.\n",
        "        d_ff (int): Dimensionality of the intermediate hidden layer in the feed-forward sub-layer.\n",
        "        dropout (float): Dropout probability.\n",
        "        max_sequence_length (int): Maximum sequence length for positional encoding.\n",
        "\n",
        "    Attributes:\n",
        "        embedding (torch.nn.Embedding): Embedding layer.\n",
        "        positional_encoding (PositionalEncoding): Positional encoding layer.\n",
        "        layers (torch.nn.ModuleList): List of encoder layers.\n",
        "    \"\"\"\n",
        "    def __init__(self, vocab_size, d_model, num_layers, num_heads, d_ff, dropout, max_sequence_length):\n",
        "        \"\"\"\n",
        "        Initialize transformer encoder with embedding, positional encoding, and multiple encoder layers.\n",
        "        \"\"\"\n",
        "        super(TransformerEncoder, self).__init__()\n",
        "        self.embedding = nn.Embedding(vocab_size, d_model)\n",
        "        self.positional_encoding = PositionalEncoding(d_model = d_model, max_len = max_sequence_length)\n",
        "        # Define a stack of multiple encoder layers\n",
        "        self.layers = nn.ModuleList([EncoderLayer(d_model, num_heads, d_ff, dropout) for _ in range(num_layers)])\n",
        "\n",
        "    # Complete the forward pass method\n",
        "    def forward(self, x, mask):\n",
        "        \"\"\"\n",
        "        Forward pass of the transformer encoder.\n",
        "\n",
        "        Args:\n",
        "            x (torch.Tensor): Input tensor.\n",
        "            mask (torch.Tensor): Mask tensor for attention mechanism.\n",
        "\n",
        "        Returns:\n",
        "            torch.Tensor: Output tensor after encoding.\n",
        "        \"\"\"\n",
        "        x = self.embedding(x)\n",
        "        x = self.positional_encoding(x)\n",
        "        for layer in self.layers:\n",
        "            x = layer(x, mask)\n",
        "        return x\n",
        "\n",
        "class ClassifierHead(nn.Module):\n",
        "    \"\"\"\n",
        "    Classifier head module.\n",
        "\n",
        "    Args:\n",
        "        d_model (int): Dimensionality of the input feature vectors.\n",
        "        num_classes (int): Number of classes.\n",
        "\n",
        "    Attributes:\n",
        "        fc (torch.nn.Linear): Linear layer for classification.\n",
        "    \"\"\"\n",
        "    def __init__(self, d_model, num_classes):\n",
        "        \"\"\"\n",
        "        Initialize classifier head with linear layer.\n",
        "\n",
        "        Args:\n",
        "            d_model (int): Dimensionality of the input feature vectors.\n",
        "            num_classes (int): Number of classes.\n",
        "        \"\"\"\n",
        "        super(ClassifierHead, self).__init__()\n",
        "        # Add linear layer for multiple-class classification\n",
        "        self.fc = nn.Linear(d_model, num_classes)\n",
        "\n",
        "    def forward(self, x):\n",
        "        \"\"\"\n",
        "        Forward pass of the classifier head.\n",
        "\n",
        "        Args:\n",
        "            x (torch.Tensor): Input tensor.\n",
        "\n",
        "        Returns:\n",
        "            torch.Tensor: Log class probabilities upon raw outputs.\n",
        "        \"\"\"\n",
        "        logits = self.fc(x[:, 0, :])\n",
        "        # Obtain log class probabilities upon raw outputs\n",
        "        return F.log_softmax(logits, dim=-1)"
      ],
      "metadata": {
        "id": "c7tjYzQG4PBN"
      },
      "id": "c7tjYzQG4PBN",
      "execution_count": 8,
      "outputs": []
    },
    {
      "cell_type": "markdown",
      "source": [
        "### Exercise 2.7: Testing the encoder transformer\n",
        "\n",
        "A random and simple sequence will be used as an input to the encoder transformer. Obtaining the output (that is not even human-readable) without any errors is sufficient for this exercise.\n",
        "\n",
        "The following components are adequate to form a full encoder transformer:\n",
        "* PositionalEncoder\n",
        "* MultiHeadAttention\n",
        "* FeedForwardSublayer\n",
        "* EncoderLayer\n",
        "* TransformerEncoder\n",
        "* ClassifierHead\n",
        "\n",
        "Note: although a random input sequence and mask are being used here, in practice, the mask should correspond to the actual location of padding tokens in the input sequences to ensure all of them are the same length.\n",
        "\n",
        "#### Instructions\n",
        "* Instantiate the body and head of the encoder transformer.\n",
        "* Complete the forward pass throughout the entire transformer body and head to obtain and print classification outputs."
      ],
      "metadata": {
        "id": "mdusUqHn4vrs"
      },
      "id": "mdusUqHn4vrs"
    },
    {
      "cell_type": "code",
      "source": [
        "num_classes = 3\n",
        "vocab_size = 10000\n",
        "batch_size = 8\n",
        "d_model = 512\n",
        "num_heads = 8\n",
        "num_layers = 6\n",
        "d_ff = 2048\n",
        "sequence_length = 64\n",
        "dropout = 0.1\n",
        "\n",
        "input_sequence = torch.randint(0, vocab_size, (batch_size, sequence_length))\n",
        "\n",
        "# input_sequence = torch.randint(0, vocab_size, (1, sequence_length))\n",
        "# for i in range(1,batch_size):\n",
        "#   input_sequence = torch.cat((input_sequence,(torch.randint(0, int(i*vocab_size/batch_size), (1, sequence_length)))))\n",
        "\n",
        "mask = torch.randint(0, 2, (sequence_length, sequence_length))\n",
        "\n",
        "# Instantiate the encoder transformer's body and head\n",
        "encoder = TransformerEncoder(vocab_size, d_model, num_layers, num_heads, d_ff, dropout, max_sequence_length=sequence_length)\n",
        "classifier = ClassifierHead(d_model, num_classes)\n",
        "\n",
        "# Complete the forward pass\n",
        "output = encoder(input_sequence, mask)\n",
        "classification_no_train = classifier(output)\n",
        "print(\"Classification outputs for a batch of \", batch_size, \"sequences:\")\n",
        "print(classification_no_train)"
      ],
      "metadata": {
        "colab": {
          "base_uri": "https://localhost:8080/"
        },
        "id": "vGvWfAbYr5Mv",
        "outputId": "53b053ba-b89d-4742-a481-12c220356ded"
      },
      "id": "vGvWfAbYr5Mv",
      "execution_count": 9,
      "outputs": [
        {
          "output_type": "stream",
          "name": "stdout",
          "text": [
            "Classification outputs for a batch of  8 sequences:\n",
            "tensor([[-0.6799, -1.5744, -1.2511],\n",
            "        [-1.1387, -0.8708, -1.3427],\n",
            "        [-0.3437, -2.6738, -1.5056],\n",
            "        [-0.9799, -1.7128, -0.8113],\n",
            "        [-1.3511, -1.8655, -0.5341],\n",
            "        [-0.7319, -1.5664, -1.1705],\n",
            "        [-0.4554, -2.1497, -1.3892],\n",
            "        [-0.7046, -2.4245, -0.8742]], grad_fn=<LogSoftmaxBackward0>)\n"
          ]
        }
      ]
    },
    {
      "cell_type": "code",
      "source": [
        "plt.imshow(input_sequence.detach().numpy())"
      ],
      "metadata": {
        "colab": {
          "base_uri": "https://localhost:8080/",
          "height": 141
        },
        "id": "MWO_4N1coiA8",
        "outputId": "8092c38c-efa4-4718-8bd0-02195a58ecac"
      },
      "id": "MWO_4N1coiA8",
      "execution_count": 10,
      "outputs": [
        {
          "output_type": "execute_result",
          "data": {
            "text/plain": [
              "<matplotlib.image.AxesImage at 0x7921b3630f10>"
            ]
          },
          "metadata": {},
          "execution_count": 10
        },
        {
          "output_type": "display_data",
          "data": {
            "text/plain": [
              "<Figure size 640x480 with 1 Axes>"
            ],
            "image/png": "[encoded data removed]"
          },
          "metadata": {}
        }
      ]
    },
    {
      "cell_type": "code",
      "source": [
        "plt.imshow(classification_no_train.detach().numpy())"
      ],
      "metadata": {
        "colab": {
          "base_uri": "https://localhost:8080/",
          "height": 447
        },
        "id": "aUXUSF4KkuUW",
        "outputId": "252ccd00-b37a-44fe-95b3-5438ab4f9b7d"
      },
      "id": "aUXUSF4KkuUW",
      "execution_count": 11,
      "outputs": [
        {
          "output_type": "execute_result",
          "data": {
            "text/plain": [
              "<matplotlib.image.AxesImage at 0x7921b33d8a60>"
            ]
          },
          "metadata": {},
          "execution_count": 11
        },
        {
          "output_type": "display_data",
          "data": {
            "text/plain": [
              "<Figure size 640x480 with 1 Axes>"
            ],
            "image/png": "[encoded data removed]"
          },
          "metadata": {}
        }
      ]
    },
    {
      "cell_type": "markdown",
      "source": [
        "The output is random, as expected from the random initialization of the learnable parameters."
      ],
      "metadata": {
        "id": "gXwAibBsZWOu"
      },
      "id": "gXwAibBsZWOu"
    },
    {
      "cell_type": "code",
      "source": [
        "import torch\n",
        "import torch.nn as nn\n",
        "import torch.optim as optim\n",
        "\n",
        "# Define your model\n",
        "num_classes = 3\n",
        "vocab_size = 10000\n",
        "batch_size = 8\n",
        "d_model = 512\n",
        "num_heads = 8\n",
        "num_layers = 6\n",
        "d_ff = 2048\n",
        "sequence_length = 64\n",
        "dropout = 0.1\n",
        "\n",
        "#input_sequence = torch.randint(0, vocab_size, (batch_size, sequence_length))\n",
        "#mask = torch.randint(0, 2, (sequence_length, sequence_length))\n",
        "\n",
        "encoder = TransformerEncoder(vocab_size, d_model, num_layers, num_heads, d_ff, dropout, max_sequence_length=sequence_length)\n",
        "classifier = ClassifierHead(d_model, num_classes)\n",
        "\n",
        "# Loss function and optimizer\n",
        "criterion = nn.CrossEntropyLoss()\n",
        "optimizer = optim.Adam(list(encoder.parameters()) + list(classifier.parameters()), lr=0.001)\n",
        "\n",
        "# Training loop\n",
        "num_epochs = 10\n",
        "for epoch in range(num_epochs):\n",
        "    optimizer.zero_grad()\n",
        "    output = encoder(input_sequence, mask)\n",
        "    classification = classifier(output)\n",
        "\n",
        "    # Assuming you have ground truth labels as 'targets'\n",
        "    targets = torch.randint(0, num_classes, (batch_size,))\n",
        "    loss = criterion(classification, targets)\n",
        "\n",
        "    loss.backward()\n",
        "    optimizer.step()\n",
        "\n",
        "    print(f\"Epoch [{epoch+1}/{num_epochs}], Loss: {loss.item():.4f}\")\n",
        "\n",
        "# After training, you can print the classification results\n",
        "print(\"Classification outputs for a batch of\", batch_size, \"sequences:\")\n",
        "print(classification)"
      ],
      "metadata": {
        "colab": {
          "base_uri": "https://localhost:8080/"
        },
        "id": "LFvCVz42kub2",
        "outputId": "362b7136-d27d-40bc-e9d3-e317a633a892"
      },
      "id": "LFvCVz42kub2",
      "execution_count": 12,
      "outputs": [
        {
          "output_type": "stream",
          "name": "stdout",
          "text": [
            "Epoch [1/10], Loss: 0.7984\n",
            "Epoch [2/10], Loss: 4.5634\n",
            "Epoch [3/10], Loss: 9.0654\n",
            "Epoch [4/10], Loss: 2.3856\n",
            "Epoch [5/10], Loss: 2.0482\n",
            "Epoch [6/10], Loss: 4.2777\n",
            "Epoch [7/10], Loss: 3.2620\n",
            "Epoch [8/10], Loss: 1.2600\n",
            "Epoch [9/10], Loss: 1.3995\n",
            "Epoch [10/10], Loss: 1.1762\n",
            "Classification outputs for a batch of 8 sequences:\n",
            "tensor([[-1.1156, -1.6686, -0.7261],\n",
            "        [-0.9897, -1.5805, -0.8617],\n",
            "        [-1.3808, -1.6927, -0.5717],\n",
            "        [-1.2781, -1.6242, -0.6456],\n",
            "        [-1.1045, -1.6854, -0.7272],\n",
            "        [-1.2882, -1.6726, -0.6228],\n",
            "        [-1.1993, -1.7213, -0.6544],\n",
            "        [-1.2404, -1.6762, -0.6470]], grad_fn=<LogSoftmaxBackward0>)\n"
          ]
        }
      ]
    },
    {
      "cell_type": "code",
      "source": [
        "plt.imshow(input_sequence)"
      ],
      "metadata": {
        "colab": {
          "base_uri": "https://localhost:8080/",
          "height": 141
        },
        "id": "jzEtkG0loCqn",
        "outputId": "79505379-6a98-4742-ada4-a9764b5c1ec3"
      },
      "id": "jzEtkG0loCqn",
      "execution_count": 13,
      "outputs": [
        {
          "output_type": "execute_result",
          "data": {
            "text/plain": [
              "<matplotlib.image.AxesImage at 0x7921b344b160>"
            ]
          },
          "metadata": {},
          "execution_count": 13
        },
        {
          "output_type": "display_data",
          "data": {
            "text/plain": [
              "<Figure size 640x480 with 1 Axes>"
            ],
            "image/png": "[encoded data removed]"
          },
          "metadata": {}
        }
      ]
    },
    {
      "cell_type": "code",
      "source": [
        "plt.imshow(classification.detach().numpy())"
      ],
      "metadata": {
        "colab": {
          "base_uri": "https://localhost:8080/",
          "height": 447
        },
        "id": "dEd-HYWxnpnX",
        "outputId": "be94131a-bcaa-4892-e4bc-0a87ba53b46b"
      },
      "id": "dEd-HYWxnpnX",
      "execution_count": 14,
      "outputs": [
        {
          "output_type": "execute_result",
          "data": {
            "text/plain": [
              "<matplotlib.image.AxesImage at 0x792193b8ea10>"
            ]
          },
          "metadata": {},
          "execution_count": 14
        },
        {
          "output_type": "display_data",
          "data": {
            "text/plain": [
              "<Figure size 640x480 with 1 Axes>"
            ],
            "image/png": "[encoded data removed]"
          },
          "metadata": {}
        }
      ]
    },
    {
      "cell_type": "markdown",
      "source": [
        "We have not arranged any viable feature for the input to the transformer model, so it is not possible to distinguish any of the inputs. However, it is plausible that three classes will align after some training. And here we are observing that classes somewhat align"
      ],
      "metadata": {
        "id": "eigZkj6sYcQd"
      },
      "id": "eigZkj6sYcQd"
    },
    {
      "cell_type": "markdown",
      "source": [
        "Note: Although a random input sequence and mask are being used here, in practice, the mask should correspond to the actual location of padding tokens in the input sequences to ensure all of them are the same length.\n",
        "\n",
        "We will come back to this mask again later to compare it with a causal mask."
      ],
      "metadata": {
        "id": "2XYFLPGATsRN"
      },
      "id": "2XYFLPGATsRN"
    },
    {
      "cell_type": "code",
      "source": [
        "plt.imshow(mask)"
      ],
      "metadata": {
        "colab": {
          "base_uri": "https://localhost:8080/",
          "height": 449
        },
        "id": "iC7VVr3PS4zm",
        "outputId": "b8af3ca8-2d8a-4a54-930a-e0b60825a2a6"
      },
      "id": "iC7VVr3PS4zm",
      "execution_count": 15,
      "outputs": [
        {
          "output_type": "execute_result",
          "data": {
            "text/plain": [
              "<matplotlib.image.AxesImage at 0x792193a12aa0>"
            ]
          },
          "metadata": {},
          "execution_count": 15
        },
        {
          "output_type": "display_data",
          "data": {
            "text/plain": [
              "<Figure size 640x480 with 1 Axes>"
            ],
            "image/png": "[encoded data removed]"
          },
          "metadata": {}
        }
      ]
    },
    {
      "cell_type": "markdown",
      "source": [
        "## Decoder Transformer\n",
        "Used for tasks like text generation, where the model generates text for a given input or prompt. Text generation occurs as a word at a time and conditions on itself (previously generated content) to generate new ones. GPT-3 (Generative Pre-trained Transformer 3) is a well-known Decoder Transformer.\n",
        "\n",
        "<div>\n",
        "<img src=\"https://github.com/caglarmert/DI725/blob/main/src/decoder_only_transformer.png?raw=true\" width=\"300\"/>\n",
        "</div>\n",
        "\n",
        "\n"
      ],
      "metadata": {
        "id": "g_yPohnTA6i4"
      },
      "id": "g_yPohnTA6i4"
    },
    {
      "cell_type": "markdown",
      "source": [
        "### Exercise 2.8: Decoder Layer\n",
        "\n",
        "The encoder layer is built similarly; what is the main difference between these two structures?\n",
        "\n",
        "\n",
        "#### Instructions\n",
        "* A multi-headed self-attention mechanism.\n",
        "* A feed-forward sublayer.\n",
        "* Normalization and dropout are to be applied."
      ],
      "metadata": {
        "id": "PgiCPIppxepa"
      },
      "id": "PgiCPIppxepa"
    },
    {
      "cell_type": "code",
      "source": [
        "class DecoderLayer(nn.Module):\n",
        "    \"\"\"\n",
        "    Decoder layer module.\n",
        "\n",
        "    Args:\n",
        "        d_model (int): Dimensionality of the input and output feature vectors.\n",
        "        num_heads (int): Number of attention heads.\n",
        "        d_ff (int): Dimensionality of the intermediate hidden layer in the feed-forward sub-layer.\n",
        "        dropout (float): Dropout probability.\n",
        "\n",
        "    Attributes:\n",
        "        self_attention (MultiHeadAttention): Multi-head self-attention mechanism.\n",
        "        norm1 (torch.nn.LayerNorm): Layer normalization for the first sub-layer.\n",
        "        feed_forward (FeedForwardSubLayer): Feed-forward sub-layer.\n",
        "        norm2 (torch.nn.LayerNorm): Layer normalization for the second sub-layer.\n",
        "        dropout (torch.nn.Dropout): Dropout layer.\n",
        "    \"\"\"\n",
        "\n",
        "    def __init__(self, d_model, num_heads, d_ff, dropout):\n",
        "        \"\"\"\n",
        "        Initialize decoder layer with multi-head self-attention and feed-forward sub-layer.\n",
        "        \"\"\"\n",
        "        super(DecoderLayer, self).__init__()\n",
        "        # Multi-head self-attention\n",
        "        self.self_attention = MultiHeadAttention(d_model, num_heads)\n",
        "        self.norm1 = nn.LayerNorm(d_model)\n",
        "        # Feedforward neural network\n",
        "        self.feed_forward = FeedForwardSubLayer(d_model, d_ff)\n",
        "        self.norm2 = nn.LayerNorm(d_model)\n",
        "        self.dropout = nn.Dropout(dropout)\n",
        "\n",
        "    def forward(self, x, self_mask):\n",
        "        \"\"\"\n",
        "        Forward pass of the decoder layer.\n",
        "\n",
        "        Args:\n",
        "            x (torch.Tensor): Input tensor.\n",
        "            self_mask (torch.Tensor): Mask tensor for self-attention mechanism.\n",
        "\n",
        "        Returns:\n",
        "            torch.Tensor: Output tensor after applying multi-head self-attention and feed-forward sub-layer.\n",
        "        \"\"\"\n",
        "        # Multi-head self-attention\n",
        "        attention_output = self.self_attention(x, x, x, self_mask)\n",
        "        x = x + self.dropout(attention_output)\n",
        "        x = self.norm1(x)\n",
        "\n",
        "        # Feedforward neural network\n",
        "        ff_output = self.feed_forward(x)\n",
        "        x = x + self.dropout(ff_output)\n",
        "        x = self.norm2(x)\n",
        "\n",
        "        return x"
      ],
      "metadata": {
        "id": "SHslCMRKxe18"
      },
      "id": "SHslCMRKxe18",
      "execution_count": 16,
      "outputs": []
    },
    {
      "cell_type": "markdown",
      "source": [
        "### Exercise 2.9: Building a decoder body and head\n",
        "\n",
        "A high-level structure for a decoder-only transformer will be implemented in this exercise. Unlike the encoder transformer, the model body and head are not separated in the decoder transformer. Instead, the decoder transformer contains the model head and body. The model body is a stack of decoder layers.\n",
        "\n",
        "#### Instructions\n",
        "* Add the linear layer for the model head inside the TransformerDecoder class.\n",
        "* Apply the last stage of the forward pass through the model head."
      ],
      "metadata": {
        "id": "mXXBXK9t5yFa"
      },
      "id": "mXXBXK9t5yFa"
    },
    {
      "cell_type": "code",
      "source": [
        "class TransformerDecoderOnly(nn.Module):\n",
        "    \"\"\"\n",
        "    Transformer decoder-only module for next-element prediction.\n",
        "\n",
        "    Args:\n",
        "        vocab_size (int): Vocabulary size.\n",
        "        d_model (int): Dimensionality of the input and output feature vectors.\n",
        "        num_layers (int): Number of decoder layers.\n",
        "        num_heads (int): Number of attention heads.\n",
        "        d_ff (int): Dimensionality of the intermediate hidden layer in the feed-forward sub-layer.\n",
        "        dropout (float): Dropout probability.\n",
        "        max_sequence_length (int): Maximum sequence length for positional encoding.\n",
        "\n",
        "    Attributes:\n",
        "        embedding (torch.nn.Embedding): Embedding layer.\n",
        "        positional_encoding (PositionalEncoding): Positional encoding layer.\n",
        "        layers (torch.nn.ModuleList): List of decoder layers.\n",
        "        fc (torch.nn.Linear): Linear layer for next-word prediction.\n",
        "    \"\"\"\n",
        "    def __init__(self, vocab_size, d_model, num_layers, num_heads, d_ff, dropout, max_sequence_length):\n",
        "        \"\"\"\n",
        "        Initialize transformer decoder-only with embedding, positional encoding, decoder layers, and linear layer for next-element prediction.\n",
        "        \"\"\"\n",
        "        super(TransformerDecoderOnly, self).__init__()\n",
        "        self.embedding = nn.Embedding(vocab_size, d_model)\n",
        "        self.positional_encoding = PositionalEncoding(d_model = d_model, max_len = max_sequence_length)\n",
        "        self.layers = nn.ModuleList([DecoderLayer(d_model, num_heads, d_ff, dropout) for _ in range(num_layers)])\n",
        "\n",
        "        # Add a linear layer (head) for next-word prediction\n",
        "        self.fc = nn.Linear(d_model, vocab_size)\n",
        "\n",
        "    def forward(self, x, self_mask):\n",
        "        \"\"\"\n",
        "        Forward pass of the transformer decoder-only for next-word prediction.\n",
        "\n",
        "        Args:\n",
        "            x (torch.Tensor): Input tensor.\n",
        "            self_mask (torch.Tensor): Mask tensor for self-attention mechanism.\n",
        "\n",
        "        Returns:\n",
        "            torch.Tensor: Log probabilities of the next words in the vocabulary.\n",
        "        \"\"\"\n",
        "        x = self.embedding(x)\n",
        "        x = self.positional_encoding(x)\n",
        "        for layer in self.layers:\n",
        "            x = layer(x, self_mask)\n",
        "\n",
        "        # Apply the forward pass through the model head\n",
        "        x = self.fc(x)\n",
        "        return F.log_softmax(x, dim=-1)"
      ],
      "metadata": {
        "id": "DGiGIeNm4PG3"
      },
      "id": "DGiGIeNm4PG3",
      "execution_count": 17,
      "outputs": []
    },
    {
      "cell_type": "markdown",
      "source": [
        "### Exercise 2.10: Testing the decoder transformer\n",
        "\n",
        "A random and simple sequence will be used as an input to the decoder transformer. Obtaining the output without any errors is sufficient for this exercise.\n",
        "\n",
        "The following components are adequate to form a full decoder transformer:\n",
        "* PositionalEncoder\n",
        "* MultiHeadAttention\n",
        "* FeedForwardSublayer\n",
        "* DecoderLayer\n",
        "* TransformerDecoder\n",
        "\n",
        "#### Instructions\n",
        "* Implement the decoder transformer with methods and classes defined before.\n",
        "* Complete the forward pass throughout the entire transformer body and head to obtain and print outputs."
      ],
      "metadata": {
        "id": "ahPqhTJ06BIP"
      },
      "id": "ahPqhTJ06BIP"
    },
    {
      "cell_type": "code",
      "source": [
        "vocab_size = 8\n",
        "batch_size = 8\n",
        "d_model = 16\n",
        "num_heads = 1\n",
        "num_layers = 6\n",
        "d_ff = 32\n",
        "sequence_length = 8\n",
        "dropout = 0.1\n",
        "\n",
        "input_sequence = torch.arange(0, sequence_length).unsqueeze(0).repeat(batch_size, 1)\n",
        "\n",
        "# Create a triangular attention mask for causal attention\n",
        "self_attention_mask = (1 - torch.triu(torch.ones(1, sequence_length, sequence_length), diagonal=1)).bool()\n",
        "print(\"The input sequence\")\n",
        "print(input_sequence)\n",
        "\n"
      ],
      "metadata": {
        "colab": {
          "base_uri": "https://localhost:8080/"
        },
        "id": "HFMAatSbvg5e",
        "outputId": "279213a4-6a74-4092-bfac-4d35e6db03f2"
      },
      "id": "HFMAatSbvg5e",
      "execution_count": 18,
      "outputs": [
        {
          "output_type": "stream",
          "name": "stdout",
          "text": [
            "The input sequence\n",
            "tensor([[0, 1, 2, 3, 4, 5, 6, 7],\n",
            "        [0, 1, 2, 3, 4, 5, 6, 7],\n",
            "        [0, 1, 2, 3, 4, 5, 6, 7],\n",
            "        [0, 1, 2, 3, 4, 5, 6, 7],\n",
            "        [0, 1, 2, 3, 4, 5, 6, 7],\n",
            "        [0, 1, 2, 3, 4, 5, 6, 7],\n",
            "        [0, 1, 2, 3, 4, 5, 6, 7],\n",
            "        [0, 1, 2, 3, 4, 5, 6, 7]])\n"
          ]
        }
      ]
    },
    {
      "cell_type": "code",
      "source": [
        "# Instantiate the decoder transformer\n",
        "decoder = TransformerDecoderOnly(vocab_size, d_model, num_layers, num_heads, d_ff, dropout, max_sequence_length=sequence_length)\n",
        "\n",
        "output = decoder(input_sequence, self_attention_mask)\n",
        "print(\"Shape of our output:\")\n",
        "print(output.shape)\n",
        "print(\"The first output we get:\")\n",
        "#print(output)\n",
        "\n",
        "def find_largest_index(arr):\n",
        "    max_index = 0\n",
        "    for i in range(1, len(arr)):\n",
        "        if arr[i] > arr[max_index]:\n",
        "            max_index = i\n",
        "    return max_index\n",
        "\n",
        "for i in output:\n",
        "  print(find_largest_index(i.detach().numpy()[0]))"
      ],
      "metadata": {
        "colab": {
          "base_uri": "https://localhost:8080/"
        },
        "id": "qZRP8ddDrRhf",
        "outputId": "9d00886c-692d-4f24-ec08-3116a45d4b1c"
      },
      "id": "qZRP8ddDrRhf",
      "execution_count": 19,
      "outputs": [
        {
          "output_type": "stream",
          "name": "stdout",
          "text": [
            "Shape of our output:\n",
            "torch.Size([8, 8, 8])\n",
            "The first output we get:\n",
            "6\n",
            "6\n",
            "6\n",
            "6\n",
            "6\n",
            "6\n",
            "6\n",
            "6\n"
          ]
        }
      ]
    },
    {
      "cell_type": "markdown",
      "source": [
        "Let's modify the decoder-transformer to be able to ouput a single value for a given sequence:"
      ],
      "metadata": {
        "id": "nuhjOuxetd_G"
      },
      "id": "nuhjOuxetd_G"
    },
    {
      "cell_type": "code",
      "source": [
        "decoder = TransformerDecoderOnly(vocab_size, d_model, num_layers, num_heads, d_ff, dropout, max_sequence_length=sequence_length)\n",
        "criterion = nn.CrossEntropyLoss()\n",
        "optimizer = optim.Adam(decoder.parameters(), lr=0.001)\n",
        "\n",
        "# Training loop\n",
        "num_epochs = 10\n",
        "for epoch in range(num_epochs):\n",
        "    optimizer.zero_grad()\n",
        "    output = decoder(input_sequence, self_attention_mask)\n",
        "\n",
        "    # Flatten the output and target tensors to have a consistent shape\n",
        "    output_flat = output.view(-1, batch_size)\n",
        "    target_flat = input_sequence.view(-1)\n",
        "\n",
        "    # Compute the loss\n",
        "    loss = criterion(output_flat, target_flat)\n",
        "\n",
        "    # Backpropagation and optimization step\n",
        "    loss.backward()\n",
        "    optimizer.step()\n",
        "\n",
        "    # Print the loss\n",
        "    print(f'Epoch [{epoch+1}/{num_epochs}], Loss: {loss.item()}')"
      ],
      "metadata": {
        "colab": {
          "base_uri": "https://localhost:8080/"
        },
        "id": "r-LqrnbDUAfN",
        "outputId": "d55c8462-c57f-40c3-f2b5-c2b2e0c3111c"
      },
      "id": "r-LqrnbDUAfN",
      "execution_count": 20,
      "outputs": [
        {
          "output_type": "stream",
          "name": "stdout",
          "text": [
            "Epoch [1/10], Loss: 2.012310028076172\n",
            "Epoch [2/10], Loss: 1.9606823921203613\n",
            "Epoch [3/10], Loss: 1.9396768808364868\n",
            "Epoch [4/10], Loss: 1.8573246002197266\n",
            "Epoch [5/10], Loss: 1.7921923398971558\n",
            "Epoch [6/10], Loss: 1.7225502729415894\n",
            "Epoch [7/10], Loss: 1.6462806463241577\n",
            "Epoch [8/10], Loss: 1.605931043624878\n",
            "Epoch [9/10], Loss: 1.5519427061080933\n",
            "Epoch [10/10], Loss: 1.5158100128173828\n"
          ]
        }
      ]
    },
    {
      "cell_type": "code",
      "source": [
        "for i in output:\n",
        "  print(find_largest_index(i.detach().numpy()[0]))"
      ],
      "metadata": {
        "colab": {
          "base_uri": "https://localhost:8080/"
        },
        "id": "AwQMGXCQxWI4",
        "outputId": "d6044023-f767-4793-e9ab-c47774235072"
      },
      "id": "AwQMGXCQxWI4",
      "execution_count": 21,
      "outputs": [
        {
          "output_type": "stream",
          "name": "stdout",
          "text": [
            "0\n",
            "0\n",
            "0\n",
            "0\n",
            "0\n",
            "0\n",
            "0\n",
            "0\n"
          ]
        }
      ]
    },
    {
      "cell_type": "markdown",
      "source": [
        "The triangular mask defined here is the causal mask that prohibits the decoder from observing the \"future\" or cheating. For the first element in the sequence, the decoder can only observe the first element; for the second, the second and the first; and for the nth element, the decoder can only observe elements (tokens) up to the nth element, basically the last generated element and all previous ones."
      ],
      "metadata": {
        "id": "4_p3PvxyTyyN"
      },
      "id": "4_p3PvxyTyyN"
    },
    {
      "cell_type": "code",
      "source": [
        "plt.imshow(self_attention_mask[0])"
      ],
      "metadata": {
        "colab": {
          "base_uri": "https://localhost:8080/",
          "height": 447
        },
        "id": "8IqI7WqJT77t",
        "outputId": "f1c05d83-e36d-42b7-cb37-80c2cc8e3461"
      },
      "id": "8IqI7WqJT77t",
      "execution_count": 22,
      "outputs": [
        {
          "output_type": "execute_result",
          "data": {
            "text/plain": [
              "<matplotlib.image.AxesImage at 0x792193a8ae90>"
            ]
          },
          "metadata": {},
          "execution_count": 22
        },
        {
          "output_type": "display_data",
          "data": {
            "text/plain": [
              "<Figure size 640x480 with 1 Axes>"
            ],
            "image/png": "[encoded data removed]"
          },
          "metadata": {}
        }
      ]
    },
    {
      "cell_type": "markdown",
      "source": [
        "## Encoder-Decoder Transformer\n",
        "It is useful for translation tasks where a given input text is required to be translated into an output in a target language. T5 (Text-to-Text Transfer Transformer) is a well-known encoder-decoder transformer that can also do summarization, question answering, and translation."
      ],
      "metadata": {
        "id": "Z-M0a32yA8yR"
      },
      "id": "Z-M0a32yA8yR"
    },
    {
      "cell_type": "markdown",
      "source": [
        "### Exercise 2.11: Incorporating cross-attention in a decoder\n",
        "\n",
        "In an encoder-decoder transformer, decoder layers incorporate two attention mechanisms: the causal attention inherent to any transformer decoder and a cross-attention that integrates source sequence information processed by the encoder with the target sequence information being processed through the decoder.\n",
        "\n",
        "\n",
        "<div>\n",
        "<img src=\"https://github.com/caglarmert/DI725/blob/main/src/Cross_attention.png?raw=true\" width=\"400\"/>\n",
        "</div>\n",
        "\n",
        "\n",
        "Modify the DecoderLayer class to incorporate this two-fold attention scheme.\n",
        "\n",
        "#### Instructions\n",
        "* Initialize the two attention mechanisms used in an encoder-decoder transformer's decoder layer: causal (masked) self-attention and cross-attention.\n",
        "* Pass the necessary input arguments (query, key, values, and mask) to the two attention stages in the forward pass."
      ],
      "metadata": {
        "id": "ZBaL5H4lKLlY"
      },
      "id": "ZBaL5H4lKLlY"
    },
    {
      "cell_type": "code",
      "source": [
        "class DecoderLayer(nn.Module):\n",
        "    \"\"\"\n",
        "    Decoder layer module.\n",
        "\n",
        "    Args:\n",
        "        d_model (int): Dimensionality of the input and output feature vectors.\n",
        "        num_heads (int): Number of attention heads.\n",
        "        d_ff (int): Dimensionality of the intermediate hidden layer in the feed-forward sub-layer.\n",
        "        dropout (float): Dropout probability.\n",
        "\n",
        "    Attributes:\n",
        "        self_attn (MultiHeadAttention): Multi-head self-attention mechanism.\n",
        "        cross_attn (MultiHeadAttention): Multi-head cross-attention mechanism.\n",
        "        feed_forward (FeedForwardSubLayer): Feed-forward sub-layer.\n",
        "        norm1 (torch.nn.LayerNorm): Layer normalization for the first sub-layer.\n",
        "        norm2 (torch.nn.LayerNorm): Layer normalization for the second sub-layer.\n",
        "        norm3 (torch.nn.LayerNorm): Layer normalization for the third sub-layer.\n",
        "        dropout (torch.nn.Dropout): Dropout layer.\n",
        "    \"\"\"\n",
        "    def __init__(self, d_model, num_heads, d_ff, dropout):\n",
        "        \"\"\"\n",
        "        Initialize decoder layer with multi-head self-attention, multi-head cross-attention, and feed-forward sub-layer.\n",
        "\n",
        "        Args:\n",
        "            d_model (int): Dimensionality of the input and output feature vectors.\n",
        "            num_heads (int): Number of attention heads.\n",
        "            d_ff (int): Dimensionality of the intermediate hidden layer in the feed-forward sub-layer.\n",
        "            dropout (float): Dropout probability.\n",
        "        \"\"\"\n",
        "        super(DecoderLayer, self).__init__()\n",
        "\n",
        "        # Initialize the causal (masked) self-attention and cross-attention\n",
        "        self.self_attn = MultiHeadAttention(d_model, num_heads)\n",
        "        self.cross_attn = MultiHeadAttention(d_model, num_heads)\n",
        "        self.feed_forward = FeedForwardSubLayer(d_model, d_ff)\n",
        "        self.norm1 = nn.LayerNorm(d_model)\n",
        "        self.norm2 = nn.LayerNorm(d_model)\n",
        "        self.norm3 = nn.LayerNorm(d_model)\n",
        "        self.dropout = nn.Dropout(dropout)\n",
        "\n",
        "    def forward(self, x, causal_mask, encoder_output, cross_mask):\n",
        "        \"\"\"\n",
        "        Forward pass of the decoder layer.\n",
        "\n",
        "        Args:\n",
        "            x (torch.Tensor): Input tensor.\n",
        "            causal_mask (torch.Tensor): Mask tensor for causal self-attention mechanism.\n",
        "            encoder_output (torch.Tensor): Encoder output tensor.\n",
        "            cross_mask (torch.Tensor): Mask tensor for cross-attention mechanism.\n",
        "\n",
        "        Returns:\n",
        "            torch.Tensor: Output tensor after applying multi-head self-attention, multi-head cross-attention, and feed-forward sub-layer.\n",
        "        \"\"\"\n",
        "        # Pass the necessary arguments to the causal self-attention and cross-attention\n",
        "        self_attn_output = self.self_attn(x, x, x, causal_mask)\n",
        "        x = self.norm1(x + self.dropout(self_attn_output))\n",
        "        cross_attn_output = self.cross_attn(x, encoder_output, encoder_output, cross_mask)\n",
        "        # (query, key, values, and mask)\n",
        "        x = self.norm2(x + self.dropout(cross_attn_output))\n",
        "        ff_output = self.feed_forward(x)\n",
        "        x = self.norm3(x + self.dropout(ff_output))\n",
        "        return x"
      ],
      "metadata": {
        "id": "7drUCHLr6Kb5"
      },
      "id": "7drUCHLr6Kb5",
      "execution_count": 23,
      "outputs": []
    },
    {
      "cell_type": "markdown",
      "source": [
        "### Exercise 2.12: Updating Decoder Transformer"
      ],
      "metadata": {
        "id": "l_m2lLe35zyd"
      },
      "id": "l_m2lLe35zyd"
    },
    {
      "cell_type": "code",
      "source": [
        "class TransformerDecoder(nn.Module):\n",
        "    \"\"\"\n",
        "    Transformer decoder module.\n",
        "\n",
        "    Args:\n",
        "        vocab_size (int): Vocabulary size.\n",
        "        d_model (int): Dimensionality of the input and output feature vectors.\n",
        "        num_layers (int): Number of decoder layers.\n",
        "        num_heads (int): Number of attention heads.\n",
        "        d_ff (int): Dimensionality of the intermediate hidden layer in the feed-forward sub-layer.\n",
        "        dropout (float): Dropout probability.\n",
        "        max_sequence_length (int): Maximum sequence length for positional encoding.\n",
        "\n",
        "    Attributes:\n",
        "        embedding (torch.nn.Embedding): Embedding layer.\n",
        "        positional_encoding (PositionalEncoding): Positional encoding layer.\n",
        "        layers (torch.nn.ModuleList): List of decoder layers.\n",
        "    \"\"\"\n",
        "    def __init__(self, vocab_size, d_model, num_layers, num_heads, d_ff, dropout, max_sequence_length):\n",
        "        \"\"\"\n",
        "        Initialize transformer decoder with embedding, positional encoding, and decoder layers.\n",
        "        \"\"\"\n",
        "        super(TransformerDecoder, self).__init__()\n",
        "        self.embedding = nn.Embedding(vocab_size, d_model)\n",
        "        self.positional_encoding = PositionalEncoding(d_model = d_model, max_len = max_sequence_length)\n",
        "        self.layers = nn.ModuleList([DecoderLayer(d_model, num_heads, d_ff, dropout) for _ in range(num_layers)])\n",
        "\n",
        "    def forward(self, x, causal_mask, encoder_output, cross_mask):\n",
        "        \"\"\"\n",
        "        Forward pass of the transformer decoder.\n",
        "\n",
        "        Args:\n",
        "            x (torch.Tensor): Input tensor.\n",
        "            causal_mask (torch.Tensor): Mask tensor for causal self-attention mechanism.\n",
        "            encoder_output (torch.Tensor): Encoder output tensor.\n",
        "            cross_mask (torch.Tensor): Mask tensor for cross-attention mechanism.\n",
        "\n",
        "        Returns:\n",
        "            torch.Tensor: Output tensor after decoding.\n",
        "        \"\"\"\n",
        "        x = self.embedding(x)\n",
        "        x = self.positional_encoding(x)\n",
        "        for layer in self.layers:\n",
        "            x = layer(x, causal_mask, encoder_output, cross_mask)\n",
        "        return x"
      ],
      "metadata": {
        "id": "xJgCmGfv5t1h"
      },
      "id": "xJgCmGfv5t1h",
      "execution_count": 24,
      "outputs": []
    },
    {
      "cell_type": "markdown",
      "source": [
        "### Exercise 2.13: Trying out an encoder-decoder transformer\n",
        "Your next task is to complete the following piece of code to define and forward-pass an example batch of randomly generated input sequences through an encoder-decoder transformer.\n",
        "\n",
        "Remember that we are only testing a yet-to-be-trained transformer architecture, hence the use of random input sequences.\n",
        "\n",
        "The following components are required to form a full encoder-decoder transformer:\n",
        "* MultiHeadAttention\n",
        "* FeedForwardSubLayer\n",
        "* PositionalEncoding\n",
        "* EncoderLayer\n",
        "* DecoderLayer\n",
        "* TransformerEncoder\n",
        "* TransformerDecoder\n",
        "* ClassifierHead\n",
        "\n",
        "\n",
        "#### Instructions\n",
        "\n",
        "* Create a batch of random input sequences of size batch_size X sequence_length.\n",
        "* Instantiate the two transformer bodies using the appropriate class names.\n",
        "* Pass the necessary masks as arguments to the encoder and the decoder for their underlying attention mechanisms; each mask argument should be added in the same order they are utilized inside the encoder or decoder layer."
      ],
      "metadata": {
        "id": "XEr8387SKV65"
      },
      "id": "XEr8387SKV65"
    },
    {
      "cell_type": "code",
      "source": [
        "vocab_size = 8\n",
        "batch_size = 1\n",
        "d_model = 8\n",
        "num_heads = 8\n",
        "num_layers = 6\n",
        "d_ff = 16\n",
        "sequence_length = 8\n",
        "dropout = 0.1\n",
        "\n",
        "\n",
        "# Create a batch of random input sequences\n",
        "#input_sequence = torch.randint(0, vocab_size, (batch_size, sequence_length))\n",
        "\n",
        "input_sequence = torch.arange(0, sequence_length).unsqueeze(0).repeat(batch_size, 1)\n",
        "\n",
        "padding_mask = torch.randint(0, 2, (sequence_length, sequence_length))\n",
        "causal_mask = torch.triu(torch.ones(sequence_length, sequence_length), diagonal=1)\n",
        "\n",
        "# Instantiate the two transformer bodies\n",
        "encoder = TransformerEncoder(vocab_size, d_model, num_layers, num_heads, d_ff, dropout, max_sequence_length=sequence_length)\n",
        "decoder = TransformerDecoder(vocab_size, d_model, num_layers, num_heads, d_ff, dropout, max_sequence_length=sequence_length)\n",
        "\n",
        "# Pass the necessary masks as arguments to the encoder and the decoder\n",
        "encoder_output = encoder(input_sequence, padding_mask)\n",
        "decoder_output = decoder(input_sequence, causal_mask, encoder_output, padding_mask)\n",
        "print(\"Batch's output shape: \", decoder_output.shape)"
      ],
      "metadata": {
        "id": "PF-GaVkHKAQK",
        "colab": {
          "base_uri": "https://localhost:8080/"
        },
        "outputId": "eb395a2e-e404-4032-ff79-b5bca3a71fc1"
      },
      "id": "PF-GaVkHKAQK",
      "execution_count": 43,
      "outputs": [
        {
          "output_type": "stream",
          "name": "stdout",
          "text": [
            "Batch's output shape:  torch.Size([1, 8, 8])\n"
          ]
        }
      ]
    },
    {
      "cell_type": "markdown",
      "source": [
        "Let's check the causal mask for the Encoder-Decoder Transformer"
      ],
      "metadata": {
        "id": "gK_WUwsNU2ZH"
      },
      "id": "gK_WUwsNU2ZH"
    },
    {
      "cell_type": "code",
      "source": [
        "plt.imshow(causal_mask)"
      ],
      "metadata": {
        "colab": {
          "base_uri": "https://localhost:8080/",
          "height": 447
        },
        "id": "ypAizhx3U2hF",
        "outputId": "d884382e-a9b5-4cef-ba0c-9a14c3eeb3dc"
      },
      "id": "ypAizhx3U2hF",
      "execution_count": 40,
      "outputs": [
        {
          "output_type": "execute_result",
          "data": {
            "text/plain": [
              "<matplotlib.image.AxesImage at 0x7921936d7100>"
            ]
          },
          "metadata": {},
          "execution_count": 40
        },
        {
          "output_type": "display_data",
          "data": {
            "text/plain": [
              "<Figure size 640x480 with 1 Axes>"
            ],
            "image/png": "[encoded data removed]"
          },
          "metadata": {}
        }
      ]
    },
    {
      "cell_type": "markdown",
      "source": [
        "As we have seen in Decoder-Transformer, the causal mask is again a diagonal matrix that disables the capability of the Decoder part to see the future elements in a sequence."
      ],
      "metadata": {
        "id": "MScLkKJvLqTH"
      },
      "id": "MScLkKJvLqTH"
    },
    {
      "cell_type": "code",
      "source": [
        "# Loss and Optimizer\n",
        "criterion = nn.CrossEntropyLoss()\n",
        "optimizer = optim.Adam(list(encoder.parameters()) + list(decoder.parameters()), lr=0.001)\n",
        "target_sequence = input_sequence.roll(2)\n",
        "print(\"Input sequence\")\n",
        "print(input_sequence[0])\n",
        "print(\"Target sequence (Translated)\")\n",
        "print(target_sequence[0])\n",
        "# Training loop\n",
        "num_epochs = 10\n",
        "for epoch in range(num_epochs):\n",
        "    optimizer.zero_grad()\n",
        "    encoder_output = encoder(input_sequence, padding_mask)\n",
        "    decoder_output = decoder(input_sequence, causal_mask, encoder_output, padding_mask)\n",
        "    loss = criterion(decoder_output.view(-1, vocab_size), target_sequence.view(-1))\n",
        "    loss.backward()\n",
        "    optimizer.step()\n",
        "    print(f'Epoch [{epoch+1}/{num_epochs}], Loss: {loss.item()}')\n",
        "\n",
        "print(\"Batch's output shape: \", decoder_output.shape)\n",
        "print(\"Output sequence:\")\n",
        "\n",
        "\n",
        "print(decoder_output)"
      ],
      "metadata": {
        "id": "JiOoHZxXZn24",
        "colab": {
          "base_uri": "https://localhost:8080/"
        },
        "outputId": "94a7c06a-73b0-4841-d33a-c5747dee4595"
      },
      "id": "JiOoHZxXZn24",
      "execution_count": 48,
      "outputs": [
        {
          "output_type": "stream",
          "name": "stdout",
          "text": [
            "Input sequence\n",
            "tensor([0, 1, 2, 3, 4, 5, 6, 7])\n",
            "Target sequence (Translated)\n",
            "tensor([6, 7, 0, 1, 2, 3, 4, 5])\n",
            "Epoch [1/10], Loss: 1.5360623598098755\n",
            "Epoch [2/10], Loss: 1.2963014841079712\n",
            "Epoch [3/10], Loss: 1.4941062927246094\n",
            "Epoch [4/10], Loss: 1.2509400844573975\n",
            "Epoch [5/10], Loss: 1.3432285785675049\n",
            "Epoch [6/10], Loss: 1.2130272388458252\n",
            "Epoch [7/10], Loss: 1.4588944911956787\n",
            "Epoch [8/10], Loss: 1.2850843667984009\n",
            "Epoch [9/10], Loss: 1.1765985488891602\n",
            "Epoch [10/10], Loss: 1.0865533351898193\n",
            "Batch's output shape:  torch.Size([1, 8, 8])\n",
            "Output sequence:\n",
            "tensor([[[ 0.4860, -0.4134, -0.3374, -0.2117,  0.4447, -0.0075,  1.9787,\n",
            "          -1.8795],\n",
            "         [-0.2459,  0.7748, -1.1490,  0.8151,  0.1305,  0.5500, -1.9239,\n",
            "           1.0402],\n",
            "         [ 1.4748, -2.3172,  0.1595,  0.3458,  0.3596,  0.3298, -0.4330,\n",
            "           0.0797],\n",
            "         [-0.2624,  2.2460, -0.8528,  0.6607,  0.1831,  0.0437, -0.9323,\n",
            "          -1.0200],\n",
            "         [ 0.0594, -1.3513,  2.3069, -0.2692,  0.3311, -0.0823, -0.0789,\n",
            "          -0.8742],\n",
            "         [-1.7050, -0.0156,  0.0600,  0.7687,  0.6456,  1.0238, -1.5121,\n",
            "           0.6959],\n",
            "         [-0.2057, -1.2485,  0.6073,  0.7752,  1.2247,  0.2769, -1.8606,\n",
            "           0.4178],\n",
            "         [ 1.2407,  0.0834, -0.6991,  0.2025,  0.1616,  0.5694, -2.2269,\n",
            "           0.6846]]], grad_fn=<NativeLayerNormBackward0>)\n"
          ]
        }
      ]
    },
    {
      "cell_type": "code",
      "source": [
        "decoder_output"
      ],
      "metadata": {
        "colab": {
          "base_uri": "https://localhost:8080/"
        },
        "id": "55i-chIZ2XmJ",
        "outputId": "5bc4ad62-6ea8-4160-bf63-6b53d9c62549"
      },
      "id": "55i-chIZ2XmJ",
      "execution_count": 45,
      "outputs": [
        {
          "output_type": "execute_result",
          "data": {
            "text/plain": [
              "tensor([[[-0.0913, -0.8086, -0.7128,  1.7192, -0.6575,  1.3824,  0.3014,\n",
              "          -1.1346],\n",
              "         [ 0.2338, -0.4850,  0.7448,  1.1701,  0.1801,  1.0284, -1.9044,\n",
              "          -0.9604],\n",
              "         [ 0.0445, -1.1832, -0.4213,  0.5454, -0.5995,  0.6035, -1.0103,\n",
              "           2.0667],\n",
              "         [ 0.1964, -0.3723,  0.0992,  1.3224, -0.3444,  1.3633, -1.9458,\n",
              "          -0.3030],\n",
              "         [ 0.1757, -1.6825,  1.1730,  1.3938,  0.1035,  0.4107, -0.3964,\n",
              "          -1.1766],\n",
              "         [-1.2178, -1.3972, -0.3087,  0.5026, -0.1492,  1.3949, -0.2344,\n",
              "           1.4320],\n",
              "         [-0.7529, -1.4526, -0.7280,  0.8835,  0.1091,  1.5764, -0.5956,\n",
              "           0.9810],\n",
              "         [-0.1124, -1.1838,  0.7548, -0.6538,  0.2591,  0.1663, -1.1903,\n",
              "           2.0044]]], grad_fn=<NativeLayerNormBackward0>)"
            ]
          },
          "metadata": {},
          "execution_count": 45
        }
      ]
    },
    {
      "cell_type": "markdown",
      "source": [],
      "metadata": {
        "id": "inYNlUH7WJJH"
      },
      "id": "inYNlUH7WJJH"
    },
    {
      "cell_type": "code",
      "source": [
        "# Initialize positional encoding layer and stack of EncoderLayer modules\n",
        "class TransformerEncoderOnly(nn.Module):\n",
        "    def __init__(self, vocab_size, d_model, num_heads, num_layers, d_ff, max_seq_len, dropout):\n",
        "        super(TransformerEncoderOnly, self).__init__()\n",
        "        self.embedding = nn.Embedding(vocab_size, d_model)\n",
        "        self.positional_encoding = PositionalEncoding(d_model, max_seq_len)\n",
        "        self.layers = nn.ModuleList([EncoderLayer(d_model, num_heads, d_ff, dropout) for _ in range(num_layers)])\n",
        "        self.dropout = nn.Dropout(dropout)\n",
        "\n",
        "    def forward(self, x, mask):\n",
        "        x = self.embedding(x)\n",
        "        x = self.positional_encoding(x)\n",
        "        x = self.dropout(x)\n",
        "\n",
        "        # Pass the sequence through each layer in the encoder\n",
        "        for layer in self.layers:\n",
        "            x = layer(x, mask)\n",
        "\n",
        "        return x\n",
        "\n",
        "class TransformerModel(nn.Module):\n",
        "    def __init__(self, vocab_size, d_model, num_heads, num_layers, d_ff, max_seq_len, dropout):\n",
        "        super(TransformerModel, self).__init__()\n",
        "        # Initialize the encoder stack of the Transformer\n",
        "        self.encoder = TransformerEncoderOnly(vocab_size, d_model, num_heads, num_layers, d_ff, max_seq_len, dropout)\n",
        "\n",
        "    def forward(self, src, src_mask):\n",
        "        encoder_output = self.encoder(src, src_mask)\n",
        "        return encoder_output"
      ],
      "metadata": {
        "id": "1UpHoIVrWJTO"
      },
      "id": "1UpHoIVrWJTO",
      "execution_count": null,
      "outputs": []
    },
    {
      "cell_type": "markdown",
      "source": [
        "# Conclusion\n",
        "\n",
        "In this exercise, we have seen the vanilla transformer from the paper Attention Is All You Need by Vaswani et al. and implemented its components from scratch with PyTorch. Experimenting with different hyperparameters that define the deep learning model architecture or training structure is highly recommended as an extra follow-up exercise!\n",
        "\n",
        "We have seen three different implementations of transformers, namely the Encoder-Transformer, Decoder-Transformer and Encoder-Decoder (Vanilla) Transformer. We built them with basic building blocks and tested their input-output pipeline. We have also tested a very brief dummy training example that demonstrates the learning capability to some extent."
      ],
      "metadata": {
        "id": "cfGTqC7BLquJ"
      },
      "id": "cfGTqC7BLquJ"
    },
    {
      "cell_type": "markdown",
      "source": [
        "# Questions\n",
        "1. What is the purpose of the mask (self_attention_mask) defined in 2.10?\n",
        "1. Why do we use split heads in attention mechanism?\n",
        "1. What is the difference between self attention and cross attention?\n",
        "1.\n",
        "\n"
      ],
      "metadata": {
        "id": "2h9D82qP3GHp"
      },
      "id": "2h9D82qP3GHp"
    },
    {
      "cell_type": "markdown",
      "source": [
        "# References\n",
        "References and further tutorials to check out:\n",
        "1. The paper, Attention is all you need, the transformer paper that introduced a whole new way of approaching deep learning: https://arxiv.org/abs/1706.03762\n",
        "1. A solid blog that explains the Transformer architecture and its sub components: https://buomsoo-kim.github.io/attention/2020/04/19/Attention-mechanism-17.md/\n",
        "1. Training a Transformer model, with a real dataset: https://buomsoo-kim.github.io/attention/2020/04/20/Attention-mechanism-18.md/\n",
        "1. Further explanations on top of previous posts https://buomsoo-kim.github.io/attention/2020/04/21/Attention-mechanism-19.md/\n",
        "1. Another Transformer tutorial: https://towardsdatascience.com/a-detailed-guide-to-pytorchs-nn-transformer-module-c80afbc9ffb1\n",
        "1. The annotated Transformer, updated for newer version of PyTorch, an excellent guide that uses the original authors sentences and implement everything (just like we did in this tutorial): https://nlp.seas.harvard.edu/annotated-transformer/\n",
        "1. PyTorch's documentation for Transformers and other helper libraries: https://pytorch.org/tutorials/beginner/transformer_tutorial.html\n",
        "1. Dive into Deep Learning tutorial that uses their version of libraries, a different take on Transformer model implementation: https://d2l.ai/chapter_attention-mechanisms-and-transformers/self-attention-and-positional-encoding.html\n",
        "\n"
      ],
      "metadata": {
        "id": "vQypvqNHYw_x"
      },
      "id": "vQypvqNHYw_x"
    }
  ],
  "metadata": {
    "kernelspec": {
      "display_name": "Python 3",
      "name": "python3"
    },
    "language_info": {
      "codemirror_mode": {
        "name": "ipython",
        "version": 3
      },
      "file_extension": ".py",
      "mimetype": "text/x-python",
      "name": "python",
      "nbconvert_exporter": "python",
      "pygments_lexer": "ipython3",
      "version": "3.11.5"
    },
    "colab": {
      "provenance": [],
      "toc_visible": true,
      "include_colab_link": true
    }
  },
  "nbformat": 4,
  "nbformat_minor": 5
}