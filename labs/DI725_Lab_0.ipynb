{
 "cells": [
  {
   "cell_type": "markdown",
   "id": "3745686a-405f-4729-a239-ffd17f6c5087",
   "metadata": {},
   "source": [
    "# DI 725: Transformers and Attention-Based Deep Networks\n",
    "\n",
    "## An End-to-End Tutorial for Implementing Transformers\n",
    "\n",
    "### Authors: ttemizel@metu.edu.tr atemizel@metu.edu.tr mecaglar@metu.edu.tr"
   ]
  },
  {
   "cell_type": "markdown",
   "id": "c0f81a53-355d-456d-90d1-9b5432dd1ce7",
   "metadata": {},
   "source": [
    "# Introduction"
   ]
  },
  {
   "cell_type": "markdown",
   "id": "c5125f78-dea0-4c0e-ab42-5978b7b2633e",
   "metadata": {},
   "source": [
    "<div>\n",
    "<img src=\"https://github.com/caglarmert/DI725/blob/main/src/attention_research_1.png?raw=true\" width=\"500\"/>\n",
    "</div>"
   ]
  },
  {
   "cell_type": "code",
   "execution_count": null,
   "id": "70a9b2e0-fdb5-4697-a48f-44d1a08503f8",
   "metadata": {},
   "outputs": [],
   "source": []
  },
  {
   "cell_type": "code",
   "execution_count": null,
   "id": "380575a2-84dd-4d94-bf60-83fbd3114e47",
   "metadata": {},
   "outputs": [],
   "source": []
  },
  {
   "cell_type": "code",
   "execution_count": null,
   "id": "2fe2786e-3f75-4764-9462-f6ad0f1f7cb1",
   "metadata": {},
   "outputs": [],
   "source": []
  },
  {
   "cell_type": "markdown",
   "id": "1cce3f17-cf16-4b8e-be4c-769adba52eb2",
   "metadata": {},
   "source": [
    "# Introduction"
   ]
  },
  {
   "cell_type": "code",
   "execution_count": null,
   "id": "b1fb67b6-5884-40ae-9b54-78192b5506d4",
   "metadata": {},
   "outputs": [],
   "source": []
  },
  {
   "cell_type": "code",
   "execution_count": null,
   "id": "f32a3f9f-f65c-450c-b49d-d849b0cdf617",
   "metadata": {},
   "outputs": [],
   "source": []
  }
 ],
 "metadata": {
  "kernelspec": {
   "display_name": "Python 3 (ipykernel)",
   "language": "python",
   "name": "python3"
  },
  "language_info": {
   "codemirror_mode": {
    "name": "ipython",
    "version": 3
   },
   "file_extension": ".py",
   "mimetype": "text/x-python",
   "name": "python",
   "nbconvert_exporter": "python",
   "pygments_lexer": "ipython3",
   "version": "3.11.5"
  }
 },
 "nbformat": 4,
 "nbformat_minor": 5
}
